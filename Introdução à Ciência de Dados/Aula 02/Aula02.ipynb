{
 "metadata": {
  "language_info": {
   "codemirror_mode": {
    "name": "ipython",
    "version": 3
   },
   "file_extension": ".py",
   "mimetype": "text/x-python",
   "name": "python",
   "nbconvert_exporter": "python",
   "pygments_lexer": "ipython3",
   "version": 3
  },
  "orig_nbformat": 2
 },
 "nbformat": 4,
 "nbformat_minor": 2,
 "cells": [
  {
   "source": [
    "<h2>Selecionando Métodos e Ajustando Modelos</h2>"
   ],
   "cell_type": "markdown",
   "metadata": {}
  },
  {
   "source": [
    "<h4>Aprendizagem Supervisionada</h4>\n",
    "\n",
    "- Feita a partir de observações já existentes\n",
    "- Separa-se um conjunto de dados para treino do modelo - P% - e o restante para teste do modelo - (1-P)%\n",
    "\n",
    "$y = f(X,\\theta) + \\epsilon$"
   ],
   "cell_type": "markdown",
   "metadata": {}
  },
  {
   "source": [
    "<h4>Regressão</h4>\n",
    "\n",
    "- Realizada com valores reais ($y \\in R$)"
   ],
   "cell_type": "markdown",
   "metadata": {}
  },
  {
   "source": [
    "<h3>Método hold-out</h3>\n",
    "\n",
    "<b>Primeira rodada de treino</b>\n",
    "- p% para treino\n",
    "- (1-p)% para teste\n",
    "\n",
    "<b>Segunda rodade de treino</b>\n",
    "- (1-p)% para teste\n",
    "- Uma parte dos dados de treino são usados para validação e <b>tunagem</b>"
   ],
   "cell_type": "markdown",
   "metadata": {}
  },
  {
   "source": [
    "<h3>Aprendizado de Máquina</h3>\n",
    "\n",
    "Basicamente, possui 3 componentes:\n",
    "\n",
    "- O conjunto de dados $D = (X,y)$\n",
    "    - X é a matriz de variáveis independentes e y é o vetor de variáveis dependentes\n",
    "\n",
    "- O modelo estimado $f(x,\\theta)$\n",
    "    - função dos parâmetros $\\theta$\n",
    "\n",
    "- O Custo $C(y,f(x,\\theta))$ \n",
    "    - permite verificar o quanto o modelo é adequado para predizer y\n",
    "    - basicamente, é uma distância vetorial entre o ponto e a função modelo\n",
    "    - busca-se o menor custo possível \n",
    "\n",
    "* Complexidade do modelo: grau do polinômio (M)\n"
   ],
   "cell_type": "markdown",
   "metadata": {}
  },
  {
   "source": [
    "Escolha dos Modelos\n",
    "\n",
    "- relação bias-variance\n",
    "\n",
    "    - alto viés e baixa variância\n",
    "    - baixo viés e alta variância\n",
    "\n"
   ],
   "cell_type": "markdown",
   "metadata": {}
  },
  {
   "source": [
    "Validação Cruzada\n",
    "\n",
    "- Todos os dados rotulados são usados\n",
    "    - Basta dividir em alguns conjuntos de dados (folds):\n",
    "        - 1 para teste, total-1 para treino\n",
    "\n",
    "\n",
    "Validação Cruzada Estratificada\n",
    "\n",
    "- Manter a proporção de classes nos folds (ex: 75% homens e 25% mulheres)"
   ],
   "cell_type": "markdown",
   "metadata": {}
  }
 ]
}