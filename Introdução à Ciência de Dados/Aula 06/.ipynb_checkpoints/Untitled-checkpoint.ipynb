{
 "cells": [
  {
   "cell_type": "markdown",
   "id": "friendly-spokesman",
   "metadata": {},
   "source": [
    "Resolução da avaliação semanal"
   ]
  },
  {
   "cell_type": "markdown",
   "id": "adjacent-roots",
   "metadata": {},
   "source": [
    "Questão 4\n",
    "\n",
    "base de dados: 'vertebralcolumn-2C'\n",
    "\n",
    "Naive-Bayes\n",
    "\n",
    "p=0.2\n",
    "\n",
    "método hold-out (validação cruzada)\n",
    "\n",
    "round 1 casa decimal"
   ]
  },
  {
   "cell_type": "code",
   "execution_count": 5,
   "id": "organic-america",
   "metadata": {},
   "outputs": [],
   "source": [
    "import pandas as pd\n",
    "import numpy as np\n",
    "import matplotlib.pyplot as plt\n",
    "from sklearn.preprocessing import StandardScaler\n",
    "from sklearn.linear_model import LogisticRegression\n",
    "from sklearn import metrics\n",
    "\n",
    "np.random.seed(42) # define the seed (important to reproduce the results)\n",
    "\n",
    "data = pd.read_csv('data/vertebralcolumn-2C.csv', header=(0))\n",
    "data = data.dropna(axis='rows') #remove NaN\n",
    "\n",
    "data = data.to_numpy()\n",
    "nrow,ncol = data.shape\n",
    "y = data[:,-1]\n",
    "X = data[:,0:ncol-1]\n",
    "\n",
    "scaler = StandardScaler().fit(X)\n",
    "X = scaler.transform(X)\n",
    "\n",
    "from sklearn.model_selection import train_test_split\n",
    "p = 0.2 # fraction of elements in the test set\n",
    "x_train, x_test, y_train, y_test = train_test_split(X, y, test_size = p, random_state = 42)"
   ]
  },
  {
   "cell_type": "code",
   "execution_count": 11,
   "id": "voluntary-alloy",
   "metadata": {},
   "outputs": [
    {
     "data": {
      "image/png": "[encoded data removed]",
      "text/plain": [
       "<Figure size 432x288 with 1 Axes>"
      ]
     },
     "metadata": {
      "needs_background": "light"
     },
     "output_type": "display_data"
    },
    {
     "name": "stdout",
     "output_type": "stream",
     "text": [
      "Melhor k: 12 \n",
      "\n",
      "Score para k = 12: 0.8\n"
     ]
    }
   ],
   "source": [
    "from sklearn.model_selection import cross_validate\n",
    "from sklearn.neighbors import KNeighborsClassifier\n",
    "\n",
    "nkf = 5 #number of folds\n",
    "vk = [] # armazena os valores de k\n",
    "vscore = []\n",
    "for k in range(1, 20):\n",
    "    model = KNeighborsClassifier(n_neighbors=k, metric = 'euclidean')\n",
    "    # realiza a validação cruzada\n",
    "    cv = cross_validate(model, x_train, y_train, cv=nkf)\n",
    "    #print('k:', k, 'accurace:', cv['test_score'].mean())\n",
    "    vscore.append(cv['test_score'].mean()) \n",
    "    vk.append(k)\n",
    "\n",
    "plt.plot(vk, vscore, '-bo')\n",
    "plt.xlabel('k', fontsize = 15)\n",
    "plt.ylabel('Accuracy', fontsize = 15)\n",
    "plt.show(True)\n",
    "best_k = np.argmax(vscore)+1\n",
    "print('Melhor k:', best_k, '\\n\\nScore para k = {}:'.format(best_k), round(max(vscore),1))"
   ]
  },
  {
   "cell_type": "markdown",
   "id": "swedish-journey",
   "metadata": {},
   "source": [
    "Exercício 5\n",
    "\n",
    "Defina a taxa de acerto"
   ]
  },
  {
   "cell_type": "code",
   "execution_count": null,
   "id": "understanding-going",
   "metadata": {},
   "outputs": [],
   "source": [
    "import sklearn.datasets as skdata\n",
    "from matplotlib import pyplot\n",
    "from pandas import DataFrame\n",
    "from sklearn.linear_model import LogisticRegression\n",
    "import matplotlib.pyplot as plt\n",
    "\n",
    "# Gera os dados em duas dimensões\n",
    "n_samples = 100 # número de observações\n",
    "\n",
    "# centro dos grupos\n",
    "centers = [(-4, 0), (0, 0), (3, 3)]\n",
    "\n",
    "X, y = skdata.make_blobs(n_samples=100, n_features=2, cluster_std=1.0, centers=centers, \n",
    "\n",
    "                         shuffle=False, random_state=42)\n",
    "\n",
    "plt.figure(figsize=(6,4))\n",
    "\n",
    "plt.scatter(X[:,0], X[:,1], c=y, cmap='viridis', s=50, alpha=0.7)\n",
    "\n",
    "plt.show(True)\n",
    "\n",
    "\n",
    "\n",
    "from sklearn.model_selection import train_test_split\n",
    "\n",
    "p = 0.2 # fraction of elements in the test set\n",
    "\n",
    "x_train, x_test, y_train, y_test = train_test_split(X, y, test_size = p)"
   ]
  }
 ],
 "metadata": {
  "kernelspec": {
   "display_name": "Python 3",
   "language": "python",
   "name": "python3"
  },
  "language_info": {
   "codemirror_mode": {
    "name": "ipython",
    "version": 3
   },
   "file_extension": ".py",
   "mimetype": "text/x-python",
   "name": "python",
   "nbconvert_exporter": "python",
   "pygments_lexer": "ipython3",
   "version": "3.9.1"
  }
 },
 "nbformat": 4,
 "nbformat_minor": 5
}
