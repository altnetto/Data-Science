{
 "metadata": {
  "language_info": {
   "codemirror_mode": {
    "name": "ipython",
    "version": 3
   },
   "file_extension": ".py",
   "mimetype": "text/x-python",
   "name": "python",
   "nbconvert_exporter": "python",
   "pygments_lexer": "ipython3",
   "version": "3.8.5-final"
  },
  "orig_nbformat": 2,
  "kernelspec": {
   "name": "python3",
   "display_name": "Python 3",
   "language": "python"
  }
 },
 "nbformat": 4,
 "nbformat_minor": 2,
 "cells": [
  {
   "source": [
    "Questão 1\n",
    "\n",
    "Determine a moda do conjunto:\n",
    "Z = [0,0,2,3,1,2,4,5,6,8,0,0,7,0,1,2,1,1,5,3,1,0,7,3,2,3,4,5,6,7,8,9,1,1,2,2,3]"
   ],
   "cell_type": "markdown",
   "metadata": {}
  },
  {
   "cell_type": "code",
   "execution_count": 4,
   "metadata": {},
   "outputs": [
    {
     "output_type": "stream",
     "name": "stdout",
     "text": [
      "Moda: 1\n"
     ]
    }
   ],
   "source": [
    "from statistics import mode\n",
    "\n",
    "Z = [0,0,2,3,1,2,4,5,6,8,0,0,7,0,1,2,1,1,5,3,1,0,7,3,2,3,4,5,6,7,8,9,1,1,2,2,3]\n",
    "\n",
    "moda = mode(Z)\n",
    "\n",
    "print('Moda:',moda)"
   ]
  },
  {
   "source": [
    "Questão 2\n",
    "\n",
    "Determine a média e mediana do conjunto de dados\n",
    "Z = [0,0,2,3,1,2,4,5,6,8,0,0,7,0,1,2,1,1,5,3,1,0,7,3,2,3,4,5,6,7,8,9,1,1,2,2,3]"
   ],
   "cell_type": "markdown",
   "metadata": {}
  },
  {
   "cell_type": "code",
   "execution_count": 5,
   "metadata": {},
   "outputs": [
    {
     "output_type": "stream",
     "name": "stdout",
     "text": [
      "Média: 3.108108108108108 \nMediana: 2.0\n"
     ]
    }
   ],
   "source": [
    "import numpy as np\n",
    "\n",
    "Z = [0,0,2,3,1,2,4,5,6,8,0,0,7,0,1,2,1,1,5,3,1,0,7,3,2,3,4,5,6,7,8,9,1,1,2,2,3]\n",
    "\n",
    "media = np.mean(Z)\n",
    "\n",
    "mediana = np.median(Z)\n",
    "\n",
    "print('Média:',media,'\\nMediana:',mediana)"
   ]
  },
  {
   "source": [
    "Questão 3\n",
    "\n",
    "Calcule a variância, desvio padrão e distância interquantil do conjunto de dados:\n",
    "Z = [0,0,2,3,1,2,4,5,6,8,7,5,3,1,0,7,3,2,3,4,5,6,7,8,9,1,1,2,2,3]"
   ],
   "cell_type": "markdown",
   "metadata": {}
  },
  {
   "cell_type": "code",
   "execution_count": 21,
   "metadata": {},
   "outputs": [
    {
     "output_type": "stream",
     "name": "stdout",
     "text": [
      "6.688888888888889 2.630501896955229 3.75\n"
     ]
    }
   ],
   "source": [
    "import numpy as np\n",
    "from scipy.stats import iqr\n",
    "\n",
    "Z = [0,0,2,3,1,2,4,5,6,8,7,5,3,1,0,7,3,2,3,4,5,6,7,8,9,1,1,2,2,3]\n",
    "\n",
    "media = np.mean(Z)\n",
    "\n",
    "mediana = np.median(Z)\n",
    "\n",
    "variancia = 0\n",
    "\n",
    "numItens = len(Z)\n",
    "\n",
    "Q1 = mediana/2\n",
    "\n",
    "Q3 = Q1 + mediana\n",
    "\n",
    "# diq é a distância inter-quartil\n",
    "\n",
    "diq = iqr(Z)\n",
    "\n",
    "for i in Z:\n",
    "    variancia += ((i-media)**2)/(numItens)\n",
    "\n",
    "desvio_padrao = (variancia*numItens/(numItens-1))**(0.5)\n",
    "\n",
    "print (variancia,desvio_padrao, diq)"
   ]
  },
  {
   "source": [
    "Questão 4\n",
    "\n",
    "Para a função tangente no intervalo [-1.5,1.5], calcule os coeficientes de Pearson e Spearman."
   ],
   "cell_type": "markdown",
   "metadata": {}
  },
  {
   "cell_type": "code",
   "execution_count": 38,
   "metadata": {},
   "outputs": [
    {
     "output_type": "stream",
     "name": "stdout",
     "text": [
      "0.8087861600847008 0.9999999999999999\n"
     ]
    }
   ],
   "source": [
    "from scipy.stats import pearsonr, spearmanr\n",
    "\n",
    "X = np.linspace(-1.5,1.5,100)\n",
    "\n",
    "tg = np.tan(X)\n",
    "\n",
    "r_pearson,p_pearson = pearsonr(tg,X)\n",
    "\n",
    "r_spearman, p_spearman = spearmanr(tg,X)\n",
    "\n",
    "print(r_pearson,r_spearman)"
   ]
  },
  {
   "source": [
    "Questão 5\n",
    "\n",
    "Calcule a distância de Kullback-Leibler entre as variáveis X e Y, com distribuição: P = [0.15,0.25,0.2] e Q = [0.3, 0.6, 0.1]"
   ],
   "cell_type": "markdown",
   "metadata": {}
  },
  {
   "cell_type": "code",
   "execution_count": 45,
   "metadata": {},
   "outputs": [
    {
     "output_type": "stream",
     "name": "stdout",
     "text": [
      "0.20380924824852753 0.15308505475833864\n"
     ]
    }
   ],
   "source": [
    "from scipy.stats import entropy\n",
    "\n",
    "P = [0.15,0.25,0.2]\n",
    "\n",
    "Q = [0.3, 0.6, 0.1]\n",
    "\n",
    "dist_KL_PQ = entropy(P,Q)\n",
    "\n",
    "dist_KL_QP = entropy(Q,P)\n",
    "\n",
    "print(dist_KL_PQ,dist_KL_QP)"
   ]
  },
  {
   "cell_type": "code",
   "execution_count": null,
   "metadata": {},
   "outputs": [],
   "source": []
  }
 ]
}