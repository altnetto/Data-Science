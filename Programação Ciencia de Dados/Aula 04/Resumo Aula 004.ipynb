{
 "metadata": {
  "language_info": {
   "codemirror_mode": {
    "name": "ipython",
    "version": 3
   },
   "file_extension": ".py",
   "mimetype": "text/x-python",
   "name": "python",
   "nbconvert_exporter": "python",
   "pygments_lexer": "ipython3",
   "version": "3.9.1-final"
  },
  "orig_nbformat": 2,
  "kernelspec": {
   "name": "python3",
   "display_name": "Python 3.9.1 64-bit",
   "metadata": {
    "interpreter": {
     "hash": "55421908667a225820f2cd05496734e43c3ddbc7d792b945edc730d5b93ba56f"
    }
   }
  }
 },
 "nbformat": 4,
 "nbformat_minor": 2,
 "cells": [
  {
   "source": [
    "<h2>Aula 004 - Numpy I</h2>"
   ],
   "cell_type": "markdown",
   "metadata": {}
  },
  {
   "source": [
    "Numpy é uma biblioteca de alto poder computacional em python, que utiliza, na verdade, um motor em linguagem C. No numpy, trabalhar com matrizes é muito mais simples, além de ser computacionalmente favorecido.\n",
    "\n",
    "A estrutura de dados aceita é apenas numérica, suportando apenas valores de mesmo tipo, sejam eles <i>int</i> ou <i>float</i>.\n",
    "\n",
    "Alguns dos métodos para gerar um Array do numpy são:\n",
    "\n",
    "Nota: ' representa um item opcional, ou seja, um item *args\n",
    "\n",
    "- arange: gera uma distribuição de números inteiros em um dado intervalo\n",
    "    - Possui 3 argumentos: número inicial, número final', espaçamento'\n",
    "- linspace: gera uma distribuição de números float ou inteiros, em um dado intervalo, podendo-se especificar a quantidade de termos\n",
    "    - Possui 3 argumentos: número inicial, número final, quantidade de termos\n",
    "\n",
    "- zeros: gera um Array com zeros em todos os termos\n",
    "\n",
    "- ones: gera um Array com 'uns' em todos os termos\n",
    "\n",
    "- convertendo uma lista em array (conversão explícita)\n",
    "    - ex: array1dim = np.array(\\[1,2,3,4,5\\])"
   ],
   "cell_type": "markdown",
   "metadata": {}
  },
  {
   "cell_type": "code",
   "execution_count": 3,
   "metadata": {},
   "outputs": [
    {
     "output_type": "stream",
     "name": "stdout",
     "text": [
      "Isso é uma Lista: [1, 2, 3, 4, 5]\nIsso é um array: [1 2 3 4 5]\n"
     ]
    }
   ],
   "source": [
    "# Demonstando a diferença de notação de um array para uma lista\n",
    "import numpy as np\n",
    "lista = [1,2,3,4,5]\n",
    "arr1dim = np.array(lista)\n",
    "\n",
    "print('Isso é uma Lista:',lista)\n",
    "print('Isso é um array:',arr1dim)"
   ]
  },
  {
   "source": [
    "Percebe-se que, num array, não há a separação de termos usando vírgulas, o que denota o vetor espacial, propriamente dito. Faremos abaixo mais alguns experimentos:"
   ],
   "cell_type": "markdown",
   "metadata": {}
  },
  {
   "cell_type": "code",
   "execution_count": 4,
   "metadata": {},
   "outputs": [
    {
     "output_type": "stream",
     "name": "stdout",
     "text": [
      "Array com todos os termos iguais a zero: [0. 0. 0. 0. 0.]\nArray com todos os termos iguais a um: [1. 1. 1. 1. 1.]\nArray com números inteiros igualmente espaçados: [1 3]\nArray com números float, igualmente espaçados: [1.   1.25 1.5  1.75 2.  ]\n"
     ]
    }
   ],
   "source": [
    "arr1dim_zeros = np.zeros(5)\n",
    "print('Array com todos os termos iguais a zero:',arr1dim_zeros)\n",
    "\n",
    "arr1dim_um = np.ones(5)\n",
    "print('Array com todos os termos iguais a um:',arr1dim_um)\n",
    "\n",
    "arr1dim_numeros_inteiros = np.arange(1,5,2)\n",
    "print('Array com números inteiros igualmente espaçados:',arr1dim_numeros_inteiros)\n",
    "\n",
    "arr1dim_numeros_igualmente_espacados = np.linspace(1,2,5)\n",
    "print('Array com números float, igualmente espaçados:',arr1dim_numeros_igualmente_espacados)"
   ]
  },
  {
   "source": [
    "Cada dimensão de um Array é chamada de eixo (axis), sendo que, geralmente, utiliza-se apenas duas dimensões:\n",
    "\n",
    "- Vetores (1D)\n",
    "- Matrizes (2D)"
   ],
   "cell_type": "markdown",
   "metadata": {}
  },
  {
   "source": [
    "O acesso aos itens de um array é idêntico ao de listas, diferindo-se apenas quando se acessa as n-Dimensões do Array, que pode-se acessar usando-se apenas a notação \\[dim1,dim2,dim3,...\\]\n",
    "\n",
    "Criar uma matriz é igualmente simples, podendo-se utilizar uma notação de lista de listas para representar os itens, como segue o exemplo a seguir"
   ],
   "cell_type": "markdown",
   "metadata": {}
  },
  {
   "cell_type": "code",
   "execution_count": 5,
   "metadata": {},
   "outputs": [
    {
     "output_type": "stream",
     "name": "stdout",
     "text": [
      "Matriz de dimensões 3x3:\n [[11  2  3]\n [ 4  8  9]\n [ 5 78 21]]\n"
     ]
    }
   ],
   "source": [
    "arr2dim = np.array([[11,2,3],[4,8,9],[5,78,21]])\n",
    "\n",
    "print('Matriz de dimensões 3x3:\\n',arr2dim)"
   ]
  },
  {
   "source": [
    "Uma outra facilidade matemática é possuir um método *identity(n)*, que constrói uma matriz identidade de ordem 'n'. Lembrando que a matriz identidade é aquela onde todos os itens da diagonal principal (i==j) valem 1 e os demais valem 0."
   ],
   "cell_type": "markdown",
   "metadata": {}
  },
  {
   "cell_type": "code",
   "execution_count": 6,
   "metadata": {},
   "outputs": [
    {
     "output_type": "stream",
     "name": "stdout",
     "text": [
      "Matriz identidade de ordem 5: [[1. 0. 0. 0. 0.]\n [0. 1. 0. 0. 0.]\n [0. 0. 1. 0. 0.]\n [0. 0. 0. 1. 0.]\n [0. 0. 0. 0. 1.]]\n"
     ]
    }
   ],
   "source": [
    "arr2dim_identidade = np.identity(5)\n",
    "\n",
    "print('Matriz identidade de ordem 5:',arr2dim_identidade)"
   ]
  },
  {
   "source": [
    "Arrays do Numpy são objetos chamados ndarrays, que possuem diversos atributos:\n",
    "\n",
    "- ndarray.dim: número de eixos (dimensões) de um Array\n",
    "- ndarray.shape: formato do array, representado por uma tuple de inteiros, que indicam quantos elementos há no array em cada dimensão\n",
    "- ndarray.size: número total de elementos do array\n",
    "- ndarray.type: tipo dos elementos no array\n",
    "- ndarray.itemsize: o tamanho, em bytes, de cada elemento do array\n",
    "- ndarray.data: o buffer de memória contendo os elementos do array"
   ],
   "cell_type": "markdown",
   "metadata": {}
  },
  {
   "source": [
    "Acessando elementos de um array\n",
    "\n",
    "Primeiro método: Buscar uma linha inteira\n",
    "\n",
    "- array\\[i\\]"
   ],
   "cell_type": "markdown",
   "metadata": {}
  },
  {
   "cell_type": "code",
   "execution_count": 7,
   "metadata": {},
   "outputs": [
    {
     "output_type": "stream",
     "name": "stdout",
     "text": [
      "[1. 0. 0. 0. 0.]\n"
     ]
    }
   ],
   "source": [
    "print(arr2dim_identidade[0])"
   ]
  },
  {
   "source": [
    "Segundo método: Buscar o elemento completamente endereçado\n",
    "\n",
    "- array\\[i,j\\]\n",
    "\n",
    "No exemplo abaixo, buscamos o último elemento do array"
   ],
   "cell_type": "markdown",
   "metadata": {}
  },
  {
   "cell_type": "code",
   "execution_count": 8,
   "metadata": {},
   "outputs": [
    {
     "output_type": "stream",
     "name": "stdout",
     "text": [
      "1.0\n"
     ]
    }
   ],
   "source": [
    "print(arr2dim_identidade[-1,-1])"
   ]
  },
  {
   "source": [
    "Há uma excelente funcionalidade de python chamada 'enumerate', que retorna um valor extra, expressando o enumeramento da iteração em questão. Segue um exemplo abaixo:"
   ],
   "cell_type": "markdown",
   "metadata": {}
  },
  {
   "cell_type": "code",
   "execution_count": 9,
   "metadata": {},
   "outputs": [
    {
     "output_type": "stream",
     "name": "stdout",
     "text": [
      "linha 0 = [1. 0. 0. 0. 0.]\nlinha 1 = [0. 1. 0. 0. 0.]\nlinha 2 = [0. 0. 1. 0. 0.]\nlinha 3 = [0. 0. 0. 1. 0.]\nlinha 4 = [0. 0. 0. 0. 1.]\n"
     ]
    }
   ],
   "source": [
    "for i,r in enumerate(arr2dim_identidade):\n",
    "    print('linha',i,'=',r)"
   ]
  },
  {
   "source": [
    "Podemos também efetuar o *enumerate* item a item:"
   ],
   "cell_type": "markdown",
   "metadata": {}
  },
  {
   "cell_type": "code",
   "execution_count": 10,
   "metadata": {},
   "outputs": [
    {
     "output_type": "stream",
     "name": "stdout",
     "text": [
      "item[0,0] = 1.0\n",
      "item[0,1] = 0.0\n",
      "item[0,2] = 0.0\n",
      "item[0,3] = 0.0\n",
      "item[0,4] = 0.0\n",
      "\n",
      "\n",
      "item[1,0] = 0.0\n",
      "item[1,1] = 1.0\n",
      "item[1,2] = 0.0\n",
      "item[1,3] = 0.0\n",
      "item[1,4] = 0.0\n",
      "\n",
      "\n",
      "item[2,0] = 0.0\n",
      "item[2,1] = 0.0\n",
      "item[2,2] = 1.0\n",
      "item[2,3] = 0.0\n",
      "item[2,4] = 0.0\n",
      "\n",
      "\n",
      "item[3,0] = 0.0\n",
      "item[3,1] = 0.0\n",
      "item[3,2] = 0.0\n",
      "item[3,3] = 1.0\n",
      "item[3,4] = 0.0\n",
      "\n",
      "\n",
      "item[4,0] = 0.0\n",
      "item[4,1] = 0.0\n",
      "item[4,2] = 0.0\n",
      "item[4,3] = 0.0\n",
      "item[4,4] = 1.0\n",
      "\n",
      "\n"
     ]
    }
   ],
   "source": [
    "for i,r in enumerate(arr2dim_identidade):\n",
    "    for j,s in enumerate(r):\n",
    "        print('item[{0},{1}]'.format(i,j),'=',s)\n",
    "    print('\\n')"
   ]
  },
  {
   "source": [
    "Também pode-se acessar os elementos do array da forma tradicional, adotando a propriedade ndarray.shape:"
   ],
   "cell_type": "markdown",
   "metadata": {}
  },
  {
   "cell_type": "code",
   "execution_count": 11,
   "metadata": {},
   "outputs": [
    {
     "output_type": "stream",
     "name": "stdout",
     "text": [
      "item[0,0]: 1.0\nitem[0,1]: 0.0\nitem[0,2]: 0.0\nitem[0,3]: 0.0\nitem[0,4]: 0.0\n\n\nitem[1,0]: 0.0\nitem[1,1]: 1.0\nitem[1,2]: 0.0\nitem[1,3]: 0.0\nitem[1,4]: 0.0\n\n\nitem[2,0]: 0.0\nitem[2,1]: 0.0\nitem[2,2]: 1.0\nitem[2,3]: 0.0\nitem[2,4]: 0.0\n\n\nitem[3,0]: 0.0\nitem[3,1]: 0.0\nitem[3,2]: 0.0\nitem[3,3]: 1.0\nitem[3,4]: 0.0\n\n\nitem[4,0]: 0.0\nitem[4,1]: 0.0\nitem[4,2]: 0.0\nitem[4,3]: 0.0\nitem[4,4]: 1.0\n\n\n"
     ]
    }
   ],
   "source": [
    "for i in range(arr2dim_identidade.shape[0]):\n",
    "    for j in range(arr2dim_identidade.shape[1]):\n",
    "        print('item[{0},{1}]:'.format(i,j),arr2dim_identidade[i,j])\n",
    "    \n",
    "    print('\\n')"
   ]
  },
  {
   "source": [
    "Há um método (INACREDITÁVEL) que se chama **flat**, que dimensionaliza um array de n-dimensões em 1D:"
   ],
   "cell_type": "markdown",
   "metadata": {}
  },
  {
   "cell_type": "code",
   "execution_count": 12,
   "metadata": {},
   "outputs": [
    {
     "output_type": "stream",
     "name": "stdout",
     "text": [
      "1.0\n",
      "0.0\n",
      "0.0\n",
      "0.0\n",
      "0.0\n",
      "0.0\n",
      "1.0\n",
      "0.0\n",
      "0.0\n",
      "0.0\n",
      "0.0\n",
      "0.0\n",
      "1.0\n",
      "0.0\n",
      "0.0\n",
      "0.0\n",
      "0.0\n",
      "0.0\n",
      "1.0\n",
      "0.0\n",
      "0.0\n",
      "0.0\n",
      "0.0\n",
      "0.0\n",
      "1.0\n"
     ]
    }
   ],
   "source": [
    "for i in arr2dim_identidade.flat:\n",
    "    print(i)"
   ]
  },
  {
   "source": [
    "Dentro do numpy, pode-se também usar o *slicing*, de forma muito otimizada, é claro"
   ],
   "cell_type": "markdown",
   "metadata": {}
  },
  {
   "cell_type": "code",
   "execution_count": 13,
   "metadata": {},
   "outputs": [
    {
     "output_type": "stream",
     "name": "stdout",
     "text": [
      "[[0 1 2]\n [3 4 5]\n [6 7 8]]\n"
     ]
    }
   ],
   "source": [
    "arr2dim_mix = np.array([np.arange(0,3),np.arange(3,6), np.arange(6,9)])\n",
    "print(arr2dim_mix)"
   ]
  },
  {
   "source": [
    "- Percorrer todos os elementos da coluna '0'"
   ],
   "cell_type": "markdown",
   "metadata": {}
  },
  {
   "cell_type": "code",
   "execution_count": 14,
   "metadata": {},
   "outputs": [
    {
     "output_type": "stream",
     "name": "stdout",
     "text": [
      "[0 3 6]\n"
     ]
    }
   ],
   "source": [
    "print(arr2dim_mix[:,0])"
   ]
  },
  {
   "source": [
    "- Percorrer todos os elementos da linha '1'"
   ],
   "cell_type": "markdown",
   "metadata": {}
  },
  {
   "source": [
    "print(arr2dim_mix[1,:])"
   ],
   "cell_type": "code",
   "metadata": {},
   "execution_count": 15,
   "outputs": [
    {
     "output_type": "stream",
     "name": "stdout",
     "text": [
      "[3 4 5]\n"
     ]
    }
   ]
  },
  {
   "source": [
    "- Percorrer os elementos A12, A13, A22 e A23"
   ],
   "cell_type": "markdown",
   "metadata": {}
  },
  {
   "cell_type": "code",
   "execution_count": 16,
   "metadata": {},
   "outputs": [
    {
     "output_type": "stream",
     "name": "stdout",
     "text": [
      "[[4 5]\n [7 8]]\n"
     ]
    }
   ],
   "source": [
    "print(arr2dim_mix[1:3,1:3])"
   ]
  },
  {
   "source": [
    "- Percorrer os elementos A13 e A33, usando lista como argumento"
   ],
   "cell_type": "markdown",
   "metadata": {}
  },
  {
   "cell_type": "code",
   "execution_count": 17,
   "metadata": {},
   "outputs": [
    {
     "output_type": "stream",
     "name": "stdout",
     "text": [
      "[2 8]\n"
     ]
    }
   ],
   "source": [
    "print(arr2dim_mix[[0,2],2])"
   ]
  },
  {
   "source": [
    "- Percorrer os elementos A11, A22 e A33\n",
    "    - Aqui, vale ressaltar algo muito importante... Quando se utiliza duas listas como argumento de           acesso, temos que haverá a busca relativa à combinação dos elementos da lista "
   ],
   "cell_type": "markdown",
   "metadata": {}
  },
  {
   "cell_type": "code",
   "execution_count": 18,
   "metadata": {},
   "outputs": [
    {
     "output_type": "stream",
     "name": "stdout",
     "text": [
      "[0 4 8]\n"
     ]
    }
   ],
   "source": [
    "print(arr2dim_mix[[0,1,2],[0,1,2]])"
   ]
  },
  {
   "source": [
    "Outro exemplo, para ficar um pouco mais claro:\n",
    "\n",
    "- Percorrer os elementos A11, A13 e A31"
   ],
   "cell_type": "markdown",
   "metadata": {}
  },
  {
   "cell_type": "code",
   "execution_count": 19,
   "metadata": {},
   "outputs": [
    {
     "output_type": "stream",
     "name": "stdout",
     "text": [
      "Linha 1 = [0 1 2]\nLinha 2 = [3 4 5]\nLinha 3 = [6 7 8]\nA11, A13 e A31: [0 2 6]\n"
     ]
    }
   ],
   "source": [
    "for i,r in enumerate(arr2dim_mix):\n",
    "    print('Linha',i+1,'=',r)\n",
    "\n",
    "print('A11, A13 e A31:',arr2dim_mix[[0,0,2],[0,2,0]])"
   ]
  },
  {
   "source": [
    "Quando se utiliza o slicing (:) na posição da coluna, o array possuirá, inevitavelmente, duas dimensões."
   ],
   "cell_type": "markdown",
   "metadata": {}
  },
  {
   "source": [
    "<h3>Algumas manipulações úteis com arrays</h>\n",
    "\n",
    "- reshape: transforma um vetor em um array"
   ],
   "cell_type": "markdown",
   "metadata": {}
  },
  {
   "cell_type": "code",
   "execution_count": 20,
   "metadata": {},
   "outputs": [
    {
     "output_type": "stream",
     "name": "stdout",
     "text": [
      "x: [1 2 3 4 5 6 7 8 9]\na: [[1 2 3]\n [4 5 6]\n [7 8 9]]\n"
     ]
    }
   ],
   "source": [
    "x = np.arange(1,10)\n",
    "a = x.reshape(3,3)\n",
    "\n",
    "print('x:',x)\n",
    "print('a:',a)"
   ]
  },
  {
   "source": [
    "- ravel: gera um vetor view, ou seja, um vetor que replica o valor do array original, a partir de um array de n-dimensões.\n",
    "\n",
    "Isso quer dizer que, em situações onde o array pode mudar, a nossa view também mudará, ou seja, demonstra uma visão em 1D do array original"
   ],
   "cell_type": "markdown",
   "metadata": {}
  },
  {
   "cell_type": "code",
   "execution_count": 21,
   "metadata": {},
   "outputs": [
    {
     "output_type": "stream",
     "name": "stdout",
     "text": [
      "[1 2 3 4 5 6 7 8 9]\n"
     ]
    }
   ],
   "source": [
    "b = a.ravel()\n",
    "\n",
    "print(b)"
   ]
  },
  {
   "cell_type": "code",
   "execution_count": 22,
   "metadata": {},
   "outputs": [
    {
     "output_type": "stream",
     "name": "stdout",
     "text": [
      "a: [[5 2 3]\n",
      " [4 5 6]\n",
      " [7 8 9]]\n",
      "b [5 2 3 4 5 6 7 8 9]\n"
     ]
    }
   ],
   "source": [
    "a[0,0] = 5\n",
    "\n",
    "print('a:',a)\n",
    "print('b',b)"
   ]
  },
  {
   "source": [
    "- flatten: transforma um array de n-dimensões em um vetor comum, não atribuindo um endereçamento de memória ao array anterior"
   ],
   "cell_type": "markdown",
   "metadata": {}
  },
  {
   "cell_type": "code",
   "execution_count": 23,
   "metadata": {},
   "outputs": [
    {
     "output_type": "stream",
     "name": "stdout",
     "text": [
      "a: [[5 2 3]\n",
      " [4 5 6]\n",
      " [7 8 9]]\n",
      "c: [5 2 3 4 5 6 7 8 9] \n",
      "\n",
      "a: [[1 2 3]\n",
      " [4 5 6]\n",
      " [7 8 9]]\n",
      "c: [5 2 3 4 5 6 7 8 9]\n"
     ]
    }
   ],
   "source": [
    "a[0,0] = 5\n",
    "print('a:',a)\n",
    "c = a.flatten()\n",
    "print('c:',c,'\\n')\n",
    "a[0,0] = 1\n",
    "print('a:',a)\n",
    "print('c:',c)"
   ]
  },
  {
   "source": [
    "<h3>Transposta de uma Matriz</h3>\n",
    "\n",
    "Novamente, Python me deixou de queixo caído...\n",
    "\n",
    "Basta fazer B = A.T para se obter a transposta de A"
   ],
   "cell_type": "markdown",
   "metadata": {}
  },
  {
   "cell_type": "code",
   "execution_count": 24,
   "metadata": {},
   "outputs": [
    {
     "output_type": "stream",
     "name": "stdout",
     "text": [
      "Matriz A\n [[1 2 3]\n [4 5 6]\n [7 8 9]] \n\nMatriz B\n [[1 4 7]\n [2 5 8]\n [3 6 9]]\n"
     ]
    }
   ],
   "source": [
    "A = np.arange(1,10).reshape(3,3)\n",
    "\n",
    "B = A.T\n",
    "\n",
    "print('Matriz A\\n',A,'\\n')\n",
    "print('Matriz B\\n',B)"
   ]
  },
  {
   "source": [
    "<h2>Máscaras Booleanas</h2>\n",
    "\n",
    "Certo, eu já me apaixonei por Python tantas vezes que nem consigo explicar, mas, o golpe de misericórdia são as máscaras booleanas. \n",
    "\n",
    "O que é uma máscara booleana?\n",
    "\n",
    "Trata-se de uma matriz onde se armazena os resultados de uma operação matemática, representados por valores booleanos"
   ],
   "cell_type": "markdown",
   "metadata": {}
  },
  {
   "cell_type": "code",
   "execution_count": 25,
   "metadata": {},
   "outputs": [
    {
     "output_type": "stream",
     "name": "stdout",
     "text": [
      "Matriz Z\n",
      " [[ 0  1  2  3  4  5]\n",
      " [ 6  7  8  9 10 11]\n",
      " [12 13 14 15 16 17]] \n",
      "\n",
      "Máscara Booleana dos elementos de Z > 5\n",
      " [[False False False False False False]\n",
      " [False False False False False  True]\n",
      " [ True  True  True  True  True  True]]\n"
     ]
    }
   ],
   "source": [
    "# gerando uma matriz 3x6, cujos itens são a disposição de valores de 0 a 17\n",
    "Z = np.arange(18).reshape(3,6)\n",
    "\n",
    "mascara_booleana = (Z>10)\n",
    "\n",
    "print('Matriz Z\\n',Z,'\\n')\n",
    "print('Máscara Booleana dos elementos de Z > 5\\n',mascara_booleana)"
   ]
  },
  {
   "source": [
    "Recuperando os elementos que atendem os critérios da máscara:"
   ],
   "cell_type": "markdown",
   "metadata": {}
  },
  {
   "cell_type": "code",
   "execution_count": 26,
   "metadata": {},
   "outputs": [
    {
     "output_type": "stream",
     "name": "stdout",
     "text": [
      "Elementos de Z > 5: [11 12 13 14 15 16 17]\n"
     ]
    }
   ],
   "source": [
    "print('Elementos de Z > 5:',Z[mascara_booleana])"
   ]
  },
  {
   "source": [
    "Pode-se também executar operações dentro dos itens que atendem os critérios da máscara booleana:"
   ],
   "cell_type": "markdown",
   "metadata": {}
  },
  {
   "cell_type": "code",
   "execution_count": 27,
   "metadata": {},
   "outputs": [
    {
     "output_type": "stream",
     "name": "stdout",
     "text": [
      "Modificação de valores nos itens que atendem Z > 5\n [[ 0  1  2  3  4  5]\n [ 6  7  8  9 10  0]\n [ 0  0  0  0  0  0]]\n"
     ]
    }
   ],
   "source": [
    "Z[mascara_booleana] = 0\n",
    "print('Modificação de valores nos itens que atendem Z > 5\\n',Z)"
   ]
  },
  {
   "source": [
    "Também podemos utilizar expressões diretas, sem a necessidade de usar a máscara booleana explícita.\n",
    "\n",
    "Isso se dá por alguns comandos:\n",
    "\n",
    "- where: define uma condição simples de máscara\n",
    "\n",
    "- logical_and: define uma operação 'and' com dois argumentos\n",
    "\n",
    "- logical_or: define uma operação 'or' com dois argumentos"
   ],
   "cell_type": "markdown",
   "metadata": {}
  },
  {
   "cell_type": "code",
   "execution_count": 61,
   "metadata": {},
   "outputs": [
    {
     "output_type": "stream",
     "name": "stdout",
     "text": [
      "A: [[-1 -1 -1  3  3]\n [ 3  4  5  3  2]\n [-1 -1  5 -1 -1]\n [ 1 -1 -1  2 -1]]\nAc: [[ 6  6  9 -5 -5]\n [-5 -5  5 -5 -5]\n [ 8 10  5  6  9]\n [ 1  8  6 -5  7]]\n"
     ]
    }
   ],
   "source": [
    "A = np.random.randint(1,11,20).reshape(4,5)\n",
    "\n",
    "Ac = np.copy(A)\n",
    "\n",
    "A[np.where(A>5)] = -1\n",
    "\n",
    "Ac[np.logical_and(A>1,A<5)] = -5\n",
    "\n",
    "print('A:',A)\n",
    "print('Ac:',Ac)"
   ]
  },
  {
   "source": [
    "Um fator preponderante do grande desempenho computacional do Numpy se dá ao fato de utilizar visualizações em formato de *views*, que favorecem computacionalmente o sistema.\n",
    "\n",
    "Esse item é resultado do uso de endereçamento por memória das variáveis, ao invés de criar cópias, ou seja, alocar um vetor.\n",
    "\n",
    "Quando trabalhamos com *slicing*, temos um endereçamento de memória, ou seja, alterações no array original irão refletir automaticamente no objeto fruto do slicing"
   ],
   "cell_type": "markdown",
   "metadata": {}
  },
  {
   "cell_type": "code",
   "execution_count": 29,
   "metadata": {},
   "outputs": [
    {
     "output_type": "stream",
     "name": "stdout",
     "text": [
      "arrX\n",
      " [[8 5 5 3 4]\n",
      " [9 7 3 2 8]\n",
      " [4 8 4 7 2]]\n",
      "arrY\n",
      " [[7 3 2]\n",
      " [8 4 7]]\n"
     ]
    }
   ],
   "source": [
    "arrX = np.random.randint(0,10,15).reshape(3,5)\n",
    "\n",
    "arrY = arrX[1:,1:4]\n",
    "\n",
    "print('arrX\\n',arrX)\n",
    "print('arrY\\n',arrY)"
   ]
  },
  {
   "cell_type": "code",
   "execution_count": 30,
   "metadata": {},
   "outputs": [
    {
     "output_type": "stream",
     "name": "stdout",
     "text": [
      "arrX\n [[ 8  5  5  3  4]\n [ 9  7 -5  2  8]\n [ 4  8  4  7  2]]\narrY\n [[ 7 -5  2]\n [ 8  4  7]]\n"
     ]
    }
   ],
   "source": [
    "arrX[1,2] = -5\n",
    "\n",
    "print('arrX\\n',arrX)\n",
    "print('arrY\\n',arrY)"
   ]
  },
  {
   "source": [
    "Para efetuar uma cópia, ao invés de uma view, deve-se usar o método 'copy'"
   ],
   "cell_type": "markdown",
   "metadata": {}
  },
  {
   "cell_type": "code",
   "execution_count": 31,
   "metadata": {},
   "outputs": [
    {
     "output_type": "stream",
     "name": "stdout",
     "text": [
      "arrX\n [[  5   4   7   5   7]\n [  4   8 -10   5   2]\n [  1   8   9   7   3]]\narrY\n [[  8 -10   5]\n [  8   9   7]]\narrY_copia\n [[ 8 -5  5]\n [ 8  9  7]]\n"
     ]
    }
   ],
   "source": [
    "arrX = np.random.randint(0,10,15).reshape(3,5)\n",
    "arrY = arrX[1:,1:4]\n",
    "\n",
    "arrX[1,2] = -5\n",
    "\n",
    "arrY_copia = np.copy(arrY)\n",
    "\n",
    "arrX[1,2] = -10\n",
    "\n",
    "print('arrX\\n',arrX)\n",
    "print('arrY\\n',arrY)\n",
    "print('arrY_copia\\n',arrY_copia)"
   ]
  },
  {
   "source": [
    "<h3>IO com o Numpy</h3>\n",
    "\n",
    "Nota: ' significa um item opcional\n",
    "\n",
    "- np.savetxt(nome_arquivo,dados_a_salvar,fmt=formato_dados')\n",
    "- np.loadtxt(nome_arquivo,dtype=tipo_dados')"
   ],
   "cell_type": "markdown",
   "metadata": {}
  },
  {
   "cell_type": "code",
   "execution_count": 32,
   "metadata": {},
   "outputs": [
    {
     "output_type": "stream",
     "name": "stdout",
     "text": [
      "[[ 8  8 10  1  4]\n [ 2  9  9  4  9]\n [ 2  4  5  4  1]]\n"
     ]
    }
   ],
   "source": [
    "arrTesteSalvar = np.random.randint(1,11,15).reshape(3,5)\n",
    "\n",
    "# Aqui, forçamos o arquivo a ser salvo em formato int\n",
    "np.savetxt('arquivo_teste.txt',arrTesteSalvar,fmt=\"%d\")\n",
    "\n",
    "print(arrTesteSalvar)"
   ]
  },
  {
   "source": [
    "Agora que salvamos o arquivo, vamos abrí-lo"
   ],
   "cell_type": "markdown",
   "metadata": {}
  },
  {
   "cell_type": "code",
   "execution_count": 33,
   "metadata": {},
   "outputs": [
    {
     "output_type": "stream",
     "name": "stdout",
     "text": [
      "Arquivo aberto sem especificar o tipo de dados\n [[ 8.  8. 10.  1.  4.]\n [ 2.  9.  9.  4.  9.]\n [ 2.  4.  5.  4.  1.]] \n\nArquivo aberto especificando o tipo de dados\n [[ 8  8 10  1  4]\n [ 2  9  9  4  9]\n [ 2  4  5  4  1]]\n"
     ]
    }
   ],
   "source": [
    "arrTesteAbrir = np.loadtxt('arquivo_teste.txt')\n",
    "arrTesteAbrirFormatado = np.loadtxt('arquivo_teste.txt',dtype=int)\n",
    "\n",
    "print('Arquivo aberto sem especificar o tipo de dados\\n',arrTesteAbrir,'\\n')\n",
    "print('Arquivo aberto especificando o tipo de dados\\n',arrTesteAbrirFormatado)"
   ]
  },
  {
   "cell_type": "code",
   "execution_count": null,
   "metadata": {},
   "outputs": [],
   "source": []
  }
 ]
}