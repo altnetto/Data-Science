{
 "cells": [
  {
   "cell_type": "markdown",
   "metadata": {},
   "source": [
    "<h2>Numpy II e Matplotlib</h2>"
   ]
  },
  {
   "cell_type": "markdown",
   "metadata": {},
   "source": [
    "<h3>Broadcasting com Numpy</h3>\n",
    "\n",
    "Basicamente, trata-se de operações entre matrizes usando Arrays do Numpy\n",
    "\n",
    "- Soma de um escalar com um Array\n",
    "    - Cada escalar é somado para cada elemento do Array individualmente"
   ]
  },
  {
   "cell_type": "code",
   "execution_count": 1,
   "metadata": {},
   "outputs": [
    {
     "name": "stdout",
     "output_type": "stream",
     "text": [
      "A:\n",
      " [[ 0  1  2  3]\n",
      " [ 4  5  6  7]\n",
      " [ 8  9 10 11]\n",
      " [12 13 14 15]] \n",
      "B:\n",
      " [[ 3  4  5  6]\n",
      " [ 7  8  9 10]\n",
      " [11 12 13 14]\n",
      " [15 16 17 18]]\n"
     ]
    }
   ],
   "source": [
    "import numpy as np\n",
    "\n",
    "A = np.arange(16).reshape(4,4)\n",
    "\n",
    "B = 3 + A\n",
    "\n",
    "print('A:\\n',A,'\\nB:\\n',B)"
   ]
  },
  {
   "cell_type": "markdown",
   "metadata": {},
   "source": [
    "Quando efetuamos uma soma usando um vetor, o tamanho do vetor deve coincidir com o número de colunas da Matriz que desejamos somar.\n",
    "\n",
    "Além disso, o vetor será replicado pelas 'i' linhas da Matriz"
   ]
  },
  {
   "cell_type": "code",
   "execution_count": 2,
   "metadata": {},
   "outputs": [
    {
     "name": "stdout",
     "output_type": "stream",
     "text": [
      "[[ 0  2  4  6]\n",
      " [ 4  6  8 10]\n",
      " [ 8 10 12 14]\n",
      " [12 14 16 18]]\n"
     ]
    }
   ],
   "source": [
    "C = np.arange(4)\n",
    "\n",
    "D = C + A\n",
    "\n",
    "print(D)"
   ]
  },
  {
   "cell_type": "markdown",
   "metadata": {},
   "source": [
    "<h3>Broadcasting e operações entre matrizes</h3>\n",
    "\n",
    "Podemos também realizar uma multiplicação, entretanto, não é igual à multiplicação com matrizes, mas, realizada para cada elemento"
   ]
  },
  {
   "cell_type": "code",
   "execution_count": 3,
   "metadata": {},
   "outputs": [
    {
     "name": "stdout",
     "output_type": "stream",
     "text": [
      "C\n",
      " [0 1 2 3]\n",
      "A\n",
      " [[ 0  1  2  3]\n",
      " [ 4  5  6  7]\n",
      " [ 8  9 10 11]\n",
      " [12 13 14 15]]\n",
      "E = C x A\n",
      " [[ 0  1  4  9]\n",
      " [ 0  5 12 21]\n",
      " [ 0  9 20 33]\n",
      " [ 0 13 28 45]]\n"
     ]
    }
   ],
   "source": [
    "E = C*A\n",
    "\n",
    "print('C\\n',C)\n",
    "print('A\\n',A)\n",
    "print('E = C x A\\n',E)"
   ]
  },
  {
   "cell_type": "markdown",
   "metadata": {},
   "source": [
    "O broadcasting é realizado nas colunas quando o vetor é uma coluna"
   ]
  },
  {
   "cell_type": "code",
   "execution_count": 4,
   "metadata": {},
   "outputs": [
    {
     "name": "stdout",
     "output_type": "stream",
     "text": [
      "[[ 0  0  0  0]\n",
      " [ 4  5  6  7]\n",
      " [16 18 20 22]\n",
      " [36 39 42 45]]\n"
     ]
    }
   ],
   "source": [
    "vetor_coluna = np.arange(4).reshape(4,1)\n",
    "\n",
    "F = vetor_coluna * A\n",
    "\n",
    "print(F)"
   ]
  },
  {
   "cell_type": "markdown",
   "metadata": {},
   "source": [
    "Podemos também somar vetores linha e vetores coluna, que retornarão uma matriz i x j, onde i é o número de linhas do vetor-coluna e j o número de colunas do vetor-linha"
   ]
  },
  {
   "cell_type": "code",
   "execution_count": 5,
   "metadata": {},
   "outputs": [
    {
     "name": "stdout",
     "output_type": "stream",
     "text": [
      "[0 1 2 3 4 5 6]\n",
      "[[0]\n",
      " [1]\n",
      " [2]\n",
      " [3]]\n",
      "[[0 1 2 3 4 5 6]\n",
      " [1 2 3 4 5 6 7]\n",
      " [2 3 4 5 6 7 8]\n",
      " [3 4 5 6 7 8 9]]\n"
     ]
    }
   ],
   "source": [
    "vetor_linha = np.arange(7)\n",
    "\n",
    "M = vetor_coluna + vetor_linha\n",
    "\n",
    "\n",
    "print(vetor_linha)\n",
    "print(vetor_coluna)\n",
    "print(M)"
   ]
  },
  {
   "cell_type": "markdown",
   "metadata": {},
   "source": [
    "O Broadcasting também é válido com atribuições"
   ]
  },
  {
   "cell_type": "code",
   "execution_count": 6,
   "metadata": {},
   "outputs": [
    {
     "name": "stdout",
     "output_type": "stream",
     "text": [
      "[[1. 2. 3.]\n",
      " [1. 2. 3.]\n",
      " [1. 2. 3.]\n",
      " [0. 0. 0.]\n",
      " [0. 0. 0.]]\n"
     ]
    }
   ],
   "source": [
    "Z = np.zeros((5,3))\n",
    "\n",
    "Z[:3] = [1,2,3]\n",
    "\n",
    "print(Z)"
   ]
  },
  {
   "cell_type": "markdown",
   "metadata": {},
   "source": [
    "O comando np.newaxis atua como um reshape, pois introduz o novo eixo, o que faz com que o broadcasting seja agora feito nas colunas, não nas linhas"
   ]
  },
  {
   "cell_type": "code",
   "execution_count": 7,
   "metadata": {},
   "outputs": [
    {
     "name": "stdout",
     "output_type": "stream",
     "text": [
      "[[0. 0. 0.]\n",
      " [1. 1. 1.]\n",
      " [2. 2. 2.]\n",
      " [3. 3. 3.]\n",
      " [4. 4. 4.]]\n"
     ]
    }
   ],
   "source": [
    "teste_newaxis = np.arange(5)\n",
    "\n",
    "Z[:] = teste_newaxis[:,np.newaxis]\n",
    "\n",
    "print(Z)"
   ]
  },
  {
   "cell_type": "markdown",
   "metadata": {},
   "source": [
    "<h3>Comparações</h3>\n",
    "\n",
    "Conforme verificamos em máscaras booleanas, podemos comparar os elementos internos da matriz"
   ]
  },
  {
   "cell_type": "code",
   "execution_count": 8,
   "metadata": {},
   "outputs": [
    {
     "name": "stdout",
     "output_type": "stream",
     "text": [
      "[[ True False  True False  True]\n",
      " [False  True False  True False]\n",
      " [ True False  True False  True]]\n"
     ]
    }
   ],
   "source": [
    "A = np.arange(15).reshape(3,5)\n",
    "\n",
    "B = (A % 2 == 0)\n",
    "\n",
    "print(B)"
   ]
  },
  {
   "cell_type": "markdown",
   "metadata": {},
   "source": [
    "Podemos também comparar se todos os elementos respondem positivamente a um determinado critério"
   ]
  },
  {
   "cell_type": "code",
   "execution_count": 9,
   "metadata": {},
   "outputs": [
    {
     "name": "stdout",
     "output_type": "stream",
     "text": [
      "False\n"
     ]
    }
   ],
   "source": [
    "# verifica se todos os valores de B são true\n",
    "print(np.all(B))"
   ]
  },
  {
   "cell_type": "markdown",
   "metadata": {},
   "source": [
    "Também podemos comparar se dois arrays são efetivamente iguais"
   ]
  },
  {
   "cell_type": "code",
   "execution_count": 10,
   "metadata": {},
   "outputs": [
    {
     "name": "stdout",
     "output_type": "stream",
     "text": [
      "Array X\n",
      " [[0 1 2 3]\n",
      " [4 5 6 7]]\n",
      "Array Y\n",
      " [[0 1 2 3]\n",
      " [4 5 6 7]]\n",
      "Array Z\n",
      " [[1 2 3 4]\n",
      " [5 6 7 8]]\n",
      "X é igual a Y? True\n",
      "X é igual a Z? False\n"
     ]
    }
   ],
   "source": [
    "X = np.arange(8).reshape(2,4)\n",
    "Y = np.copy(X)\n",
    "Z = np.arange(1,9).reshape(2,4)\n",
    "\n",
    "print('Array X\\n',X)\n",
    "print('Array Y\\n',Y)\n",
    "print('Array Z\\n',Z)\n",
    "\n",
    "print('X é igual a Y?',np.array_equal(X,Y))\n",
    "print('X é igual a Z?',np.array_equal(X,Z))"
   ]
  },
  {
   "cell_type": "markdown",
   "metadata": {},
   "source": [
    "<h3>Reduções</h3>\n",
    "\n",
    "Podemos usar métodos para agrupar informações:\n",
    "\n",
    "- max\n",
    "\n",
    "- min\n",
    "\n",
    "- mean\n",
    "\n",
    "- sum"
   ]
  },
  {
   "cell_type": "code",
   "execution_count": 11,
   "metadata": {},
   "outputs": [
    {
     "name": "stdout",
     "output_type": "stream",
     "text": [
      "Máx: 19\n",
      "Mín: 0\n",
      "Média: 9.5\n",
      "Soma: 190\n"
     ]
    }
   ],
   "source": [
    "A = np.arange(20).reshape(4,5)\n",
    "\n",
    "print('Máx:',np.max(A))\n",
    "print('Mín:',np.min(A))\n",
    "print('Média:',np.mean(A))\n",
    "print('Soma:',np.sum(A))"
   ]
  },
  {
   "cell_type": "markdown",
   "metadata": {},
   "source": [
    "As reduções podem também ser feitas por linhas e colunas, especificando o eixo (axis) em questão. \n",
    "\n",
    "Nesse ponto, vale ressaltar que o eixo especificado é o de locomoção\n",
    "\n",
    "Por exemplo...\n",
    "\n",
    "axis=0 irá fazer com que a operação ocorra através do eixo 0 (abscissas), realizando operações nas colunas\n",
    "\n",
    "axis=1 irá fazer com que a operação ocorra através do eixo 1 (ordenadas), realizando oeprações nas linhas"
   ]
  },
  {
   "cell_type": "code",
   "execution_count": 12,
   "metadata": {},
   "outputs": [
    {
     "name": "stdout",
     "output_type": "stream",
     "text": [
      "Matriz Z\n",
      " [[0. 1. 2. 3. 4.]\n",
      " [0. 1. 2. 3. 4.]\n",
      " [0. 1. 2. 3. 4.]\n",
      " [0. 1. 2. 3. 4.]]\n",
      "Soma das linhas: [10. 10. 10. 10.]\n",
      "Soma das colunas: [ 0.  4.  8. 12. 16.]\n"
     ]
    }
   ],
   "source": [
    "Z = np.zeros((4,5))\n",
    "\n",
    "Z[:] = np.arange(5)\n",
    "\n",
    "print('Matriz Z\\n',Z)\n",
    "print('Soma das linhas:',np.sum(Z,axis=1))\n",
    "print('Soma das colunas:',np.sum(Z,axis=0))"
   ]
  },
  {
   "cell_type": "markdown",
   "metadata": {},
   "source": [
    "<h3>Reduções Lógicas</h3>\n",
    "\n",
    "- any: verifica se algum dos itens de uma matriz, linha ou coluna satisfaz uma determinada condição\n",
    "\n",
    "- all: verifica se todos os itens de uma matriz, linha ou coluna satisfazem uma determinada condição"
   ]
  },
  {
   "cell_type": "code",
   "execution_count": 13,
   "metadata": {},
   "outputs": [
    {
     "name": "stdout",
     "output_type": "stream",
     "text": [
      "Máscara booleana\n",
      " [[ True False False False False]\n",
      " [ True False False False False]\n",
      " [ True False False False False]\n",
      " [ True False False False False]] \n",
      "\n",
      "Todos os elementos iguais a zero? False \n",
      "\n",
      "Algum elemento igual a zero? True\n",
      "Todos os elementos da coluna iguais a zero? [ True False False False False]\n",
      "Todos os elementos da linha iguais a zero? [False False False False]\n"
     ]
    }
   ],
   "source": [
    "mascara_booleana = (Z == 0)\n",
    "\n",
    "print('Máscara booleana\\n',mascara_booleana,'\\n')\n",
    "print('Todos os elementos iguais a zero?',mascara_booleana.all(),'\\n')\n",
    "print('Algum elemento igual a zero?',mascara_booleana.any())\n",
    "print('Todos os elementos da coluna iguais a zero?',mascara_booleana.all(axis=0))\n",
    "print('Todos os elementos da linha iguais a zero?',mascara_booleana.all(axis=1))"
   ]
  },
  {
   "cell_type": "markdown",
   "metadata": {},
   "source": [
    "<h3>Ordenação do Array</h3>\n",
    "\n",
    "- A.sort(): irá ordenar o próprio array A, linha por linha\n",
    "\n",
    "- B = np.sort(A): irá ordenar o array B, linha por linha, mantendo A intacto"
   ]
  },
  {
   "cell_type": "code",
   "execution_count": 14,
   "metadata": {},
   "outputs": [
    {
     "name": "stdout",
     "output_type": "stream",
     "text": [
      "Matriz A antes de ordenar\n",
      " [[23 22 26  0 19]\n",
      " [26 29  9 15 22]\n",
      " [ 6 11 14  7 14]\n",
      " [15 14 11  6 14]\n",
      " [21  4 22  5 21]]\n",
      "\n",
      "Matriz A após ordenar\n",
      " [[ 0 19 22 23 26]\n",
      " [ 9 15 22 26 29]\n",
      " [ 6  7 11 14 14]\n",
      " [ 6 11 14 14 15]\n",
      " [ 4  5 21 21 22]]\n"
     ]
    }
   ],
   "source": [
    "# testando a ordenação real da matriz\n",
    "\n",
    "A = np.random.randint(low=0, high=30, size=(5,5))\n",
    "\n",
    "print('Matriz A antes de ordenar\\n',A)\n",
    "\n",
    "A.sort()\n",
    "\n",
    "print('\\nMatriz A após ordenar\\n',A)"
   ]
  },
  {
   "cell_type": "code",
   "execution_count": 15,
   "metadata": {},
   "outputs": [
    {
     "name": "stdout",
     "output_type": "stream",
     "text": [
      "Matriz A antes da ordenação\n",
      " [[23 26 19  4  9]\n",
      " [ 6 11  8  2 10]\n",
      " [ 4 23 29  0  4]\n",
      " [ 6 22  8 23 27]\n",
      " [10 29  1  1 12]]\n",
      "\n",
      "Matriz A após a ordenação\n",
      " [[23 26 19  4  9]\n",
      " [ 6 11  8  2 10]\n",
      " [ 4 23 29  0  4]\n",
      " [ 6 22  8 23 27]\n",
      " [10 29  1  1 12]]\n",
      "\n",
      "Matriz B\n",
      " [[ 4  9 19 23 26]\n",
      " [ 2  6  8 10 11]\n",
      " [ 0  4  4 23 29]\n",
      " [ 6  8 22 23 27]\n",
      " [ 1  1 10 12 29]]\n"
     ]
    }
   ],
   "source": [
    "# testando a ordenação virtual da matriz\n",
    "\n",
    "A = np.random.randint(low='0', high='30', size=(5,5))\n",
    "\n",
    "print('Matriz A antes da ordenação\\n',A)\n",
    "\n",
    "B = np.sort(A)\n",
    "\n",
    "print('\\nMatriz A após a ordenação\\n',A)\n",
    "\n",
    "print('\\nMatriz B\\n',B)"
   ]
  },
  {
   "cell_type": "markdown",
   "metadata": {},
   "source": [
    "Pode-se também aplicar a ordenação às colunas"
   ]
  },
  {
   "cell_type": "code",
   "execution_count": 16,
   "metadata": {},
   "outputs": [
    {
     "name": "stdout",
     "output_type": "stream",
     "text": [
      "Matriz A antes da ordenação por coluna\n",
      " [[18 11 13  8  2]\n",
      " [19  8  6 20 13]\n",
      " [17 17  1  8  3]\n",
      " [27  3 24 26 12]\n",
      " [21 28 25 14 24]]\n",
      "\n",
      "Matriz A após a ordenação por coluna\n",
      " [[17  3  1  8  2]\n",
      " [18  8  6  8  3]\n",
      " [19 11 13 14 12]\n",
      " [21 17 24 20 13]\n",
      " [27 28 25 26 24]]\n"
     ]
    }
   ],
   "source": [
    "A = np.random.randint(low='0', high='30', size=(5,5))\n",
    "\n",
    "print('Matriz A antes da ordenação por coluna\\n',A)\n",
    "\n",
    "A.sort(axis=0)\n",
    "\n",
    "print('\\nMatriz A após a ordenação por coluna\\n',A)"
   ]
  },
  {
   "cell_type": "markdown",
   "metadata": {},
   "source": [
    "<h3>Argsort</h3>\n",
    "\n",
    "Esse método ordena a matriz e, ao invés de retornar o conteúdo, representa os índices da organização original, nas novas posições"
   ]
  },
  {
   "cell_type": "code",
   "execution_count": 17,
   "metadata": {},
   "outputs": [
    {
     "name": "stdout",
     "output_type": "stream",
     "text": [
      "Matriz A antes da ordenação por coluna\n",
      " [[ 1 17 10]\n",
      " [29 17 24]\n",
      " [10 27  2]]\n",
      "\n",
      "Matriz B, contendo a matriz A ordenada por índices\n",
      " [[0 2 1]\n",
      " [1 2 0]\n",
      " [2 0 1]]\n"
     ]
    }
   ],
   "source": [
    "A = np.random.randint(low='0', high='30', size=(3,3))\n",
    "\n",
    "print('Matriz A antes da ordenação por coluna\\n',A)\n",
    "\n",
    "B = np.argsort(A)\n",
    "\n",
    "print('\\nMatriz B, contendo a matriz A ordenada por índices\\n',B)"
   ]
  },
  {
   "cell_type": "markdown",
   "metadata": {},
   "source": [
    "<h3>Multiplicação matricial e vetorial</h3>\n",
    "\n",
    "- usa-se o comando 'dot' e necessariamente elas tem que ser compatíveis\n",
    "\n",
    "- $C_{ik} = A_{ij} * B_{jk}$"
   ]
  },
  {
   "cell_type": "code",
   "execution_count": 18,
   "metadata": {},
   "outputs": [
    {
     "name": "stdout",
     "output_type": "stream",
     "text": [
      "Matriz A\n",
      " [[0 1 2 3 4]\n",
      " [5 6 7 8 9]]\n",
      "\n",
      "Matriz B\n",
      " [[0 1]\n",
      " [2 3]\n",
      " [4 5]\n",
      " [6 7]\n",
      " [8 9]]\n",
      "\n",
      "Matriz C\n",
      " [[ 60  70]\n",
      " [160 195]]\n"
     ]
    }
   ],
   "source": [
    "A = np.arange(10).reshape(2,5)\n",
    "\n",
    "B = np.arange(10).reshape(5,2)\n",
    "\n",
    "C = np.dot(A,B)\n",
    "\n",
    "print('Matriz A\\n',A)\n",
    "print('\\nMatriz B\\n',B)\n",
    "print('\\nMatriz C\\n',C)"
   ]
  },
  {
   "cell_type": "markdown",
   "metadata": {},
   "source": [
    "<h3>Matplotlib</h3>\n",
    "\n",
    "Permite a geração de gráficos usando a biblioteca Matplotlib e Pyplot"
   ]
  },
  {
   "cell_type": "code",
   "execution_count": 19,
   "metadata": {},
   "outputs": [
    {
     "data": {
      "text/plain": [
       "[<matplotlib.lines.Line2D at 0x2374b7f4370>]"
      ]
     },
     "execution_count": 19,
     "metadata": {},
     "output_type": "execute_result"
    },
    {
     "data": {
      "image/png": "[encoded data removed]",
      "text/plain": [
       "<Figure size 432x288 with 1 Axes>"
      ]
     },
     "metadata": {
      "needs_background": "light"
     },
     "output_type": "display_data"
    }
   ],
   "source": [
    "import matplotlib.pyplot as plt\n",
    "\n",
    "%matplotlib inline \n",
    "\n",
    "x = np.linspace(-1,1,20)\n",
    "y = x**2\n",
    "\n",
    "plt.plot(x,y)"
   ]
  },
  {
   "cell_type": "markdown",
   "metadata": {},
   "source": [
    "Delimitando o tamanho do eixo\n",
    "\n",
    "- plt.axis$([x_o,x_f,y_o,y_f])$"
   ]
  },
  {
   "cell_type": "code",
   "execution_count": 20,
   "metadata": {},
   "outputs": [
    {
     "data": {
      "text/plain": [
       "(-1.5, 1.5, -0.1, 1.1)"
      ]
     },
     "execution_count": 20,
     "metadata": {},
     "output_type": "execute_result"
    },
    {
     "data": {
      "image/png": "[encoded data removed]",
      "text/plain": [
       "<Figure size 432x288 with 1 Axes>"
      ]
     },
     "metadata": {
      "needs_background": "light"
     },
     "output_type": "display_data"
    }
   ],
   "source": [
    "import matplotlib.pyplot as plt\n",
    "\n",
    "%matplotlib inline \n",
    "\n",
    "x = np.linspace(-1,1,20)\n",
    "y = x**2\n",
    "\n",
    "plt.plot(x,y)\n",
    "plt.axis([-1.5,1.5,-0.1,1.1])"
   ]
  },
  {
   "cell_type": "markdown",
   "metadata": {},
   "source": [
    "Podemos incrementar a visualização, passando **kwargs para o comando plt.plot\n",
    "\n",
    "- color: cor da linha\n",
    "\n",
    "- linewidth: espessura da linha\n",
    "\n",
    "- linestyle: estilo da linha... dashed, dash-dot, etc\n",
    "\n",
    "- marker: marcador dos pontos\n",
    "\n",
    "- label: utilizado para especificar uma legenda, quando esse método está ativo"
   ]
  },
  {
   "cell_type": "code",
   "execution_count": 21,
   "metadata": {},
   "outputs": [
    {
     "data": {
      "text/plain": [
       "[<matplotlib.lines.Line2D at 0x2374bb8b6d0>]"
      ]
     },
     "execution_count": 21,
     "metadata": {},
     "output_type": "execute_result"
    },
    {
     "data": {
      "image/png": "[encoded data removed]",
      "text/plain": [
       "<Figure size 432x288 with 1 Axes>"
      ]
     },
     "metadata": {
      "needs_background": "light"
     },
     "output_type": "display_data"
    }
   ],
   "source": [
    "plt.plot(x, y, color='red', linewidth=1, linestyle='--', marker='o')"
   ]
  },
  {
   "cell_type": "markdown",
   "metadata": {},
   "source": [
    "Pode-se incluir diversos plots ao mesmo tempo"
   ]
  },
  {
   "cell_type": "code",
   "execution_count": 22,
   "metadata": {},
   "outputs": [
    {
     "data": {
      "text/plain": [
       "[<matplotlib.lines.Line2D at 0x2374bbe09d0>,\n",
       " <matplotlib.lines.Line2D at 0x2374bbe0a90>]"
      ]
     },
     "execution_count": 22,
     "metadata": {},
     "output_type": "execute_result"
    },
    {
     "data": {
      "image/png": "[encoded data removed]",
      "text/plain": [
       "<Figure size 432x288 with 1 Axes>"
      ]
     },
     "metadata": {
      "needs_background": "light"
     },
     "output_type": "display_data"
    }
   ],
   "source": [
    "g = lambda t:t**3\n",
    "\n",
    "plt.plot(x,y,x,g(x))"
   ]
  },
  {
   "cell_type": "code",
   "execution_count": 23,
   "metadata": {},
   "outputs": [
    {
     "data": {
      "text/plain": [
       "[None, None]"
      ]
     },
     "execution_count": 23,
     "metadata": {},
     "output_type": "execute_result"
    },
    {
     "data": {
      "image/png": "[encoded data removed]",
      "text/plain": [
       "<Figure size 432x288 with 1 Axes>"
      ]
     },
     "metadata": {
      "needs_background": "light"
     },
     "output_type": "display_data"
    }
   ],
   "source": [
    "# deve-se declarar um objeto de plot\n",
    "plt_x2_x3 = plt.plot(x,y,x,g(x))\n",
    "plt.setp(plt_x2_x3,linestyle='--')"
   ]
  },
  {
   "cell_type": "markdown",
   "metadata": {},
   "source": [
    "<h3>Subplot</h3>\n",
    "\n",
    "- Podemos também gerar vários gráficos em janelas distintas, dentro do mesmo plot, usando o Subplot\n",
    "\n",
    "- Sintaxe geral\n",
    "    >> plt.subplot(linhas, colunas, elemento)\n",
    "    \n",
    "    >> plt.plot(objeto_abscissas, objeto_ordenadas, **kwargs)"
   ]
  },
  {
   "cell_type": "code",
   "execution_count": 24,
   "metadata": {},
   "outputs": [
    {
     "data": {
      "text/plain": [
       "[<matplotlib.lines.Line2D at 0x2374bd5d040>]"
      ]
     },
     "execution_count": 24,
     "metadata": {},
     "output_type": "execute_result"
    },
    {
     "data": {
      "image/png": "[encoded data removed]",
      "text/plain": [
       "<Figure size 432x288 with 4 Axes>"
      ]
     },
     "metadata": {
      "needs_background": "light"
     },
     "output_type": "display_data"
    }
   ],
   "source": [
    "import numpy as np\n",
    "import matplotlib.pyplot as plt\n",
    "\n",
    "f = lambda x:x**2\n",
    "g = lambda x:-x**2\n",
    "h = lambda x:np.exp(-x)\n",
    "j = lambda x:2*x\n",
    "\n",
    "\n",
    "X = np.linspace(0,10,50)\n",
    "\n",
    "plt.subplot(2,2,1)\n",
    "plt.plot(X,f(X), color='blue')\n",
    "\n",
    "plt.subplot(2,2,2)\n",
    "plt.plot(X,g(X),color='red', linestyle='--')\n",
    "\n",
    "plt.subplot(2,2,3)\n",
    "plt.plot(X,h(X),color='green', linestyle='-.')\n",
    "\n",
    "plt.subplot(2,2,4)\n",
    "plt.plot(X,j(X))"
   ]
  },
  {
   "cell_type": "markdown",
   "metadata": {},
   "source": [
    "<h3>Textos em gráficos</h3>\n",
    "\n",
    "Alguns do métodos úteis são:\n",
    "\n",
    "- text(): adiciona um texto a um ponto específico da tela\n",
    "- xlabel(): adiciona uma label ao eixo 'x'\n",
    "- ylabel(): adiciona uma label ao eixo 'y'\n",
    "- title(): adiciona um título ao gráfico\n",
    "- annotate(): adiciona uma anotação, com uma seta opcional"
   ]
  },
  {
   "cell_type": "code",
   "execution_count": 25,
   "metadata": {},
   "outputs": [
    {
     "data": {
      "image/png": "[encoded data removed]",
      "text/plain": [
       "<Figure size 432x288 with 1 Axes>"
      ]
     },
     "metadata": {
      "needs_background": "light"
     },
     "output_type": "display_data"
    }
   ],
   "source": [
    "funcao_generica = lambda x:x**2-2*x+10\n",
    "\n",
    "x = np.linspace(-5,5,100)\n",
    "\n",
    "meu_grafico = plt.plot(x,funcao_generica(x))\n",
    "plt.setp(meu_grafico, color='red', linestyle='--', label='Genérica')\n",
    "plt.xlabel('x')\n",
    "plt.ylabel('Função Genérica')\n",
    "plt.text(-1,30,'Função Genérica = x^2 - 2x + 10')\n",
    "plt.annotate('A Função', xy=(1,33), xytext=(2,40),arrowprops=dict(facecolor='black'))\n",
    "plt.legend()\n",
    "plt.grid()"
   ]
  },
  {
   "cell_type": "markdown",
   "metadata": {},
   "source": [
    "Legendas são facilmente geradas, simplesmente acionando o método:\n",
    "\n",
    "- plt.legend()\n",
    "\n",
    "- Para tal, deve-se ter enunciado uma label para o gráfico"
   ]
  }
 ],
 "metadata": {
  "kernelspec": {
   "display_name": "Python 3",
   "language": "python",
   "name": "python3"
  },
  "language_info": {
   "codemirror_mode": {
    "name": "ipython",
    "version": 3
   },
   "file_extension": ".py",
   "mimetype": "text/x-python",
   "name": "python",
   "nbconvert_exporter": "python",
   "pygments_lexer": "ipython3",
   "version": "3.9.1"
  }
 },
 "nbformat": 4,
 "nbformat_minor": 4
}
