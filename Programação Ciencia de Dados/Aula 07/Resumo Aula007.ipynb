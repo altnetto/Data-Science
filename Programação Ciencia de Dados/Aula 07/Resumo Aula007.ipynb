{
 "cells": [
  {
   "cell_type": "code",
   "execution_count": 2,
   "id": "therapeutic-canyon",
   "metadata": {},
   "outputs": [],
   "source": [
    "import pandas as pd"
   ]
  },
  {
   "cell_type": "code",
   "execution_count": 3,
   "id": "close-guatemala",
   "metadata": {},
   "outputs": [
    {
     "output_type": "stream",
     "name": "stdout",
     "text": [
      "Overwriting missing.csv\n"
     ]
    }
   ],
   "source": [
    "%%writefile missing.csv\n",
    "Colorado,,,,\n",
    "Ohio,3,5,6,9\n",
    "Oregon,,,,\n",
    "Texas,9,12,,\n",
    "Utah,,,,"
   ]
  },
  {
   "cell_type": "code",
   "execution_count": 4,
   "metadata": {},
   "outputs": [
    {
     "output_type": "execute_result",
     "data": {
      "text/plain": [
       "          0    1     2    3    4\n",
       "0  Colorado  NaN   NaN  NaN  NaN\n",
       "1      Ohio  3.0   5.0  6.0  9.0\n",
       "2    Oregon  NaN   NaN  NaN  NaN\n",
       "3     Texas  9.0  12.0  NaN  NaN\n",
       "4      Utah  NaN   NaN  NaN  NaN"
      ],
      "text/html": "<div>\n<style scoped>\n    .dataframe tbody tr th:only-of-type {\n        vertical-align: middle;\n    }\n\n    .dataframe tbody tr th {\n        vertical-align: top;\n    }\n\n    .dataframe thead th {\n        text-align: right;\n    }\n</style>\n<table border=\"1\" class=\"dataframe\">\n  <thead>\n    <tr style=\"text-align: right;\">\n      <th></th>\n      <th>0</th>\n      <th>1</th>\n      <th>2</th>\n      <th>3</th>\n      <th>4</th>\n    </tr>\n  </thead>\n  <tbody>\n    <tr>\n      <th>0</th>\n      <td>Colorado</td>\n      <td>NaN</td>\n      <td>NaN</td>\n      <td>NaN</td>\n      <td>NaN</td>\n    </tr>\n    <tr>\n      <th>1</th>\n      <td>Ohio</td>\n      <td>3.0</td>\n      <td>5.0</td>\n      <td>6.0</td>\n      <td>9.0</td>\n    </tr>\n    <tr>\n      <th>2</th>\n      <td>Oregon</td>\n      <td>NaN</td>\n      <td>NaN</td>\n      <td>NaN</td>\n      <td>NaN</td>\n    </tr>\n    <tr>\n      <th>3</th>\n      <td>Texas</td>\n      <td>9.0</td>\n      <td>12.0</td>\n      <td>NaN</td>\n      <td>NaN</td>\n    </tr>\n    <tr>\n      <th>4</th>\n      <td>Utah</td>\n      <td>NaN</td>\n      <td>NaN</td>\n      <td>NaN</td>\n      <td>NaN</td>\n    </tr>\n  </tbody>\n</table>\n</div>"
     },
     "metadata": {},
     "execution_count": 4
    }
   ],
   "source": [
    "df = pd.read_csv('missing.csv', header=None)\n",
    "\n",
    "df.head()"
   ]
  },
  {
   "source": [
    "<h3>Métodos para deletar dados faltantes</h3>\n",
    "\n",
    "- isnull: cria uma máscara booleana, onde os valores *True* representam dados faltantes"
   ],
   "cell_type": "markdown",
   "metadata": {}
  },
  {
   "cell_type": "code",
   "execution_count": 5,
   "metadata": {},
   "outputs": [
    {
     "output_type": "stream",
     "name": "stdout",
     "text": [
      "       0      1      2      3      4\n0  False   True   True   True   True\n1  False  False  False  False  False\n2  False   True   True   True   True\n3  False  False  False   True   True\n4  False   True   True   True   True\n"
     ]
    }
   ],
   "source": [
    "print(df.isnull())"
   ]
  },
  {
   "source": [
    "- dropna: remove todas as linhas onde há dados faltantes (any)\n",
    "    - esse método gera um novo dataframe, não excluindo o anterior\n",
    "    - how: pode-se selecionar o modo de remoção\n",
    "        - any: qualquer valor está faltante *** default\n",
    "        - all: apenas onde todos os valores estão faltantes\n",
    "    - pode-se especificar o eixo (axis), para trabalhar com as colunas\n",
    "    - thresh(n): tolerância de dados faltantes, removendo a partir de n+1 dados faltantes"
   ],
   "cell_type": "markdown",
   "metadata": {}
  },
  {
   "cell_type": "code",
   "execution_count": 6,
   "metadata": {},
   "outputs": [
    {
     "output_type": "stream",
     "name": "stdout",
     "text": [
      "      0    1    2    3    4\n1  Ohio  3.0  5.0  6.0  9.0\n"
     ]
    }
   ],
   "source": [
    "print(df.dropna())"
   ]
  },
  {
   "cell_type": "code",
   "execution_count": 7,
   "metadata": {},
   "outputs": [
    {
     "output_type": "stream",
     "name": "stdout",
     "text": [
      "      0    1    2    3    4\n1  Ohio  3.0  5.0  6.0  9.0\n"
     ]
    }
   ],
   "source": [
    "print(df.dropna(how='any'))"
   ]
  },
  {
   "cell_type": "code",
   "execution_count": 8,
   "metadata": {},
   "outputs": [
    {
     "output_type": "stream",
     "name": "stdout",
     "text": [
      "          0    1     2    3    4\n0  Colorado  NaN   NaN  NaN  NaN\n1      Ohio  3.0   5.0  6.0  9.0\n2    Oregon  NaN   NaN  NaN  NaN\n3     Texas  9.0  12.0  NaN  NaN\n4      Utah  NaN   NaN  NaN  NaN\n"
     ]
    }
   ],
   "source": [
    "print(df.dropna(how='all'))"
   ]
  },
  {
   "cell_type": "code",
   "execution_count": 9,
   "metadata": {},
   "outputs": [
    {
     "output_type": "stream",
     "name": "stdout",
     "text": [
      "          0    1     2    3    4\n0  Colorado  NaN   NaN  NaN  NaN\n1      Ohio  3.0   5.0  6.0  9.0\n2    Oregon  NaN   NaN  NaN  NaN\n3     Texas  9.0  12.0  NaN  NaN\n4      Utah  NaN   NaN  NaN  NaN\n"
     ]
    }
   ],
   "source": [
    "print(df.dropna(how='all', axis=1))"
   ]
  },
  {
   "cell_type": "code",
   "execution_count": 10,
   "metadata": {},
   "outputs": [
    {
     "output_type": "stream",
     "name": "stdout",
     "text": [
      "       0    1     2    3    4\n1   Ohio  3.0   5.0  6.0  9.0\n3  Texas  9.0  12.0  NaN  NaN\n"
     ]
    }
   ],
   "source": [
    "print(df.dropna(thresh=2))"
   ]
  },
  {
   "source": [
    "Método fillna(value)\n",
    "\n",
    "- permite preencher os dados faltantes com algum valor determinado\n",
    "- posso preencher os dados originais em coordenadas específicas de coluna usando um dicionário"
   ],
   "cell_type": "markdown",
   "metadata": {}
  },
  {
   "cell_type": "code",
   "execution_count": 11,
   "metadata": {},
   "outputs": [
    {
     "output_type": "stream",
     "name": "stdout",
     "text": [
      "Dados faltantes = 0\n",
      "\n",
      "           0    1     2    3    4\n",
      "0  Colorado  0.0   0.0  0.0  0.0\n",
      "1      Ohio  3.0   5.0  6.0  9.0\n",
      "2    Oregon  0.0   0.0  0.0  0.0\n",
      "3     Texas  9.0  12.0  0.0  0.0\n",
      "4      Utah  0.0   0.0  0.0  0.0\n"
     ]
    }
   ],
   "source": [
    "print('Dados faltantes = 0\\n\\n',df.fillna(0))"
   ]
  },
  {
   "source": [
    "segue o preenchimento por coluna"
   ],
   "cell_type": "markdown",
   "metadata": {}
  },
  {
   "cell_type": "code",
   "execution_count": 12,
   "metadata": {},
   "outputs": [
    {
     "output_type": "stream",
     "name": "stdout",
     "text": [
      "Tabela original\n",
      "\n",
      "           0    1     2    3    4\n",
      "0  Colorado  NaN   NaN  NaN  NaN\n",
      "1      Ohio  3.0   5.0  6.0  9.0\n",
      "2    Oregon  NaN   NaN  NaN  NaN\n",
      "3     Texas  9.0  12.0  NaN  NaN\n",
      "4      Utah  NaN   NaN  NaN  NaN\n",
      "\n",
      "\n",
      "Tabela modificada\n",
      "\n",
      "           0    1     2    3    4\n",
      "0  Colorado -1.0   NaN  0.0  1.0\n",
      "1      Ohio  3.0   5.0  6.0  9.0\n",
      "2    Oregon -1.0   NaN  0.0  1.0\n",
      "3     Texas  9.0  12.0  0.0  1.0\n",
      "4      Utah -1.0   NaN  0.0  1.0\n"
     ]
    }
   ],
   "source": [
    "# nesse caso, iremos preencher os dados da coluna 2 com o valor '-1', da coluna 4 com '0' e da coluna 5 com '1'\n",
    "meu_dic = {1:-1, 3:0, 4:1}\n",
    "\n",
    "print('Tabela original\\n\\n',df)\n",
    "print('\\n\\nTabela modificada\\n\\n',df.fillna(meu_dic))"
   ]
  },
  {
   "source": [
    "<h3>Processamento de dados</h3>\n",
    "\n",
    "A biblioteca Pandas possui diversos métodos de processamento de dados, o que auxilia muito no processo de limpeza e filtragem de dados.\n",
    "\n",
    "Métodos duplicated e drop_duplicated\n",
    "\n",
    "- duplicated: verifica ocorrências de valores duplicados em uma determinada coluna -> retorna uma máscara booleana\n",
    "- drop_duplicated: remove os valores duplicados de uma dada coluna"
   ],
   "cell_type": "markdown",
   "metadata": {}
  },
  {
   "cell_type": "code",
   "execution_count": 13,
   "metadata": {},
   "outputs": [
    {
     "output_type": "stream",
     "name": "stdout",
     "text": [
      "    c0  c1\n0  one   1\n1  one   1\n2  one   2\n3  two   3\n4  two   3\n5  two   4\n6  two   4\n"
     ]
    }
   ],
   "source": [
    "df = pd.DataFrame({'c0':['one', 'one', 'one', 'two', 'two', 'two', 'two'], 'c1':[1,1,2,3,3,4,4]})\n",
    "\n",
    "print(df)"
   ]
  },
  {
   "cell_type": "code",
   "execution_count": 14,
   "metadata": {},
   "outputs": [
    {
     "output_type": "stream",
     "name": "stdout",
     "text": [
      "    c0  c1     c2\n",
      "0  one   1  False\n",
      "1  one   1   True\n",
      "2  one   2  False\n",
      "3  two   3  False\n",
      "4  two   3   True\n",
      "5  two   4  False\n",
      "6  two   4   True\n"
     ]
    }
   ],
   "source": [
    "duplicados = df\n",
    "duplicados['c2'] = df.duplicated()\n",
    "\n",
    "\n",
    "print(duplicados)"
   ]
  },
  {
   "cell_type": "code",
   "execution_count": 23,
   "metadata": {},
   "outputs": [
    {
     "output_type": "stream",
     "name": "stdout",
     "text": [
      "    c0  c1\n0  one   1\n2  one   2\n3  two   3\n5  two   4\n"
     ]
    }
   ],
   "source": [
    "print(df.drop_duplicates())"
   ]
  },
  {
   "source": [
    "<h3>Método map</h3>\n",
    "\n",
    "Define uma regra para transformar os valores de uma determinada coluna"
   ],
   "cell_type": "markdown",
   "metadata": {}
  },
  {
   "cell_type": "code",
   "execution_count": 30,
   "metadata": {},
   "outputs": [
    {
     "output_type": "stream",
     "name": "stdout",
     "text": [
      "     food  ounces   type\n0   Bread       4  grain\n1   Apple       3  fruit\n2  Cheese      12  dairy\n"
     ]
    }
   ],
   "source": [
    "dt = {'food':['Bread','Apple','Cheese'], 'ounces': [4,3,12],'type':['grain','fruit','dairy']}\n",
    "\n",
    "df = pd.DataFrame(dt)\n",
    "\n",
    "print(df)"
   ]
  },
  {
   "cell_type": "code",
   "execution_count": 33,
   "metadata": {},
   "outputs": [
    {
     "output_type": "stream",
     "name": "stdout",
     "text": [
      "     food  ounces   type\n0   Bread       4  GRAIN\n1   Apple       3  FRUIT\n2  Cheese      12  DAIRY\n"
     ]
    }
   ],
   "source": [
    "df['type'] = df['type'].map(lambda x : x.upper())\n",
    "\n",
    "print(df)"
   ]
  },
  {
   "source": [
    "Também pode-se inserir esses valores 'mapeados' em uma outra coluna"
   ],
   "cell_type": "markdown",
   "metadata": {}
  },
  {
   "cell_type": "code",
   "execution_count": 41,
   "metadata": {},
   "outputs": [
    {
     "output_type": "stream",
     "name": "stdout",
     "text": [
      "     food  ounces   type type upper\n0   Bread       4  grain      GRAIN\n1   Apple       3  fruit      FRUIT\n2  Cheese      12  dairy      DAIRY\n"
     ]
    }
   ],
   "source": [
    "df['type'] = df['type'].map(lambda x : x.lower())\n",
    "df['type upper'] = df['type'].map(lambda x : x.upper())\n",
    "\n",
    "print(df)"
   ]
  },
  {
   "source": [
    "Pode-se também usar o map para atribuir o resultado de uma transformação para uma nova coluna no DataFrame, de modo que tem que se aplicar os dados já existentes para surtir efeito"
   ],
   "cell_type": "markdown",
   "metadata": {}
  },
  {
   "cell_type": "code",
   "execution_count": 42,
   "metadata": {},
   "outputs": [
    {
     "output_type": "stream",
     "name": "stdout",
     "text": [
      "     food  ounces   type type upper caloriess\n0   Bread       4  grain      GRAIN      high\n1   Apple       3  fruit      FRUIT       low\n2  Cheese      12  dairy      DAIRY      high\n"
     ]
    }
   ],
   "source": [
    "calories_by_type = {'Cheese':'high','Apple':'low','Bread':'high'}\n",
    "\n",
    "df['caloriess'] = df['food'].map(calories_by_type)\n",
    "\n",
    "print(df)"
   ]
  },
  {
   "source": [
    "<h3>Método Replace</h3>\n",
    "\n",
    "Substitui os valores de um DataFrame de dois modos possíveis:\n",
    "\n",
    "- substituição dos valores usando duas listas com valores de referência -> chave / replacement\n",
    "- substituição dos valores de modo direcionado\n",
    "    - deve-se usar um dicionário especificando as chaves (colunas) e os valores a mudar (lista com os elementos da coluna que serão inseridos no lugar)"
   ],
   "cell_type": "markdown",
   "metadata": {}
  },
  {
   "cell_type": "code",
   "execution_count": 43,
   "metadata": {},
   "outputs": [
    {
     "output_type": "stream",
     "name": "stdout",
     "text": [
      "   c1  c2   c3   c4\n0   1   2  bla  cla\n1   2   4  cla  bla\n2   3   6  dla  fla\n3   4   8  ela  ela\n4   5  10  fla  dla\n"
     ]
    }
   ],
   "source": [
    "dfr = pd.DataFrame({'c1':[1,2,3,4,5],'c2':[2,4,6,8,10],'c3':['bla','cla','dla','ela','fla'],\n",
    "                   'c4':['cla','bla','fla','ela','dla']})\n",
    "print(dfr)"
   ]
  },
  {
   "cell_type": "code",
   "execution_count": 44,
   "metadata": {},
   "outputs": [
    {
     "output_type": "execute_result",
     "data": {
      "text/plain": [
       "   c1  c2    c3    c4\n",
       "0   1  -2   bla  clam\n",
       "1  -2   4  clam   bla\n",
       "2   3   6   dla   fla\n",
       "3   4   8   ela   ela\n",
       "4   5  10   fla   dla"
      ],
      "text/html": "<div>\n<style scoped>\n    .dataframe tbody tr th:only-of-type {\n        vertical-align: middle;\n    }\n\n    .dataframe tbody tr th {\n        vertical-align: top;\n    }\n\n    .dataframe thead th {\n        text-align: right;\n    }\n</style>\n<table border=\"1\" class=\"dataframe\">\n  <thead>\n    <tr style=\"text-align: right;\">\n      <th></th>\n      <th>c1</th>\n      <th>c2</th>\n      <th>c3</th>\n      <th>c4</th>\n    </tr>\n  </thead>\n  <tbody>\n    <tr>\n      <th>0</th>\n      <td>1</td>\n      <td>-2</td>\n      <td>bla</td>\n      <td>clam</td>\n    </tr>\n    <tr>\n      <th>1</th>\n      <td>-2</td>\n      <td>4</td>\n      <td>clam</td>\n      <td>bla</td>\n    </tr>\n    <tr>\n      <th>2</th>\n      <td>3</td>\n      <td>6</td>\n      <td>dla</td>\n      <td>fla</td>\n    </tr>\n    <tr>\n      <th>3</th>\n      <td>4</td>\n      <td>8</td>\n      <td>ela</td>\n      <td>ela</td>\n    </tr>\n    <tr>\n      <th>4</th>\n      <td>5</td>\n      <td>10</td>\n      <td>fla</td>\n      <td>dla</td>\n    </tr>\n  </tbody>\n</table>\n</div>"
     },
     "metadata": {},
     "execution_count": 44
    }
   ],
   "source": [
    "dfr.replace([2,'cla'],[-2,'clam'])"
   ]
  },
  {
   "source": [
    "Trocar os valores utilizando dicionários, em modelo chave : valor"
   ],
   "cell_type": "markdown",
   "metadata": {}
  },
  {
   "cell_type": "code",
   "execution_count": 45,
   "metadata": {},
   "outputs": [
    {
     "output_type": "stream",
     "name": "stdout",
     "text": [
      "   c1  c2    c3    c4\n0   1   2   bla   cla\n1   2  -4   cla   bla\n2   3   6   dla  palm\n3  -4   8   ela   ela\n4   5  10  palm   dla\n"
     ]
    }
   ],
   "source": [
    "print(dfr.replace({4:-4,'fla':'palm'}))"
   ]
  },
  {
   "source": [
    "Para trocar valores específicos de colunas específicas, tem-se que utilizar um dicionário de dicionários"
   ],
   "cell_type": "markdown",
   "metadata": {}
  },
  {
   "cell_type": "code",
   "execution_count": 46,
   "metadata": {},
   "outputs": [
    {
     "output_type": "stream",
     "name": "stdout",
     "text": [
      "   c1  c2    c3   c4\n0   1   2   bla  cla\n1  -2   4   cla  bla\n2   3   6   dla  fla\n3  -4   8  eles  ela\n4   5  10   fla  dla\n"
     ]
    }
   ],
   "source": [
    "print(dfr.replace({'c1':{4:-4,2:-2},'c3':{'ela':'eles'}}))"
   ]
  },
  {
   "source": [
    "Método Rename\n",
    "\n",
    "- Renomeia os rotulos de índice (colunas ou linhas), com base em uma regra determinada.\n",
    "\n",
    "- Pode utilizar dicionários com os valores em formato chave(valor atual) : valor(valor desejado) ou com funções (geralmente lambda)\n",
    "\n",
    "- index: linhas\n",
    "\n",
    "- columns: colunas"
   ],
   "cell_type": "markdown",
   "metadata": {}
  },
  {
   "cell_type": "code",
   "execution_count": 48,
   "metadata": {},
   "outputs": [
    {
     "output_type": "stream",
     "name": "stdout",
     "text": [
      "   c1  c2   c3   c4\n0   1   2  bla  cla\n1   2   4  cla  bla\n2   3   6  dla  fla\n3   4   8  ela  ela\n4   5  10  fla  dla\n"
     ]
    }
   ],
   "source": [
    "dfr = pd.DataFrame({'c1':[1,2,3,4,5],'c2':[2,4,6,8,10],'c3':['bla','cla','dla','ela','fla'],\n",
    "                   'c4':['cla','bla','fla','ela','dla']})\n",
    "\n",
    "print(dfr)"
   ]
  },
  {
   "cell_type": "code",
   "execution_count": 58,
   "metadata": {},
   "outputs": [
    {
     "output_type": "stream",
     "name": "stdout",
     "text": [
      "    C1  C2   C3   C4\n0a   1   2  bla  cla\n1a   2   4  cla  bla\n2a   3   6  dla  fla\n3a   4   8  ela  ela\n4a   5  10  fla  dla\n"
     ]
    }
   ],
   "source": [
    "dfr_modificado = dfr.rename(index = lambda x : str(x) + 'a', columns= lambda x : x.upper())\n",
    "\n",
    "print(dfr_modificado)"
   ]
  },
  {
   "cell_type": "code",
   "execution_count": null,
   "metadata": {},
   "outputs": [],
   "source": [
    "Método Merge\n",
    "\n",
    "- Faz a junção de dois dataframes com base em uma chave comum"
   ]
  },
  {
   "cell_type": "code",
   "execution_count": 60,
   "metadata": {},
   "outputs": [
    {
     "output_type": "stream",
     "name": "stdout",
     "text": [
      "df1\n\n   key  data1\n0   b      0\n1   b      1\n2   a      2\n3   c      3\n4   a      4\n5   a      5\n6   b      6\n\n\ndf2\n\n   key  data2\n0   a      0\n1   b      1\n2   d      2\n3   b      3\n4   d      4\n"
     ]
    }
   ],
   "source": [
    "df1 = pd.DataFrame({'key': ['b','b','a','c','a','a','b'], \n",
    "                   'data1': range(7)})\n",
    "\n",
    "df2 = pd.DataFrame({'key': ['a','b','d','b','d'], \n",
    "                   'data2': range(5)})\n",
    "\n",
    "print('df1\\n\\n',df1)\n",
    "print('\\n\\ndf2\\n\\n',df2)"
   ]
  },
  {
   "source": [
    "O método merge faz as junções apenas de elementos iguais nos dois dataframes, a menos que se especifique que se tratam de todos os elementos (parâmetro how='outer')"
   ],
   "cell_type": "markdown",
   "metadata": {}
  },
  {
   "cell_type": "code",
   "execution_count": 61,
   "metadata": {},
   "outputs": [
    {
     "output_type": "execute_result",
     "data": {
      "text/plain": [
       "  key  data1  data2\n",
       "0   b      0      1\n",
       "1   b      0      3\n",
       "2   b      1      1\n",
       "3   b      1      3\n",
       "4   b      6      1\n",
       "5   b      6      3\n",
       "6   a      2      0\n",
       "7   a      4      0\n",
       "8   a      5      0"
      ],
      "text/html": "<div>\n<style scoped>\n    .dataframe tbody tr th:only-of-type {\n        vertical-align: middle;\n    }\n\n    .dataframe tbody tr th {\n        vertical-align: top;\n    }\n\n    .dataframe thead th {\n        text-align: right;\n    }\n</style>\n<table border=\"1\" class=\"dataframe\">\n  <thead>\n    <tr style=\"text-align: right;\">\n      <th></th>\n      <th>key</th>\n      <th>data1</th>\n      <th>data2</th>\n    </tr>\n  </thead>\n  <tbody>\n    <tr>\n      <th>0</th>\n      <td>b</td>\n      <td>0</td>\n      <td>1</td>\n    </tr>\n    <tr>\n      <th>1</th>\n      <td>b</td>\n      <td>0</td>\n      <td>3</td>\n    </tr>\n    <tr>\n      <th>2</th>\n      <td>b</td>\n      <td>1</td>\n      <td>1</td>\n    </tr>\n    <tr>\n      <th>3</th>\n      <td>b</td>\n      <td>1</td>\n      <td>3</td>\n    </tr>\n    <tr>\n      <th>4</th>\n      <td>b</td>\n      <td>6</td>\n      <td>1</td>\n    </tr>\n    <tr>\n      <th>5</th>\n      <td>b</td>\n      <td>6</td>\n      <td>3</td>\n    </tr>\n    <tr>\n      <th>6</th>\n      <td>a</td>\n      <td>2</td>\n      <td>0</td>\n    </tr>\n    <tr>\n      <th>7</th>\n      <td>a</td>\n      <td>4</td>\n      <td>0</td>\n    </tr>\n    <tr>\n      <th>8</th>\n      <td>a</td>\n      <td>5</td>\n      <td>0</td>\n    </tr>\n  </tbody>\n</table>\n</div>"
     },
     "metadata": {},
     "execution_count": 61
    }
   ],
   "source": [
    "pd.merge(df1, df2, on='key')"
   ]
  },
  {
   "cell_type": "code",
   "execution_count": 62,
   "metadata": {},
   "outputs": [
    {
     "output_type": "execute_result",
     "data": {
      "text/plain": [
       "   key  data1  data2\n",
       "0    b    0.0    1.0\n",
       "1    b    0.0    3.0\n",
       "2    b    1.0    1.0\n",
       "3    b    1.0    3.0\n",
       "4    b    6.0    1.0\n",
       "5    b    6.0    3.0\n",
       "6    a    2.0    0.0\n",
       "7    a    4.0    0.0\n",
       "8    a    5.0    0.0\n",
       "9    c    3.0    NaN\n",
       "10   d    NaN    2.0\n",
       "11   d    NaN    4.0"
      ],
      "text/html": "<div>\n<style scoped>\n    .dataframe tbody tr th:only-of-type {\n        vertical-align: middle;\n    }\n\n    .dataframe tbody tr th {\n        vertical-align: top;\n    }\n\n    .dataframe thead th {\n        text-align: right;\n    }\n</style>\n<table border=\"1\" class=\"dataframe\">\n  <thead>\n    <tr style=\"text-align: right;\">\n      <th></th>\n      <th>key</th>\n      <th>data1</th>\n      <th>data2</th>\n    </tr>\n  </thead>\n  <tbody>\n    <tr>\n      <th>0</th>\n      <td>b</td>\n      <td>0.0</td>\n      <td>1.0</td>\n    </tr>\n    <tr>\n      <th>1</th>\n      <td>b</td>\n      <td>0.0</td>\n      <td>3.0</td>\n    </tr>\n    <tr>\n      <th>2</th>\n      <td>b</td>\n      <td>1.0</td>\n      <td>1.0</td>\n    </tr>\n    <tr>\n      <th>3</th>\n      <td>b</td>\n      <td>1.0</td>\n      <td>3.0</td>\n    </tr>\n    <tr>\n      <th>4</th>\n      <td>b</td>\n      <td>6.0</td>\n      <td>1.0</td>\n    </tr>\n    <tr>\n      <th>5</th>\n      <td>b</td>\n      <td>6.0</td>\n      <td>3.0</td>\n    </tr>\n    <tr>\n      <th>6</th>\n      <td>a</td>\n      <td>2.0</td>\n      <td>0.0</td>\n    </tr>\n    <tr>\n      <th>7</th>\n      <td>a</td>\n      <td>4.0</td>\n      <td>0.0</td>\n    </tr>\n    <tr>\n      <th>8</th>\n      <td>a</td>\n      <td>5.0</td>\n      <td>0.0</td>\n    </tr>\n    <tr>\n      <th>9</th>\n      <td>c</td>\n      <td>3.0</td>\n      <td>NaN</td>\n    </tr>\n    <tr>\n      <th>10</th>\n      <td>d</td>\n      <td>NaN</td>\n      <td>2.0</td>\n    </tr>\n    <tr>\n      <th>11</th>\n      <td>d</td>\n      <td>NaN</td>\n      <td>4.0</td>\n    </tr>\n  </tbody>\n</table>\n</div>"
     },
     "metadata": {},
     "execution_count": 62
    }
   ],
   "source": [
    "pd.merge(df1, df2, on='key', how='outer')"
   ]
  },
  {
   "source": [
    "O método Merge também pode usar duas colunas sem nome correspondente, utilizando os parâmetros 'left_on' e 'rigth_on'."
   ],
   "cell_type": "markdown",
   "metadata": {}
  },
  {
   "cell_type": "code",
   "execution_count": 63,
   "metadata": {},
   "outputs": [
    {
     "output_type": "execute_result",
     "data": {
      "text/plain": [
       "   key1  data1 key2  data2\n",
       "0     b    0.0    b    1.0\n",
       "1     b    0.0    b    3.0\n",
       "2     b    1.0    b    1.0\n",
       "3     b    1.0    b    3.0\n",
       "4     b    6.0    b    1.0\n",
       "5     b    6.0    b    3.0\n",
       "6     a    2.0    a    0.0\n",
       "7     a    4.0    a    0.0\n",
       "8     a    5.0    a    0.0\n",
       "9     c    3.0  NaN    NaN\n",
       "10  NaN    NaN    d    2.0\n",
       "11  NaN    NaN    d    4.0"
      ],
      "text/html": "<div>\n<style scoped>\n    .dataframe tbody tr th:only-of-type {\n        vertical-align: middle;\n    }\n\n    .dataframe tbody tr th {\n        vertical-align: top;\n    }\n\n    .dataframe thead th {\n        text-align: right;\n    }\n</style>\n<table border=\"1\" class=\"dataframe\">\n  <thead>\n    <tr style=\"text-align: right;\">\n      <th></th>\n      <th>key1</th>\n      <th>data1</th>\n      <th>key2</th>\n      <th>data2</th>\n    </tr>\n  </thead>\n  <tbody>\n    <tr>\n      <th>0</th>\n      <td>b</td>\n      <td>0.0</td>\n      <td>b</td>\n      <td>1.0</td>\n    </tr>\n    <tr>\n      <th>1</th>\n      <td>b</td>\n      <td>0.0</td>\n      <td>b</td>\n      <td>3.0</td>\n    </tr>\n    <tr>\n      <th>2</th>\n      <td>b</td>\n      <td>1.0</td>\n      <td>b</td>\n      <td>1.0</td>\n    </tr>\n    <tr>\n      <th>3</th>\n      <td>b</td>\n      <td>1.0</td>\n      <td>b</td>\n      <td>3.0</td>\n    </tr>\n    <tr>\n      <th>4</th>\n      <td>b</td>\n      <td>6.0</td>\n      <td>b</td>\n      <td>1.0</td>\n    </tr>\n    <tr>\n      <th>5</th>\n      <td>b</td>\n      <td>6.0</td>\n      <td>b</td>\n      <td>3.0</td>\n    </tr>\n    <tr>\n      <th>6</th>\n      <td>a</td>\n      <td>2.0</td>\n      <td>a</td>\n      <td>0.0</td>\n    </tr>\n    <tr>\n      <th>7</th>\n      <td>a</td>\n      <td>4.0</td>\n      <td>a</td>\n      <td>0.0</td>\n    </tr>\n    <tr>\n      <th>8</th>\n      <td>a</td>\n      <td>5.0</td>\n      <td>a</td>\n      <td>0.0</td>\n    </tr>\n    <tr>\n      <th>9</th>\n      <td>c</td>\n      <td>3.0</td>\n      <td>NaN</td>\n      <td>NaN</td>\n    </tr>\n    <tr>\n      <th>10</th>\n      <td>NaN</td>\n      <td>NaN</td>\n      <td>d</td>\n      <td>2.0</td>\n    </tr>\n    <tr>\n      <th>11</th>\n      <td>NaN</td>\n      <td>NaN</td>\n      <td>d</td>\n      <td>4.0</td>\n    </tr>\n  </tbody>\n</table>\n</div>"
     },
     "metadata": {},
     "execution_count": 63
    }
   ],
   "source": [
    "# Quando os DataFrames não possuem colunas com o mesmo rótulo, é possível \n",
    "# especificar quais colunas serão utilizadas em cada DataFrame por meio\n",
    "# dos parâmetros 'left_on' e 'right_on'\n",
    "\n",
    "df1 = pd.DataFrame({'key1': ['b','b','a','c','a','a','b'], # os DataFrames df1 e df2 nao \n",
    "                   'data1': range(7)})                     # possuem colunas com mesmo rótulo\n",
    "\n",
    "df2 = pd.DataFrame({'key2': ['a','b','d','b','d'],  \n",
    "                   'data2': range(5)})\n",
    "\n",
    "pd.merge(df1, df2,left_on='key1',right_on='key2',how='outer') \n",
    "            # 'left_on' se refere a coluna do DataFrame correspondendo ao primeiro parâmetro \n",
    "            # (parâmetro da esquerda), neste exemplo, df1\n",
    "            # 'right_on' se refere a coluna do DataFrame correspondendo ao segundo parâmetro \n",
    "            # (parâmetro da direita), neste exemplo, df2\n",
    "            # Note que neste caso ambas as colunas são inseridas no DataFrame resultante"
   ]
  },
  {
   "source": [
    "No comando merge, também pode-se utilizar os parâmetros:\n",
    "\n",
    "- right_index = True // na junção dos elementos da direita, irá comparar os valores dos índices ao invés dos valores da coluna\n",
    "\n",
    "- lef_index = True // na junção dos elementos da esquerda, irá comparar os valores dos índices ao invés dos valores da coluna "
   ],
   "cell_type": "markdown",
   "metadata": {}
  },
  {
   "cell_type": "code",
   "execution_count": 64,
   "metadata": {},
   "outputs": [
    {
     "output_type": "stream",
     "name": "stdout",
     "text": [
      "  key  value\n0   a      0\n1   b      1\n2   a      2\n3   a      3\n4   b      4\n5   c      5\n   group_val\na        3.5\nb        7.0\na        3.0\n"
     ]
    },
    {
     "output_type": "execute_result",
     "data": {
      "text/plain": [
       "  key  value  group_val\n",
       "0   a      0        3.5\n",
       "0   a      0        3.0\n",
       "2   a      2        3.5\n",
       "2   a      2        3.0\n",
       "3   a      3        3.5\n",
       "3   a      3        3.0\n",
       "1   b      1        7.0\n",
       "4   b      4        7.0\n",
       "5   c      5        NaN"
      ],
      "text/html": "<div>\n<style scoped>\n    .dataframe tbody tr th:only-of-type {\n        vertical-align: middle;\n    }\n\n    .dataframe tbody tr th {\n        vertical-align: top;\n    }\n\n    .dataframe thead th {\n        text-align: right;\n    }\n</style>\n<table border=\"1\" class=\"dataframe\">\n  <thead>\n    <tr style=\"text-align: right;\">\n      <th></th>\n      <th>key</th>\n      <th>value</th>\n      <th>group_val</th>\n    </tr>\n  </thead>\n  <tbody>\n    <tr>\n      <th>0</th>\n      <td>a</td>\n      <td>0</td>\n      <td>3.5</td>\n    </tr>\n    <tr>\n      <th>0</th>\n      <td>a</td>\n      <td>0</td>\n      <td>3.0</td>\n    </tr>\n    <tr>\n      <th>2</th>\n      <td>a</td>\n      <td>2</td>\n      <td>3.5</td>\n    </tr>\n    <tr>\n      <th>2</th>\n      <td>a</td>\n      <td>2</td>\n      <td>3.0</td>\n    </tr>\n    <tr>\n      <th>3</th>\n      <td>a</td>\n      <td>3</td>\n      <td>3.5</td>\n    </tr>\n    <tr>\n      <th>3</th>\n      <td>a</td>\n      <td>3</td>\n      <td>3.0</td>\n    </tr>\n    <tr>\n      <th>1</th>\n      <td>b</td>\n      <td>1</td>\n      <td>7.0</td>\n    </tr>\n    <tr>\n      <th>4</th>\n      <td>b</td>\n      <td>4</td>\n      <td>7.0</td>\n    </tr>\n    <tr>\n      <th>5</th>\n      <td>c</td>\n      <td>5</td>\n      <td>NaN</td>\n    </tr>\n  </tbody>\n</table>\n</div>"
     },
     "metadata": {},
     "execution_count": 64
    }
   ],
   "source": [
    "df1 = pd.DataFrame({'key': ['a','b','a','a','b','c'], 'value': range(6)})\n",
    "\n",
    "df2 = pd.DataFrame({'group_val': [3.5, 7, 3.0]}, index=['a', 'b', 'a'])\n",
    "\n",
    "print(df1)\n",
    "print(df2)\n",
    "\n",
    "# Merge utilizando a coluna \"key\" de df1 e os rótulos das linhas em df2\n",
    "pd.merge(df1, df2, left_on='key', right_index=True,how='outer')"
   ]
  },
  {
   "source": [
    "Pode-se efetuar o merge também utilizando-se tanto o right_index e left_index simultaneamente "
   ],
   "cell_type": "markdown",
   "metadata": {}
  },
  {
   "cell_type": "code",
   "execution_count": 65,
   "metadata": {},
   "outputs": [
    {
     "output_type": "stream",
     "name": "stdout",
     "text": [
      "   Ohio  Nevada\na     1       2\nc     3       4\ne     5       6\n   Missouri  Alabama\nb         7        8\nc         9       10\nd        11       12\ne        13       14\ne         0        5\n"
     ]
    },
    {
     "output_type": "execute_result",
     "data": {
      "text/plain": [
       "   Ohio  Nevada  Missouri  Alabama\n",
       "c     3       4         9       10\n",
       "e     5       6        13       14\n",
       "e     5       6         0        5"
      ],
      "text/html": "<div>\n<style scoped>\n    .dataframe tbody tr th:only-of-type {\n        vertical-align: middle;\n    }\n\n    .dataframe tbody tr th {\n        vertical-align: top;\n    }\n\n    .dataframe thead th {\n        text-align: right;\n    }\n</style>\n<table border=\"1\" class=\"dataframe\">\n  <thead>\n    <tr style=\"text-align: right;\">\n      <th></th>\n      <th>Ohio</th>\n      <th>Nevada</th>\n      <th>Missouri</th>\n      <th>Alabama</th>\n    </tr>\n  </thead>\n  <tbody>\n    <tr>\n      <th>c</th>\n      <td>3</td>\n      <td>4</td>\n      <td>9</td>\n      <td>10</td>\n    </tr>\n    <tr>\n      <th>e</th>\n      <td>5</td>\n      <td>6</td>\n      <td>13</td>\n      <td>14</td>\n    </tr>\n    <tr>\n      <th>e</th>\n      <td>5</td>\n      <td>6</td>\n      <td>0</td>\n      <td>5</td>\n    </tr>\n  </tbody>\n</table>\n</div>"
     },
     "metadata": {},
     "execution_count": 65
    }
   ],
   "source": [
    "# criando DataFrames a partir de lista de listas e especificando rótulos de linha e coluna\n",
    "df1 = pd.DataFrame([[1,2],[3,4],[5,6]], \n",
    "        index=['a','c','e'], columns=['Ohio','Nevada'])\n",
    "\n",
    "df2 = pd.DataFrame([[7,8],[9,10],[11,12],[13,14],[0,5]], \n",
    "        index=['b','c','d','e','e'],\n",
    "        columns=['Missouri','Alabama'])\n",
    "\n",
    "print(df1)\n",
    "print(df2)\n",
    "\n",
    "# merge utilizando rótulos dos dois DataFrames, \n",
    "# o parâmetro 'inner' (default, pode ser omitido) faz \n",
    "# com que apenas os rótulos que aparecem em ambos sejam considerados\n",
    "pd.merge(df1, df2, left_index=True, right_index=True, how='inner')"
   ]
  },
  {
   "source": [
    "<h3>Método concat()</h3>\n",
    "\n",
    "Junta 'n' dataframes, devendo-se especificar qual a orientação (index=0/1), por default, o método tem index=0"
   ],
   "cell_type": "markdown",
   "metadata": {}
  },
  {
   "cell_type": "code",
   "execution_count": 69,
   "metadata": {},
   "outputs": [
    {
     "output_type": "stream",
     "name": "stdout",
     "text": [
      "a    0\nb    1\ndtype: int64\nc    2\nd    3\ne    4\ndtype: int64\na    1\nf    5\nd    6\ndtype: int64\n"
     ]
    },
    {
     "output_type": "execute_result",
     "data": {
      "text/plain": [
       "0    0\n",
       "1    1\n",
       "2    2\n",
       "3    3\n",
       "4    4\n",
       "5    1\n",
       "6    5\n",
       "7    6\n",
       "dtype: int64"
      ]
     },
     "metadata": {},
     "execution_count": 69
    }
   ],
   "source": [
    "# Construindo 3 séries especificando os rótulos das linhas\n",
    "s1 = pd.Series([0, 1], index=['a', 'b'])\n",
    "s2 = pd.Series([2, 3, 4], index=['c', 'd', 'e'])\n",
    "s3 = pd.Series([1,5, 6], index=['a','f', 'd']) \n",
    "print(s1)\n",
    "print(s2)\n",
    "print(s3)\n",
    "\n",
    "# Contatenando as 3 séries na vertical (axis=0 por default)\n",
    "# o resultado é uma nova séria (rótulos podem estar repetidos)\n",
    "pd.concat([s1,s2,s3])"
   ]
  },
  {
   "source": [
    "Os DataFrames também podem receber operações estatísticas de modo bastante simples, retornando valores estáticos\n",
    "\n",
    "- min\n",
    "\n",
    "- max\n",
    "\n",
    "- mean\n",
    "\n",
    "- median\n",
    "\n",
    "- etc..."
   ],
   "cell_type": "markdown",
   "metadata": {}
  },
  {
   "cell_type": "code",
   "execution_count": 72,
   "metadata": {},
   "outputs": [],
   "source": [
    "import numpy as np"
   ]
  },
  {
   "cell_type": "code",
   "execution_count": 75,
   "metadata": {},
   "outputs": [
    {
     "output_type": "execute_result",
     "data": {
      "text/plain": [
       "         c0        c1        c2\n",
       "0  4.401306  5.898310  3.185345\n",
       "1  0.894124  2.128723  5.505705\n",
       "2  3.224072  9.125509  3.503502\n",
       "3  2.183250  3.139532  8.497947\n",
       "4  8.980524  5.440705  6.836025\n",
       "5  0.009989  4.926135  5.324817\n",
       "6  0.856761  5.585808  2.249702\n",
       "7  3.429395  8.220668  6.895813\n",
       "8  1.023286  7.853912  6.902079\n",
       "9  4.503873  1.409256  4.637295"
      ],
      "text/html": "<div>\n<style scoped>\n    .dataframe tbody tr th:only-of-type {\n        vertical-align: middle;\n    }\n\n    .dataframe tbody tr th {\n        vertical-align: top;\n    }\n\n    .dataframe thead th {\n        text-align: right;\n    }\n</style>\n<table border=\"1\" class=\"dataframe\">\n  <thead>\n    <tr style=\"text-align: right;\">\n      <th></th>\n      <th>c0</th>\n      <th>c1</th>\n      <th>c2</th>\n    </tr>\n  </thead>\n  <tbody>\n    <tr>\n      <th>0</th>\n      <td>4.401306</td>\n      <td>5.898310</td>\n      <td>3.185345</td>\n    </tr>\n    <tr>\n      <th>1</th>\n      <td>0.894124</td>\n      <td>2.128723</td>\n      <td>5.505705</td>\n    </tr>\n    <tr>\n      <th>2</th>\n      <td>3.224072</td>\n      <td>9.125509</td>\n      <td>3.503502</td>\n    </tr>\n    <tr>\n      <th>3</th>\n      <td>2.183250</td>\n      <td>3.139532</td>\n      <td>8.497947</td>\n    </tr>\n    <tr>\n      <th>4</th>\n      <td>8.980524</td>\n      <td>5.440705</td>\n      <td>6.836025</td>\n    </tr>\n    <tr>\n      <th>5</th>\n      <td>0.009989</td>\n      <td>4.926135</td>\n      <td>5.324817</td>\n    </tr>\n    <tr>\n      <th>6</th>\n      <td>0.856761</td>\n      <td>5.585808</td>\n      <td>2.249702</td>\n    </tr>\n    <tr>\n      <th>7</th>\n      <td>3.429395</td>\n      <td>8.220668</td>\n      <td>6.895813</td>\n    </tr>\n    <tr>\n      <th>8</th>\n      <td>1.023286</td>\n      <td>7.853912</td>\n      <td>6.902079</td>\n    </tr>\n    <tr>\n      <th>9</th>\n      <td>4.503873</td>\n      <td>1.409256</td>\n      <td>4.637295</td>\n    </tr>\n  </tbody>\n</table>\n</div>"
     },
     "metadata": {},
     "execution_count": 75
    }
   ],
   "source": [
    "D = np.random.uniform(low=0.0,high=10,size=(10,3)) # matriz 10x3 com números randômicos entre\n",
    "                                                   # 0 e 10\n",
    "\n",
    "df = pd.DataFrame(data=D,columns=['c0','c1','c2'])\n",
    "\n",
    "df"
   ]
  },
  {
   "cell_type": "code",
   "execution_count": 77,
   "metadata": {},
   "outputs": [
    {
     "output_type": "stream",
     "name": "stdout",
     "text": [
      "c0    29.506580\nc1    53.728558\nc2    53.538230\ndtype: float64\n"
     ]
    }
   ],
   "source": [
    "soma_linhas = df.sum(axis=0) # soma as linhas de todas as colunas\n",
    "\n",
    "print(soma_linhas)"
   ]
  },
  {
   "cell_type": "code",
   "execution_count": 78,
   "metadata": {},
   "outputs": [
    {
     "output_type": "stream",
     "name": "stdout",
     "text": [
      "0    13.484961\n1     8.528552\n2    15.853083\n3    13.820729\n4    21.257254\n5    10.260941\n6     8.692270\n7    18.545876\n8    15.779277\n9    10.550424\ndtype: float64\n"
     ]
    }
   ],
   "source": [
    "soma_colunas = df.sum(axis=1)\n",
    "\n",
    "print(soma_colunas)"
   ]
  },
  {
   "source": [
    "Além disso, há o método describe(), que revela as informações ponto-a-ponto dentro do dataframe"
   ],
   "cell_type": "markdown",
   "metadata": {}
  },
  {
   "cell_type": "code",
   "execution_count": 79,
   "metadata": {},
   "outputs": [
    {
     "output_type": "execute_result",
     "data": {
      "text/plain": [
       "              c0         c1         c2\n",
       "count  10.000000  10.000000  10.000000\n",
       "mean    2.950658   5.372856   5.353823\n",
       "std     2.640392   2.584053   1.976421\n",
       "min     0.009989   1.409256   2.249702\n",
       "25%     0.926414   3.586183   3.786950\n",
       "50%     2.703661   5.513256   5.415261\n",
       "75%     4.158328   7.365012   6.880866\n",
       "max     8.980524   9.125509   8.497947"
      ],
      "text/html": "<div>\n<style scoped>\n    .dataframe tbody tr th:only-of-type {\n        vertical-align: middle;\n    }\n\n    .dataframe tbody tr th {\n        vertical-align: top;\n    }\n\n    .dataframe thead th {\n        text-align: right;\n    }\n</style>\n<table border=\"1\" class=\"dataframe\">\n  <thead>\n    <tr style=\"text-align: right;\">\n      <th></th>\n      <th>c0</th>\n      <th>c1</th>\n      <th>c2</th>\n    </tr>\n  </thead>\n  <tbody>\n    <tr>\n      <th>count</th>\n      <td>10.000000</td>\n      <td>10.000000</td>\n      <td>10.000000</td>\n    </tr>\n    <tr>\n      <th>mean</th>\n      <td>2.950658</td>\n      <td>5.372856</td>\n      <td>5.353823</td>\n    </tr>\n    <tr>\n      <th>std</th>\n      <td>2.640392</td>\n      <td>2.584053</td>\n      <td>1.976421</td>\n    </tr>\n    <tr>\n      <th>min</th>\n      <td>0.009989</td>\n      <td>1.409256</td>\n      <td>2.249702</td>\n    </tr>\n    <tr>\n      <th>25%</th>\n      <td>0.926414</td>\n      <td>3.586183</td>\n      <td>3.786950</td>\n    </tr>\n    <tr>\n      <th>50%</th>\n      <td>2.703661</td>\n      <td>5.513256</td>\n      <td>5.415261</td>\n    </tr>\n    <tr>\n      <th>75%</th>\n      <td>4.158328</td>\n      <td>7.365012</td>\n      <td>6.880866</td>\n    </tr>\n    <tr>\n      <th>max</th>\n      <td>8.980524</td>\n      <td>9.125509</td>\n      <td>8.497947</td>\n    </tr>\n  </tbody>\n</table>\n</div>"
     },
     "metadata": {},
     "execution_count": 79
    }
   ],
   "source": [
    "df.describe()"
   ]
  }
 ],
 "metadata": {
  "kernelspec": {
   "name": "python3",
   "display_name": "Python 3.9.1 64-bit ('env')",
   "metadata": {
    "interpreter": {
     "hash": "bbad8356c1a6074c173cf09254e68d77e104f86e8f02d6937cb9e8f2b056d34e"
    }
   }
  },
  "language_info": {
   "codemirror_mode": {
    "name": "ipython",
    "version": 3
   },
   "file_extension": ".py",
   "mimetype": "text/x-python",
   "name": "python",
   "nbconvert_exporter": "python",
   "pygments_lexer": "ipython3",
   "version": "3.9.1-final"
  }
 },
 "nbformat": 4,
 "nbformat_minor": 5
}