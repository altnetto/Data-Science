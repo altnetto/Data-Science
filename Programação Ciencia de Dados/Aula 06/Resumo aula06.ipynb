{
 "cells": [
  {
   "source": [
    "<h3>Pandas</h3>\n",
    "\n",
    "O Pandas é uma lib amplamente utilizada para análise de volumes de dados e, está intimamente ligada ao Numpy e Matplotlib.\n",
    "\n",
    "No Pandas, temos alguns itens importantes:\n",
    "\n",
    "- Series: similar a um Array do Numpy, mas com uma indexação que pode ser como a de um Dictionary\n",
    "\n",
    "- DataFrames: tabela de dados (igual do R)\n",
    "\n",
    "- Panel: não será abordado nesse curso, mas vale a pesquisa!"
   ],
   "cell_type": "markdown",
   "metadata": {}
  },
  {
   "cell_type": "code",
   "execution_count": 1,
   "metadata": {},
   "outputs": [],
   "source": [
    "import pandas as pd\n",
    "import numpy as np"
   ]
  },
  {
   "cell_type": "code",
   "execution_count": 2,
   "metadata": {},
   "outputs": [],
   "source": [
    "str1 = \"abcde\"\n",
    "\n",
    "lst = [i for i in str1]"
   ]
  },
  {
   "cell_type": "code",
   "execution_count": 3,
   "metadata": {},
   "outputs": [
    {
     "output_type": "stream",
     "name": "stdout",
     "text": [
      "0    a\n1    b\n2    c\n3    d\n4    e\ndtype: object\n"
     ]
    }
   ],
   "source": [
    "series_simples = pd.Series(lst)\n",
    "\n",
    "print(series_simples)"
   ]
  },
  {
   "source": [
    "indices = ['id' + str(i) for i in range(len(lst))]\n",
    "\n",
    "series_personalizada = pd.Series(lst, index = indices)\n",
    "\n",
    "print(series_personalizada)"
   ],
   "cell_type": "code",
   "metadata": {},
   "execution_count": 4,
   "outputs": [
    {
     "output_type": "stream",
     "name": "stdout",
     "text": [
      "id0    a\nid1    b\nid2    c\nid3    d\nid4    e\ndtype: object\n"
     ]
    }
   ]
  },
  {
   "source": [
    "Criando uma série a partir de um dicionário\n",
    "\n",
    "- Keys serão os índices\n",
    "\n",
    "- Values serão os dados propriamente ditos"
   ],
   "cell_type": "markdown",
   "metadata": {}
  },
  {
   "cell_type": "code",
   "execution_count": 5,
   "metadata": {},
   "outputs": [
    {
     "output_type": "stream",
     "name": "stdout",
     "text": [
      "a    10\nb    20\nc    30\nd    40\ne    50\ndtype: int64\n"
     ]
    }
   ],
   "source": [
    "chaves = lst\n",
    "valores = [10,20,30,40,50]\n",
    "\n",
    "meu_dict = {chaves[i]:valores[i] for i in range(len(chaves))}\n",
    "\n",
    "series_dictionary = pd.Series(meu_dict)\n",
    "\n",
    "print(series_dictionary)"
   ]
  },
  {
   "source": [
    "Acessando os valores das Series\n",
    "\n",
    "- Através do índice\n",
    "\n",
    "- Através do rótulo\n",
    "\n",
    "- Através de uma lista\n",
    "\n",
    "- Pode-se efetuar slicing"
   ],
   "cell_type": "markdown",
   "metadata": {}
  },
  {
   "cell_type": "code",
   "execution_count": 6,
   "metadata": {},
   "outputs": [
    {
     "output_type": "stream",
     "name": "stdout",
     "text": [
      "Acessando pelo rótulo ['a'] 10\nAcessando pelo índice [0] 10\n"
     ]
    }
   ],
   "source": [
    "print(\"Acessando pelo rótulo ['a']\",series_dictionary['a'])\n",
    "print(\"Acessando pelo índice [0]\",series_dictionary[0])"
   ]
  },
  {
   "cell_type": "code",
   "execution_count": 7,
   "metadata": {},
   "outputs": [
    {
     "output_type": "stream",
     "name": "stdout",
     "text": [
      "Acessando por uma lista ['a','b']\n a    10\nb    20\ndtype: int64\n"
     ]
    }
   ],
   "source": [
    "print(\"Acessando por uma lista ['a','b']\\n\",series_dictionary[['a','b']])"
   ]
  },
  {
   "source": [
    "Como dito anteriormente, pode-se usar slicing também\n",
    "\n",
    "No caso de acessar por slicing usando rótulos, ele funciona até o elemento do rótulo (se fosse o caso de um slicing normal, teria o problema de identificar o último elemento)"
   ],
   "cell_type": "markdown",
   "metadata": {}
  },
  {
   "cell_type": "code",
   "execution_count": 8,
   "metadata": {},
   "outputs": [
    {
     "output_type": "stream",
     "name": "stdout",
     "text": [
      "Acessando através de Slicing 0~3\n a    10\nb    20\nc    30\ndtype: int64\n"
     ]
    }
   ],
   "source": [
    "print(\"Acessando através de Slicing 0~3\\n\",series_dictionary[0:3])"
   ]
  },
  {
   "cell_type": "code",
   "execution_count": 9,
   "metadata": {},
   "outputs": [
    {
     "output_type": "stream",
     "name": "stdout",
     "text": [
      "Acessando através de Slicind c~e\n c    30\nd    40\ne    50\ndtype: int64\n"
     ]
    }
   ],
   "source": [
    "print(\"Acessando através de Slicind c~e\\n\",series_dictionary['c':'e'])"
   ]
  },
  {
   "source": [
    "Criar máscaras booleanas em Series também é super simples e de modo idêntico ao Numpy"
   ],
   "cell_type": "markdown",
   "metadata": {}
  },
  {
   "cell_type": "code",
   "execution_count": 10,
   "metadata": {},
   "outputs": [
    {
     "output_type": "stream",
     "name": "stdout",
     "text": [
      "a    False\nb    False\nc     True\nd     True\ne     True\ndtype: bool\n"
     ]
    }
   ],
   "source": [
    "mask = (series_dictionary > 25)\n",
    "\n",
    "print(mask)"
   ]
  },
  {
   "cell_type": "code",
   "execution_count": 11,
   "metadata": {},
   "outputs": [
    {
     "output_type": "stream",
     "name": "stdout",
     "text": [
      "c    30\nd    40\ne    50\ndtype: int64\n"
     ]
    }
   ],
   "source": [
    "print(series_dictionary[mask])"
   ]
  },
  {
   "source": [
    "<h3>Reindexação</h3>\n",
    "\n",
    "Pode-se reindexar uma Series, inclusive adicionando novos termos. O que ocorre é que, aos elementos adicionados à reindexação, serão adicionados os valores NaN, ou seja, a ausência de valores\n",
    "\n",
    "*** Atenção, uma nova Series é gerada"
   ],
   "cell_type": "markdown",
   "metadata": {}
  },
  {
   "cell_type": "code",
   "execution_count": 12,
   "metadata": {},
   "outputs": [
    {
     "output_type": "stream",
     "name": "stdout",
     "text": [
      "0    0\n1    1\n3    2\ndtype: int32\n"
     ]
    }
   ],
   "source": [
    "# geramos nossa Series original\n",
    "\n",
    "indices = [0, 1, 3]\n",
    "\n",
    "valores = np.arange(3)\n",
    "\n",
    "s = pd.Series(valores, index=indices)\n",
    "\n",
    "print(s)"
   ]
  },
  {
   "cell_type": "code",
   "execution_count": 13,
   "metadata": {},
   "outputs": [
    {
     "output_type": "stream",
     "name": "stdout",
     "text": [
      "0    0.0\n1    1.0\n2    NaN\n3    2.0\n4    NaN\ndtype: float64\n"
     ]
    }
   ],
   "source": [
    "s_nan = s.reindex(np.arange(5))\n",
    "\n",
    "print(s_nan)"
   ]
  },
  {
   "source": [
    "Como verificado acima, percebe-se que os valores mudaram de *int* para *float*\n",
    "\n",
    "Podemos lidar facilmente com os dados faltantes, principalmente com o auxílio de máscaras booleanas\n",
    "\n",
    "- método *isna()*"
   ],
   "cell_type": "markdown",
   "metadata": {}
  },
  {
   "source": [
    "s_mask_nan = pd.isna(s_nan)\n",
    "\n",
    "print(s_mask_nan)"
   ],
   "cell_type": "code",
   "metadata": {},
   "execution_count": 14,
   "outputs": [
    {
     "output_type": "stream",
     "name": "stdout",
     "text": [
      "0    False\n1    False\n2     True\n3    False\n4     True\ndtype: bool\n"
     ]
    }
   ]
  },
  {
   "cell_type": "code",
   "execution_count": 15,
   "metadata": {},
   "outputs": [
    {
     "output_type": "stream",
     "name": "stdout",
     "text": [
      "0    0.0\n1    1.0\n2   -1.0\n3    2.0\n4   -1.0\ndtype: float64\n"
     ]
    }
   ],
   "source": [
    "s_nan[s_mask_nan] = -1\n",
    "\n",
    "print(s_nan)"
   ]
  },
  {
   "source": [
    "Há também um parâmetro que preenche automaticamente os valores faltantes (NaN) com o valor desejado\n",
    "\n",
    "- fill_value\n",
    "\n",
    "- Nesse caso, o tipo da Series se mantém, pois não há inserção do NaN no conjunto"
   ],
   "cell_type": "markdown",
   "metadata": {}
  },
  {
   "cell_type": "code",
   "execution_count": 16,
   "metadata": {},
   "outputs": [
    {
     "output_type": "stream",
     "name": "stdout",
     "text": [
      "0    0\n1    1\n2   -1\n3    2\n4   -1\ndtype: int32\n"
     ]
    }
   ],
   "source": [
    "s_fill_value = s.reindex(np.arange(5), fill_value=-1)\n",
    "\n",
    "print(s_fill_value)"
   ]
  },
  {
   "source": [
    "<h3>Operações Aritméticas com Series</h3>\n",
    "\n",
    "- As operações são sempre feitas com os índices\n",
    "\n",
    "- Caso não exista um índice comum nas duas Series, teremos um valor NaN no lugar"
   ],
   "cell_type": "markdown",
   "metadata": {}
  },
  {
   "cell_type": "code",
   "execution_count": 17,
   "metadata": {},
   "outputs": [
    {
     "output_type": "stream",
     "name": "stdout",
     "text": [
      "id0       0.0\nid1       NaN\nid10    200.0\nid2      40.0\nid3       NaN\nid4      80.0\nid5       NaN\nid6     120.0\nid7       NaN\nid8     160.0\nid9       NaN\ndtype: float64\n"
     ]
    }
   ],
   "source": [
    "ind1 = ['id{}'.format(i) for i in range(11) if i%2==0]\n",
    "ind2 = ['id{}'.format(i) for i in range(11)]\n",
    "\n",
    "val1 = [10*i for i in range(11) if i%2==0]\n",
    "val2 = [10*i for i in range(11)]\n",
    "\n",
    "s1 = pd.Series(val1, index=ind1)\n",
    "s2 = pd.Series(val2, index=ind2)\n",
    "\n",
    "print(s1+s2)"
   ]
  },
  {
   "source": [
    "Ordenando Series (ambos os métodos geram uma nova Series)\n",
    "\n",
    "- sort_index: ordena os elementos da Series com base nos índices\n",
    "\n",
    "- sort_values: ordena os elementos da Series com base nos valores"
   ],
   "cell_type": "markdown",
   "metadata": {}
  },
  {
   "cell_type": "code",
   "execution_count": 18,
   "metadata": {},
   "outputs": [
    {
     "output_type": "stream",
     "name": "stdout",
     "text": [
      "d    4\na    4\nb    3\nc    3\ndtype: int32\n"
     ]
    }
   ],
   "source": [
    "r = pd.Series(np.random.randint(0,10,4), index=['d','a','b','c'])\n",
    "\n",
    "print(r)"
   ]
  },
  {
   "cell_type": "code",
   "execution_count": 19,
   "metadata": {},
   "outputs": [
    {
     "output_type": "stream",
     "name": "stdout",
     "text": [
      "a    4\nb    3\nc    3\nd    4\ndtype: int32\n"
     ]
    }
   ],
   "source": [
    "print(r.sort_index())"
   ]
  },
  {
   "cell_type": "code",
   "execution_count": 20,
   "metadata": {},
   "outputs": [
    {
     "output_type": "stream",
     "name": "stdout",
     "text": [
      "b    3\nc    3\nd    4\na    4\ndtype: int32\n"
     ]
    }
   ],
   "source": [
    "print(r.sort_values())"
   ]
  },
  {
   "source": [
    "<h3>Rótulos Repetidos</h3>\n",
    "\n",
    "No Pandas, podemos ter rótulos repetidos, o que facilita muito a análise dos dados, pois nos gera **subséries** de dados, agrupando os mesmos rótulos, mas não os operando diretamente"
   ],
   "cell_type": "markdown",
   "metadata": {}
  },
  {
   "cell_type": "code",
   "execution_count": 21,
   "metadata": {},
   "outputs": [
    {
     "output_type": "stream",
     "name": "stdout",
     "text": [
      "a    0\nb    1\na    2\nb    3\nc    4\nd    5\na    6\ndtype: int64\n"
     ]
    }
   ],
   "source": [
    "s = pd.Series(range(7), index=list('ababcda'))\n",
    "\n",
    "print(s)"
   ]
  },
  {
   "cell_type": "code",
   "execution_count": 22,
   "metadata": {},
   "outputs": [
    {
     "output_type": "stream",
     "name": "stdout",
     "text": [
      "a    0\na    2\na    6\ndtype: int64\n"
     ]
    }
   ],
   "source": [
    "print(s['a'])"
   ]
  },
  {
   "cell_type": "code",
   "execution_count": 23,
   "metadata": {},
   "outputs": [
    {
     "output_type": "stream",
     "name": "stdout",
     "text": [
      "b    1\nb    3\ndtype: int64\n"
     ]
    }
   ],
   "source": [
    "print(s['b'])"
   ]
  },
  {
   "source": [
    "Métodos extremamente úteis do Pandas (mas há muitos mais de onde esses saíram)\n",
    "\n",
    "- unique: verifica os valores únicos dentro de uma série\n",
    "\n",
    "- value_counts: conta quantas vezes um dado valor ocorre dentro da série\n",
    "\n",
    "- isin: verifica onde os valore sindicados aparecem na série (em forma de máscara booleana)"
   ],
   "cell_type": "markdown",
   "metadata": {}
  },
  {
   "cell_type": "code",
   "execution_count": 24,
   "metadata": {},
   "outputs": [
    {
     "output_type": "stream",
     "name": "stdout",
     "text": [
      "Valores únicos da série:\n\n ['c' 'a' 'd' 'b']\n"
     ]
    }
   ],
   "source": [
    "s = pd.Series(['c','a','d','a','a','b','b','c','d','b'])\n",
    "\n",
    "print('Valores únicos da série:\\n\\n',s.unique())"
   ]
  },
  {
   "cell_type": "code",
   "execution_count": 25,
   "metadata": {},
   "outputs": [
    {
     "output_type": "stream",
     "name": "stdout",
     "text": [
      "Quantas vezes cada valor apareceu na série:\n\n a    3\nb    3\nd    2\nc    2\ndtype: int64\n"
     ]
    }
   ],
   "source": [
    "print('Quantas vezes cada valor apareceu na série:\\n\\n',s.value_counts())"
   ]
  },
  {
   "cell_type": "code",
   "execution_count": 26,
   "metadata": {},
   "outputs": [
    {
     "output_type": "stream",
     "name": "stdout",
     "text": [
      "Onde o valor 'b' aparece na série:\n\n 0    False\n1    False\n2    False\n3    False\n4    False\n5     True\n6     True\n7    False\n8    False\n9     True\ndtype: bool\n"
     ]
    }
   ],
   "source": [
    "print(\"Onde o valor 'b' aparece na série:\\n\\n\",s.isin(['b']))"
   ]
  },
  {
   "source": [
    "<H3>Data Frames</H3>\n",
    "\n",
    "São basicamente matrizes de dados bidimensionais (tabelas) e que possuem diversas propriedades de bancos de dados\n",
    "\n",
    "- No uso de dicionários, teremos os cabeçalhos (header) dos dataframes iguais às chaves do dicionário e seus itens como os valores da tabela. Todos devem possuir os mesmos tamanhos"
   ],
   "cell_type": "markdown",
   "metadata": {}
  },
  {
   "cell_type": "code",
   "execution_count": 27,
   "metadata": {},
   "outputs": [
    {
     "output_type": "stream",
     "name": "stdout",
     "text": [
      "  state  year   pop\n0    FL  2010  18.8\n1    FL  2011  19.1\n2    GA  2008   9.7\n3    GA  2010   9.7\n4    GA  2011   9.8\n5    FL  2013   7.1\n6    FL  2009   8.3\n"
     ]
    }
   ],
   "source": [
    "meu_dicionario = {'state' : ['FL', 'FL', 'GA', 'GA', 'GA','FL','FL'],    \n",
    "     'year' :  [2010, 2011, 2008, 2010, 2011, 2013, 2009],    \n",
    "     'pop' :   [18.8, 19.1, 9.7, 9.7, 9.8, 7.1, 8.3]}\n",
    "\n",
    "dataf_dic = pd.DataFrame(meu_dicionario)\n",
    "\n",
    "print(dataf_dic)"
   ]
  },
  {
   "source": [
    "Dois métodos importantes são:\n",
    "\n",
    "- head(n=5): mostra os 'n' primeiros itens do DF, onde o valor default é 5\n",
    "    - Útil para verificar se o import de dados está adequado\n",
    "\n",
    "- dtypes (na verdade é uma propriedade): mostra os tipos de dados presentes no DF"
   ],
   "cell_type": "markdown",
   "metadata": {}
  },
  {
   "source": [
    "dataf_dic.head()"
   ],
   "cell_type": "code",
   "metadata": {},
   "execution_count": 28,
   "outputs": [
    {
     "output_type": "execute_result",
     "data": {
      "text/plain": [
       "  state  year   pop\n",
       "0    FL  2010  18.8\n",
       "1    FL  2011  19.1\n",
       "2    GA  2008   9.7\n",
       "3    GA  2010   9.7\n",
       "4    GA  2011   9.8"
      ],
      "text/html": "<div>\n<style scoped>\n    .dataframe tbody tr th:only-of-type {\n        vertical-align: middle;\n    }\n\n    .dataframe tbody tr th {\n        vertical-align: top;\n    }\n\n    .dataframe thead th {\n        text-align: right;\n    }\n</style>\n<table border=\"1\" class=\"dataframe\">\n  <thead>\n    <tr style=\"text-align: right;\">\n      <th></th>\n      <th>state</th>\n      <th>year</th>\n      <th>pop</th>\n    </tr>\n  </thead>\n  <tbody>\n    <tr>\n      <th>0</th>\n      <td>FL</td>\n      <td>2010</td>\n      <td>18.8</td>\n    </tr>\n    <tr>\n      <th>1</th>\n      <td>FL</td>\n      <td>2011</td>\n      <td>19.1</td>\n    </tr>\n    <tr>\n      <th>2</th>\n      <td>GA</td>\n      <td>2008</td>\n      <td>9.7</td>\n    </tr>\n    <tr>\n      <th>3</th>\n      <td>GA</td>\n      <td>2010</td>\n      <td>9.7</td>\n    </tr>\n    <tr>\n      <th>4</th>\n      <td>GA</td>\n      <td>2011</td>\n      <td>9.8</td>\n    </tr>\n  </tbody>\n</table>\n</div>"
     },
     "metadata": {},
     "execution_count": 28
    }
   ]
  },
  {
   "cell_type": "code",
   "execution_count": 29,
   "metadata": {},
   "outputs": [
    {
     "output_type": "stream",
     "name": "stdout",
     "text": [
      "state     object\nyear       int64\npop      float64\ndtype: object\n"
     ]
    }
   ],
   "source": [
    "print(dataf_dic.dtypes)"
   ]
  },
  {
   "source": [
    "Podemos também declarar DFs usando dicionários de dicionários\n",
    "\n",
    "- Aqui, não é necessário que os dados sejam inseridos de modo simétrico"
   ],
   "cell_type": "markdown",
   "metadata": {}
  },
  {
   "source": [
    "dod =  {'FL': {2010:18.1, 2011:19.1}, 'GA': {2008: 9.7, 2010: 9.7, 2011:9.8}}\n",
    "\n",
    "dataf_dict_dict = pd.DataFrame(dod)\n",
    "\n",
    "dataf_dict_dict.head()"
   ],
   "cell_type": "code",
   "metadata": {},
   "execution_count": 30,
   "outputs": [
    {
     "output_type": "execute_result",
     "data": {
      "text/plain": [
       "        FL   GA\n",
       "2010  18.1  9.7\n",
       "2011  19.1  9.8\n",
       "2008   NaN  9.7"
      ],
      "text/html": "<div>\n<style scoped>\n    .dataframe tbody tr th:only-of-type {\n        vertical-align: middle;\n    }\n\n    .dataframe tbody tr th {\n        vertical-align: top;\n    }\n\n    .dataframe thead th {\n        text-align: right;\n    }\n</style>\n<table border=\"1\" class=\"dataframe\">\n  <thead>\n    <tr style=\"text-align: right;\">\n      <th></th>\n      <th>FL</th>\n      <th>GA</th>\n    </tr>\n  </thead>\n  <tbody>\n    <tr>\n      <th>2010</th>\n      <td>18.1</td>\n      <td>9.7</td>\n    </tr>\n    <tr>\n      <th>2011</th>\n      <td>19.1</td>\n      <td>9.8</td>\n    </tr>\n    <tr>\n      <th>2008</th>\n      <td>NaN</td>\n      <td>9.7</td>\n    </tr>\n  </tbody>\n</table>\n</div>"
     },
     "metadata": {},
     "execution_count": 30
    }
   ]
  },
  {
   "source": [
    "<h3>Acessando as informações</h3>\n",
    "\n",
    "Podem ser acessadas via:\n",
    "\n",
    "- Endereço simples através do rótulo\n",
    "\n",
    "- Rótulo como atributo (não recomendável, pois há restrições)\n",
    "\n",
    "- Endereço de rótulos em lista"
   ],
   "cell_type": "markdown",
   "metadata": {}
  },
  {
   "cell_type": "code",
   "execution_count": 33,
   "metadata": {},
   "outputs": [
    {
     "output_type": "stream",
     "name": "stdout",
     "text": [
      "Coluna FL\n\n 2010    18.1\n2011    19.1\n2008     NaN\nName: FL, dtype: float64\n"
     ]
    }
   ],
   "source": [
    "print('Coluna FL\\n\\n',dataf_dict_dict['FL'])"
   ]
  },
  {
   "cell_type": "code",
   "execution_count": 34,
   "metadata": {},
   "outputs": [
    {
     "output_type": "stream",
     "name": "stdout",
     "text": [
      "2010    18.1\n2011    19.1\n2008     NaN\nName: FL, dtype: float64\n"
     ]
    }
   ],
   "source": [
    "print(dataf_dict_dict.FL)"
   ]
  },
  {
   "cell_type": "code",
   "execution_count": 36,
   "metadata": {},
   "outputs": [
    {
     "output_type": "stream",
     "name": "stdout",
     "text": [
      "        FL   GA\n2010  18.1  9.7\n2011  19.1  9.8\n2008   NaN  9.7\n"
     ]
    }
   ],
   "source": [
    "print(dataf_dict_dict[['FL','GA']])"
   ]
  },
  {
   "source": [
    "Podemos acessar as informações sobre os rótulos de modo mais detalhado (incluindo o tipo de arquivos)"
   ],
   "cell_type": "markdown",
   "metadata": {}
  },
  {
   "cell_type": "code",
   "execution_count": 37,
   "metadata": {},
   "outputs": [
    {
     "output_type": "stream",
     "name": "stdout",
     "text": [
      "Index(['FL', 'GA'], dtype='object')\n"
     ]
    }
   ],
   "source": [
    "print(dataf_dict_dict.columns)"
   ]
  },
  {
   "source": [
    "Podemos também acessar apenas os valores dos rótulos das colunas"
   ],
   "cell_type": "markdown",
   "metadata": {}
  },
  {
   "cell_type": "code",
   "execution_count": 38,
   "metadata": {},
   "outputs": [
    {
     "output_type": "stream",
     "name": "stdout",
     "text": [
      "['FL' 'GA']\n"
     ]
    }
   ],
   "source": [
    "print(dataf_dict_dict.columns.values)"
   ]
  },
  {
   "source": [
    "<h3>Buscas com expressões booleanas</h3>\n",
    "\n",
    "Tal qual vimos em Series e Arrays, podemos efetuar as buscas utilizando expressões booleanas (máscaras booleanas)"
   ],
   "cell_type": "markdown",
   "metadata": {}
  },
  {
   "cell_type": "code",
   "execution_count": 41,
   "metadata": {},
   "outputs": [
    {
     "output_type": "stream",
     "name": "stdout",
     "text": [
      "        FL  GA\n2010  18.1 NaN\n2011  19.1 NaN\n2008   NaN NaN\n"
     ]
    }
   ],
   "source": [
    "mask = (dataf_dict_dict > 10)\n",
    "\n",
    "print(dataf_dict_dict[mask])"
   ]
  },
  {
   "source": [
    "Aqui também podemos criar uma busca usando um **query**, igual em bancos de dados"
   ],
   "cell_type": "markdown",
   "metadata": {}
  },
  {
   "cell_type": "code",
   "execution_count": 44,
   "metadata": {},
   "outputs": [
    {
     "output_type": "stream",
     "name": "stdout",
     "text": [
      "  state  year   pop\n0    FL  2010  18.8\n1    FL  2011  19.1\n2    GA  2008   9.7\n3    GA  2010   9.7\n4    GA  2011   9.8\n"
     ]
    }
   ],
   "source": [
    "d = {'state' : ['FL', 'FL', 'GA', 'GA', 'GA'],\n",
    "     'year' :  [2010, 2011, 2008, 2010, 2011],    \n",
    "     'pop' :   [18.8, 19.1, 9.7, 9.7, 9.8]}\n",
    "\n",
    "dataf_d = pd.DataFrame(d)\n",
    "\n",
    "print(dataf_d)"
   ]
  },
  {
   "cell_type": "code",
   "execution_count": 46,
   "metadata": {},
   "outputs": [
    {
     "output_type": "stream",
     "name": "stdout",
     "text": [
      "  state  year   pop\n0    FL  2010  18.8\n1    FL  2011  19.1\n"
     ]
    }
   ],
   "source": [
    "print(dataf_d.query('pop > 10'))"
   ]
  },
  {
   "cell_type": "code",
   "execution_count": 53,
   "metadata": {},
   "outputs": [
    {
     "output_type": "stream",
     "name": "stdout",
     "text": [
      "  state  year  pop\n2    GA  2008  9.7\n3    GA  2010  9.7\n4    GA  2011  9.8\n"
     ]
    }
   ],
   "source": [
    "print(dataf_d.query(\"state == 'GA'\"))"
   ]
  },
  {
   "cell_type": "code",
   "execution_count": 56,
   "metadata": {},
   "outputs": [
    {
     "output_type": "stream",
     "name": "stdout",
     "text": [
      "  state  year  pop\n2    GA  2008  9.7\n3    GA  2010  9.7\n4    GA  2011  9.8\n"
     ]
    }
   ],
   "source": [
    "mask = dataf_d['state'] == 'GA'\n",
    "\n",
    "print(dataf_d[mask])"
   ]
  },
  {
   "source": [
    "No caso das queries usando operadores lógicos, devemos utilizar & (and) e | (or), ao invés dos operadores lógicos nativos do Python"
   ],
   "cell_type": "markdown",
   "metadata": {}
  },
  {
   "cell_type": "code",
   "execution_count": 60,
   "metadata": {},
   "outputs": [
    {
     "output_type": "stream",
     "name": "stdout",
     "text": [
      "  state  year   pop\n0    FL  2010  18.8\n3    GA  2010   9.7\n"
     ]
    }
   ],
   "source": [
    "print(dataf_d.query('pop > 8 & year == 2010'))"
   ]
  },
  {
   "cell_type": "code",
   "execution_count": 72,
   "metadata": {},
   "outputs": [
    {
     "output_type": "stream",
     "name": "stdout",
     "text": [
      "id0     True\nid1    False\nid2     True\nid3     True\nid4     True\ndtype: bool\n"
     ]
    }
   ],
   "source": [
    "A = np.random.randint(0,30,35).reshape(5,7)\n",
    "\n",
    "rotulo_linhas = ['id' + str(i) for i in range(A.shape[0])]\n",
    "rotulo_colunas = ['co' + str(i) for i in range(A.shape[1])]\n",
    "\n",
    "dataf_A = pd.DataFrame(A, index=rotulo_linhas, columns=rotulo_colunas)\n",
    "\n",
    "dataf_A.head()\n",
    "\n",
    "print((dataf_A['co0'] > 9) & (dataf_A['co4'] < 20))"
   ]
  },
  {
   "source": [
    "<h3>Adicionando colunas</h3>\n",
    "\n",
    "- Para adicionar uma coluna, basta declarar uma nova coluna com o índice a ser inserido e seus valores"
   ],
   "cell_type": "markdown",
   "metadata": {}
  },
  {
   "cell_type": "code",
   "execution_count": 73,
   "metadata": {},
   "outputs": [
    {
     "output_type": "stream",
     "name": "stdout",
     "text": [
      "     co0  co1  co2  co3  co4  co5  co6\nid0   27   14   13    7    5    5   28\nid1    6    2   21   22    0    1    7\nid2   17    4    1    8   18   12    9\nid3   24   19    6    0   18   13    0\nid4   15    5    2   28    0   20    9\n"
     ]
    }
   ],
   "source": [
    "print(dataf_A)"
   ]
  },
  {
   "cell_type": "code",
   "execution_count": 75,
   "metadata": {},
   "outputs": [
    {
     "output_type": "stream",
     "name": "stdout",
     "text": [
      "     co0  co1  co2  co3  co4  co5  co6  co7\nid0   27   14   13    7    5    5   28  0.0\nid1    6    2   21   22    0    1    7  0.0\nid2   17    4    1    8   18   12    9  0.0\nid3   24   19    6    0   18   13    0  0.0\nid4   15    5    2   28    0   20    9  0.0\n"
     ]
    }
   ],
   "source": [
    "dataf_A['co7'] = np.zeros(5)\n",
    "\n",
    "print(dataf_A)"
   ]
  },
  {
   "source": [
    "<h3>Removendo colunas e linhas</h3>\n",
    "\n",
    "Há a necessidade de criar uma nova variável!\n",
    "\n",
    "- Método drop(['coluna'], axis=1) // para colunas\n",
    "- Método drop(['linha'], axis=0) // para linhas\n",
    "\n",
    "*** Como pode-se observar, deve se passar uma lsita com as colunas ou linhas a serem removidos."
   ],
   "cell_type": "markdown",
   "metadata": {}
  },
  {
   "cell_type": "code",
   "execution_count": 76,
   "metadata": {},
   "outputs": [
    {
     "output_type": "stream",
     "name": "stdout",
     "text": [
      "     co0  co1  co2  co3  co4  co5  co6  co7\nid0   27   14   13    7    5    5   28  0.0\nid1    6    2   21   22    0    1    7  0.0\nid2   17    4    1    8   18   12    9  0.0\nid3   24   19    6    0   18   13    0  0.0\nid4   15    5    2   28    0   20    9  0.0\n"
     ]
    }
   ],
   "source": [
    "print(dataf_A)"
   ]
  },
  {
   "cell_type": "code",
   "execution_count": 80,
   "metadata": {},
   "outputs": [
    {
     "output_type": "stream",
     "name": "stdout",
     "text": [
      "     co0  co1  co2  co3  co4  co5  co6\nid0   27   14   13    7    5    5   28\nid1    6    2   21   22    0    1    7\nid2   17    4    1    8   18   12    9\nid3   24   19    6    0   18   13    0\nid4   15    5    2   28    0   20    9\n"
     ]
    }
   ],
   "source": [
    "dropped_column_dataf_A = dataf_A.drop(['co7'], axis=1)\n",
    "\n",
    "print(dropped_column_dataf_A)"
   ]
  },
  {
   "cell_type": "code",
   "execution_count": 83,
   "metadata": {},
   "outputs": [
    {
     "output_type": "stream",
     "name": "stdout",
     "text": [
      "     co0  co1  co2  co3  co4  co5  co6  co7\nid0   27   14   13    7    5    5   28  0.0\nid2   17    4    1    8   18   12    9  0.0\nid4   15    5    2   28    0   20    9  0.0\n"
     ]
    }
   ],
   "source": [
    "dropped_row_dataf_A = dataf_A.drop(['id1','id3'], axis=0)\n",
    "\n",
    "print(dropped_row_dataf_A)"
   ]
  },
  {
   "source": [
    "Também pode-se remover uma coluna utilizando o comando del.\n",
    "\n",
    "Nesse caso, ressalta-se que o DataFrame é **modificado**, sendo, assim, um método a ser evitado, pois pode danificar uma grande quantidade de dados"
   ],
   "cell_type": "markdown",
   "metadata": {}
  },
  {
   "cell_type": "code",
   "execution_count": 84,
   "metadata": {},
   "outputs": [
    {
     "output_type": "stream",
     "name": "stdout",
     "text": [
      "dataf_A original:\n\n      co0  co1  co2  co3  co4  co5  co6  co7\nid0   27   14   13    7    5    5   28  0.0\nid1    6    2   21   22    0    1    7  0.0\nid2   17    4    1    8   18   12    9  0.0\nid3   24   19    6    0   18   13    0  0.0\nid4   15    5    2   28    0   20    9  0.0\n\n\ndataf_A modificado:\n\n      co0  co1  co2  co3  co4  co5  co6\nid0   27   14   13    7    5    5   28\nid1    6    2   21   22    0    1    7\nid2   17    4    1    8   18   12    9\nid3   24   19    6    0   18   13    0\nid4   15    5    2   28    0   20    9\n"
     ]
    }
   ],
   "source": [
    "print('dataf_A original:\\n\\n',dataf_A)\n",
    "\n",
    "del dataf_A['co7']\n",
    "\n",
    "print('\\n\\ndataf_A modificado:\\n\\n',dataf_A)"
   ]
  },
  {
   "source": [
    "<h3>Acessando as linhas de um DataFrame</h3>\n",
    "\n",
    "Utilizam-se os métodos:\n",
    "\n",
    "- iloc: manipula o DataFrame como uma matriz de números inteiros, como se fosse um Array\n",
    "\n",
    "- loc: seleciona linhas pelos rótulos, índices e por máscaras booleanas"
   ],
   "cell_type": "markdown",
   "metadata": {}
  },
  {
   "cell_type": "code",
   "execution_count": 93,
   "metadata": {},
   "outputs": [
    {
     "output_type": "stream",
     "name": "stdout",
     "text": [
      "df_B:\n\n      co0  co1  co2  co3  co4  co5  co6\nli0    2   22    8   15   15    9    0\nli1    6   19   28    9   19    2    6\nli2   15   20   14    2    3   29   18\nli3   16   28    6   18   29   26   23\nli4    3   14   29    0    6    2   13\n\n\ndf_B.iloc[2]\n\n co0    15\nco1    20\nco2    14\nco3     2\nco4     3\nco5    29\nco6    18\nName: li2, dtype: int32\n\n\ndf_B.iloc[2,2:]\n\n      co3  co4  co5  co6\nli2    2    3   29   18\nli3   18   29   26   23\n"
     ]
    }
   ],
   "source": [
    "rotulos_linhas = ['li' + str(i) for i in range(5)]\n",
    "rotulos_colunas = ['co' + str(i) for i in range(7)]\n",
    "valores = np.random.randint(0,30,35).reshape(5,7)\n",
    "\n",
    "df_B = pd.DataFrame(valores, index=rotulos_linhas, columns=rotulos_colunas)\n",
    "\n",
    "print('df_B:\\n\\n',df_B)\n",
    "print('\\n\\ndf_B.iloc[2]\\n\\n',df_B.iloc[2])\n",
    "print('\\n\\ndf_B.iloc[2,2:]\\n\\n',df_B.iloc[2:4,3:])"
   ]
  },
  {
   "source": [
    "Utilizando o método loc()"
   ],
   "cell_type": "markdown",
   "metadata": {}
  },
  {
   "cell_type": "code",
   "execution_count": 101,
   "metadata": {},
   "outputs": [
    {
     "output_type": "stream",
     "name": "stdout",
     "text": [
      "df_B\n\n      co0  co1  co2  co3  co4  co5  co6\nli0    2   22    8   15   15    9    0\nli1    6   19   28    9   19    2    6\nli2   15   20   14    2    3   29   18\nli3   16   28    6   18   29   26   23\nli4    3   14   29    0    6    2   13\n\n\ndf_B.loc['li2']\n\n co0    15\nco1    20\nco2    14\nco3     2\nco4     3\nco5    29\nco6    18\nName: li2, dtype: int32\n\n\ndf_B.loc['li2':'li4']\n\n      co0  co1  co2  co3  co4  co5  co6\nli2   15   20   14    2    3   29   18\nli3   16   28    6   18   29   26   23\nli4    3   14   29    0    6    2   13\n\n\ndf_B.loc['li2':'li4','co2':'co3']\n\n      co2  co3\nli2   14    2\nli3    6   18\nli4   29    0\n"
     ]
    }
   ],
   "source": [
    "print('df_B\\n\\n',df_B)\n",
    "\n",
    "print(\"\\n\\ndf_B.loc['li2']\\n\\n\",df_B.loc['li2'])\n",
    "\n",
    "print(\"\\n\\ndf_B.loc['li2':'li4']\\n\\n\",df_B.loc['li2':'li4'])\n",
    "\n",
    "print(\"\\n\\ndf_B.loc['li2':'li4','co2':'co3']\\n\\n\",df_B.loc['li2':'li4','co2':'co3'])"
   ]
  },
  {
   "source": [
    "Também pode-se realizar operações com máscaras booleanas no método loc\n",
    "\n",
    "- Irá retornar todas as linhas onde essa condição seja satisfeita, para todas as colunas"
   ],
   "cell_type": "markdown",
   "metadata": {}
  },
  {
   "cell_type": "code",
   "execution_count": 108,
   "metadata": {},
   "outputs": [
    {
     "output_type": "stream",
     "name": "stdout",
     "text": [
      "df_B\n\n      co0  co1  co2  co3  co4  co5  co6\nli0    2   22    8   15   15    9    0\nli1    6   19   28    9   19    2    6\nli2   15   20   14    2    3   29   18\nli3   16   28    6   18   29   26   23\nli4    3   14   29    0    6    2   13\n\n\ndf_B.loc[df_B['co2'] > 10])\n\n      co0  co1  co2  co3  co4  co5  co6\nli1    6   19   28    9   19    2    6\nli2   15   20   14    2    3   29   18\nli4    3   14   29    0    6    2   13\n"
     ]
    }
   ],
   "source": [
    "print('df_B\\n\\n',df_B)\n",
    "\n",
    "print(\"\\n\\ndf_B.loc[df_B['co2'] > 10])\\n\\n\",df_B.loc[df_B['co2'] > 10])"
   ]
  },
  {
   "source": [
    "<h3>Ordenar os itens</h3>\n",
    "\n",
    "- sort_values('coluna/linha')\n",
    "\n",
    "    - No caso de selecionar uma linha, especificar o axis=1 (para simbolizar ao pandas que iremos       ordenar as colunas, com relação a uma dada linha)\n",
    "\n",
    "    - O comando gera uma cópia do DataFrame, não alterando os dados internos\n",
    "\n",
    "    - Para surtir efeito no próprio DataFrame, utilizar o parâmetro 'inplace'"
   ],
   "cell_type": "markdown",
   "metadata": {}
  },
  {
   "cell_type": "code",
   "execution_count": 113,
   "metadata": {},
   "outputs": [
    {
     "output_type": "stream",
     "name": "stdout",
     "text": [
      "     co0  co1  co2  co3  co4  co5  co6\nli1    6   19   28    9   19    2    6\nli4    3   14   29    0    6    2   13\nli0    2   22    8   15   15    9    0\nli3   16   28    6   18   29   26   23\nli2   15   20   14    2    3   29   18\n     co3  co4  co2  co0  co6  co1  co5\nli0   15   15    8    2    0   22    9\nli1    9   19   28    6    6   19    2\nli2    2    3   14   15   18   20   29\nli3   18   29    6   16   23   28   26\nli4    0    6   29    3   13   14    2\n"
     ]
    }
   ],
   "source": [
    "print(df_B.sort_values('co5'))\n",
    "print(df_B.sort_values('li2',axis=1))"
   ]
  },
  {
   "cell_type": "code",
   "execution_count": 114,
   "metadata": {},
   "outputs": [
    {
     "output_type": "stream",
     "name": "stdout",
     "text": [
      "     co0  co1  co2  co3  co4  co5  co6\nli1    6   19   28    9   19    2    6\nli4    3   14   29    0    6    2   13\nli0    2   22    8   15   15    9    0\nli3   16   28    6   18   29   26   23\nli2   15   20   14    2    3   29   18\n"
     ]
    }
   ],
   "source": [
    "df_B.sort_values('co5', inplace=True)\n",
    "\n",
    "print(df_B)"
   ]
  },
  {
   "source": [
    "Recuperando apenas os valores do DataFrame\n",
    "\n",
    "- propriedade values\n",
    "    - Retorna um Array bidimensional do numpy"
   ],
   "cell_type": "markdown",
   "metadata": {}
  },
  {
   "cell_type": "code",
   "execution_count": 116,
   "metadata": {},
   "outputs": [
    {
     "output_type": "stream",
     "name": "stdout",
     "text": [
      "[[ 6 19 28  9 19  2  6]\n [ 3 14 29  0  6  2 13]\n [ 2 22  8 15 15  9  0]\n [16 28  6 18 29 26 23]\n [15 20 14  2  3 29 18]]\n<class 'numpy.ndarray'>\n"
     ]
    }
   ],
   "source": [
    "print(df_B.values)\n",
    "print(type(df_B.values))"
   ]
  },
  {
   "source": [
    "<h3>I/O com Pandas</h3>\n",
    "\n",
    "Vários métodos interessantes, principalmente para trabalhar com arquivos:\n",
    "\n",
    "- XML\n",
    "- CSV\n",
    "- JSON\n",
    "- HTML\n",
    "- Excel (lib externa auxiliar)\n",
    "- Arquivos de texto normal\n",
    "- Entre outros"
   ],
   "cell_type": "markdown",
   "metadata": {}
  },
  {
   "cell_type": "code",
   "execution_count": 117,
   "metadata": {},
   "outputs": [
    {
     "output_type": "stream",
     "name": "stdout",
     "text": [
      "Writing simple.csv\n"
     ]
    }
   ],
   "source": [
    "%%writefile simple.csv  \n",
    "a,b,c,d,message\n",
    "1,2,3,4,hello\n",
    "5,6,7,8,world\n",
    "9,10,11,12,foo"
   ]
  },
  {
   "cell_type": "code",
   "execution_count": 123,
   "metadata": {},
   "outputs": [
    {
     "output_type": "stream",
     "name": "stdout",
     "text": [
      "['a' 'b' 'c' 'd' 'message']\n\n\n    a   b   c   d message\n0  1   2   3   4   hello\n1  5   6   7   8   world\n2  9  10  11  12     foo\n"
     ]
    }
   ],
   "source": [
    "meu_df = pd.read_csv('simple.csv')\n",
    "\n",
    "# imprimir os rótulos das colunas\n",
    "print(meu_df.columns.values)\n",
    "\n",
    "# imprimir o DataFrame do arquivo lido\n",
    "print('\\n\\n',meu_df.head())"
   ]
  },
  {
   "source": [
    "Caso seja desejado, pode-se também utilizar a primeira linha como dados, basta especificar o parâmetro 'names' ao chamar o método"
   ],
   "cell_type": "markdown",
   "metadata": {}
  },
  {
   "cell_type": "code",
   "execution_count": 126,
   "metadata": {},
   "outputs": [
    {
     "output_type": "execute_result",
     "data": {
      "text/plain": [
       "  c0  c1  c2  c3       c4\n",
       "0  a   b   c   d  message\n",
       "1  1   2   3   4    hello\n",
       "2  5   6   7   8    world\n",
       "3  9  10  11  12      foo"
      ],
      "text/html": "<div>\n<style scoped>\n    .dataframe tbody tr th:only-of-type {\n        vertical-align: middle;\n    }\n\n    .dataframe tbody tr th {\n        vertical-align: top;\n    }\n\n    .dataframe thead th {\n        text-align: right;\n    }\n</style>\n<table border=\"1\" class=\"dataframe\">\n  <thead>\n    <tr style=\"text-align: right;\">\n      <th></th>\n      <th>c0</th>\n      <th>c1</th>\n      <th>c2</th>\n      <th>c3</th>\n      <th>c4</th>\n    </tr>\n  </thead>\n  <tbody>\n    <tr>\n      <th>0</th>\n      <td>a</td>\n      <td>b</td>\n      <td>c</td>\n      <td>d</td>\n      <td>message</td>\n    </tr>\n    <tr>\n      <th>1</th>\n      <td>1</td>\n      <td>2</td>\n      <td>3</td>\n      <td>4</td>\n      <td>hello</td>\n    </tr>\n    <tr>\n      <th>2</th>\n      <td>5</td>\n      <td>6</td>\n      <td>7</td>\n      <td>8</td>\n      <td>world</td>\n    </tr>\n    <tr>\n      <th>3</th>\n      <td>9</td>\n      <td>10</td>\n      <td>11</td>\n      <td>12</td>\n      <td>foo</td>\n    </tr>\n  </tbody>\n</table>\n</div>"
     },
     "metadata": {},
     "execution_count": 126
    }
   ],
   "source": [
    "meu_df_2 = pd.read_csv('simple.csv', names=['c' + str(i) for i in range(5)])\n",
    "\n",
    "meu_df_2.head()"
   ]
  },
  {
   "source": [
    "Pode-se também inserir os índices das linhas utilizando os valores de uma das colunas, utilizando o parâmetro 'index_col'"
   ],
   "cell_type": "markdown",
   "metadata": {}
  },
  {
   "cell_type": "code",
   "execution_count": 127,
   "metadata": {},
   "outputs": [
    {
     "output_type": "execute_result",
     "data": {
      "text/plain": [
       "        c0  c1  c2  c3\n",
       "c4                    \n",
       "message  a   b   c   d\n",
       "hello    1   2   3   4\n",
       "world    5   6   7   8\n",
       "foo      9  10  11  12"
      ],
      "text/html": "<div>\n<style scoped>\n    .dataframe tbody tr th:only-of-type {\n        vertical-align: middle;\n    }\n\n    .dataframe tbody tr th {\n        vertical-align: top;\n    }\n\n    .dataframe thead th {\n        text-align: right;\n    }\n</style>\n<table border=\"1\" class=\"dataframe\">\n  <thead>\n    <tr style=\"text-align: right;\">\n      <th></th>\n      <th>c0</th>\n      <th>c1</th>\n      <th>c2</th>\n      <th>c3</th>\n    </tr>\n    <tr>\n      <th>c4</th>\n      <th></th>\n      <th></th>\n      <th></th>\n      <th></th>\n    </tr>\n  </thead>\n  <tbody>\n    <tr>\n      <th>message</th>\n      <td>a</td>\n      <td>b</td>\n      <td>c</td>\n      <td>d</td>\n    </tr>\n    <tr>\n      <th>hello</th>\n      <td>1</td>\n      <td>2</td>\n      <td>3</td>\n      <td>4</td>\n    </tr>\n    <tr>\n      <th>world</th>\n      <td>5</td>\n      <td>6</td>\n      <td>7</td>\n      <td>8</td>\n    </tr>\n    <tr>\n      <th>foo</th>\n      <td>9</td>\n      <td>10</td>\n      <td>11</td>\n      <td>12</td>\n    </tr>\n  </tbody>\n</table>\n</div>"
     },
     "metadata": {},
     "execution_count": 127
    }
   ],
   "source": [
    "meu_df_2 = pd.read_csv('simple.csv', names=['c' + str(i) for i in range(5)], index_col='c4')\n",
    "\n",
    "meu_df_2.head()"
   ]
  },
  {
   "cell_type": "code",
   "execution_count": null,
   "metadata": {},
   "outputs": [],
   "source": []
  }
 ],
 "metadata": {
  "kernelspec": {
   "display_name": "Python 3",
   "language": "python",
   "name": "python3"
  },
  "language_info": {
   "codemirror_mode": {
    "name": "ipython",
    "version": 3
   },
   "file_extension": ".py",
   "mimetype": "text/x-python",
   "name": "python",
   "nbconvert_exporter": "python",
   "pygments_lexer": "ipython3",
   "version": "3.8.5-final"
  }
 },
 "nbformat": 4,
 "nbformat_minor": 4
}