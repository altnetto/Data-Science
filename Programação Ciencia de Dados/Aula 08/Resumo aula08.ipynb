{
 "metadata": {
  "language_info": {
   "codemirror_mode": {
    "name": "ipython",
    "version": 3
   },
   "file_extension": ".py",
   "mimetype": "text/x-python",
   "name": "python",
   "nbconvert_exporter": "python",
   "pygments_lexer": "ipython3",
   "version": "3.9.1-final"
  },
  "orig_nbformat": 2,
  "kernelspec": {
   "name": "python3",
   "display_name": "Python 3.9.1 64-bit",
   "metadata": {
    "interpreter": {
     "hash": "55421908667a225820f2cd05496734e43c3ddbc7d792b945edc730d5b93ba56f"
    }
   }
  }
 },
 "nbformat": 4,
 "nbformat_minor": 2,
 "cells": [
  {
   "source": [
    "<h3>Pandas III</h3>\n",
    "\n",
    "GroupBy\n",
    "\n",
    "- Método que irá trabalhar em 3 etapas:\n",
    "    - Split: Agrupar\n",
    "    - Apply: Aplicar um determinado tratamento\n",
    "    - Reduce: Reduzir (reagrupar)\n",
    "\n",
    "- Não cria um novo dataframe, apenas manipula a visualização, para garantir uma eficiência computacional maior"
   ],
   "cell_type": "markdown",
   "metadata": {}
  },
  {
   "source": [
    "Também pode-se aplicar métodos dentro de um groupBy:\n",
    "\n",
    "- first: seleciona o primeiro elemento de cada um dos grupos\n",
    "- get_group: seleciona todos os elementos de um dado grupo\n",
    "- groups: retorna um dicionário, onde temos as chaves os grupos e os valores como os índices dos determinados grupos"
   ],
   "cell_type": "markdown",
   "metadata": {}
  },
  {
   "source": [
    "import pandas as pd\n",
    "\n",
    "# se quiser, pode-se buscar a base de dados online também! Apenas inserindo a URL\n",
    "df = pd.read_csv('tips.csv')\n",
    "df.head()"
   ],
   "cell_type": "code",
   "metadata": {},
   "execution_count": 2,
   "outputs": [
    {
     "output_type": "execute_result",
     "data": {
      "text/plain": [
       "   total_bill   tip     sex smoker  day    time  size\n",
       "0       16.99  1.01  Female     No  Sun  Dinner     2\n",
       "1       10.34  1.66    Male     No  Sun  Dinner     3\n",
       "2       21.01  3.50    Male     No  Sun  Dinner     3\n",
       "3       23.68  3.31    Male     No  Sun  Dinner     2\n",
       "4       24.59  3.61  Female     No  Sun  Dinner     4"
      ],
      "text/html": "<div>\n<style scoped>\n    .dataframe tbody tr th:only-of-type {\n        vertical-align: middle;\n    }\n\n    .dataframe tbody tr th {\n        vertical-align: top;\n    }\n\n    .dataframe thead th {\n        text-align: right;\n    }\n</style>\n<table border=\"1\" class=\"dataframe\">\n  <thead>\n    <tr style=\"text-align: right;\">\n      <th></th>\n      <th>total_bill</th>\n      <th>tip</th>\n      <th>sex</th>\n      <th>smoker</th>\n      <th>day</th>\n      <th>time</th>\n      <th>size</th>\n    </tr>\n  </thead>\n  <tbody>\n    <tr>\n      <th>0</th>\n      <td>16.99</td>\n      <td>1.01</td>\n      <td>Female</td>\n      <td>No</td>\n      <td>Sun</td>\n      <td>Dinner</td>\n      <td>2</td>\n    </tr>\n    <tr>\n      <th>1</th>\n      <td>10.34</td>\n      <td>1.66</td>\n      <td>Male</td>\n      <td>No</td>\n      <td>Sun</td>\n      <td>Dinner</td>\n      <td>3</td>\n    </tr>\n    <tr>\n      <th>2</th>\n      <td>21.01</td>\n      <td>3.50</td>\n      <td>Male</td>\n      <td>No</td>\n      <td>Sun</td>\n      <td>Dinner</td>\n      <td>3</td>\n    </tr>\n    <tr>\n      <th>3</th>\n      <td>23.68</td>\n      <td>3.31</td>\n      <td>Male</td>\n      <td>No</td>\n      <td>Sun</td>\n      <td>Dinner</td>\n      <td>2</td>\n    </tr>\n    <tr>\n      <th>4</th>\n      <td>24.59</td>\n      <td>3.61</td>\n      <td>Female</td>\n      <td>No</td>\n      <td>Sun</td>\n      <td>Dinner</td>\n      <td>4</td>\n    </tr>\n  </tbody>\n</table>\n</div>"
     },
     "metadata": {},
     "execution_count": 2
    }
   ]
  },
  {
   "cell_type": "code",
   "execution_count": 5,
   "metadata": {},
   "outputs": [
    {
     "output_type": "execute_result",
     "data": {
      "text/plain": [
       "        total_bill   tip smoker  day    time  size\n",
       "sex                                               \n",
       "Female       16.99  1.01     No  Sun  Dinner     2\n",
       "Male         10.34  1.66     No  Sun  Dinner     3"
      ],
      "text/html": "<div>\n<style scoped>\n    .dataframe tbody tr th:only-of-type {\n        vertical-align: middle;\n    }\n\n    .dataframe tbody tr th {\n        vertical-align: top;\n    }\n\n    .dataframe thead th {\n        text-align: right;\n    }\n</style>\n<table border=\"1\" class=\"dataframe\">\n  <thead>\n    <tr style=\"text-align: right;\">\n      <th></th>\n      <th>total_bill</th>\n      <th>tip</th>\n      <th>smoker</th>\n      <th>day</th>\n      <th>time</th>\n      <th>size</th>\n    </tr>\n    <tr>\n      <th>sex</th>\n      <th></th>\n      <th></th>\n      <th></th>\n      <th></th>\n      <th></th>\n      <th></th>\n    </tr>\n  </thead>\n  <tbody>\n    <tr>\n      <th>Female</th>\n      <td>16.99</td>\n      <td>1.01</td>\n      <td>No</td>\n      <td>Sun</td>\n      <td>Dinner</td>\n      <td>2</td>\n    </tr>\n    <tr>\n      <th>Male</th>\n      <td>10.34</td>\n      <td>1.66</td>\n      <td>No</td>\n      <td>Sun</td>\n      <td>Dinner</td>\n      <td>3</td>\n    </tr>\n  </tbody>\n</table>\n</div>"
     },
     "metadata": {},
     "execution_count": 5
    }
   ],
   "source": [
    "df_sex = df.groupby('sex')\n",
    "\n",
    "df_sex.first()"
   ]
  },
  {
   "cell_type": "code",
   "execution_count": 10,
   "metadata": {},
   "outputs": [
    {
     "output_type": "execute_result",
     "data": {
      "text/plain": [
       "    total_bill   tip     sex smoker  day    time  size\n",
       "0        16.99  1.01  Female     No  Sun  Dinner     2\n",
       "4        24.59  3.61  Female     No  Sun  Dinner     4\n",
       "11       35.26  5.00  Female     No  Sun  Dinner     4\n",
       "14       14.83  3.02  Female     No  Sun  Dinner     2\n",
       "16       10.33  1.67  Female     No  Sun  Dinner     3"
      ],
      "text/html": "<div>\n<style scoped>\n    .dataframe tbody tr th:only-of-type {\n        vertical-align: middle;\n    }\n\n    .dataframe tbody tr th {\n        vertical-align: top;\n    }\n\n    .dataframe thead th {\n        text-align: right;\n    }\n</style>\n<table border=\"1\" class=\"dataframe\">\n  <thead>\n    <tr style=\"text-align: right;\">\n      <th></th>\n      <th>total_bill</th>\n      <th>tip</th>\n      <th>sex</th>\n      <th>smoker</th>\n      <th>day</th>\n      <th>time</th>\n      <th>size</th>\n    </tr>\n  </thead>\n  <tbody>\n    <tr>\n      <th>0</th>\n      <td>16.99</td>\n      <td>1.01</td>\n      <td>Female</td>\n      <td>No</td>\n      <td>Sun</td>\n      <td>Dinner</td>\n      <td>2</td>\n    </tr>\n    <tr>\n      <th>4</th>\n      <td>24.59</td>\n      <td>3.61</td>\n      <td>Female</td>\n      <td>No</td>\n      <td>Sun</td>\n      <td>Dinner</td>\n      <td>4</td>\n    </tr>\n    <tr>\n      <th>11</th>\n      <td>35.26</td>\n      <td>5.00</td>\n      <td>Female</td>\n      <td>No</td>\n      <td>Sun</td>\n      <td>Dinner</td>\n      <td>4</td>\n    </tr>\n    <tr>\n      <th>14</th>\n      <td>14.83</td>\n      <td>3.02</td>\n      <td>Female</td>\n      <td>No</td>\n      <td>Sun</td>\n      <td>Dinner</td>\n      <td>2</td>\n    </tr>\n    <tr>\n      <th>16</th>\n      <td>10.33</td>\n      <td>1.67</td>\n      <td>Female</td>\n      <td>No</td>\n      <td>Sun</td>\n      <td>Dinner</td>\n      <td>3</td>\n    </tr>\n  </tbody>\n</table>\n</div>"
     },
     "metadata": {},
     "execution_count": 10
    }
   ],
   "source": [
    "df_sex.get_group('Female').head()"
   ]
  },
  {
   "cell_type": "code",
   "execution_count": 14,
   "metadata": {},
   "outputs": [
    {
     "output_type": "stream",
     "name": "stdout",
     "text": [
      "dict_items([('Female', Int64Index([  0,   4,  11,  14,  16,  18,  21,  22,  29,  32,  33,  37,  51,\n             52,  57,  66,  67,  71,  72,  73,  74,  82,  85,  92,  93,  94,\n            100, 101, 102, 103, 104, 109, 111, 114, 115, 117, 118, 119, 121,\n            124, 125, 127, 128, 131, 132, 133, 134, 135, 136, 137, 139, 140,\n            143, 144, 145, 146, 147, 155, 157, 158, 162, 164, 168, 169, 178,\n            186, 188, 191, 197, 198, 201, 202, 203, 205, 209, 213, 214, 215,\n            219, 221, 223, 225, 226, 229, 238, 240, 243],\n           dtype='int64')), ('Male', Int64Index([  1,   2,   3,   5,   6,   7,   8,   9,  10,  12,\n            ...\n            231, 232, 233, 234, 235, 236, 237, 239, 241, 242],\n           dtype='int64', length=157))])\n"
     ]
    }
   ],
   "source": [
    "print(df_sex.groups.items())\n"
   ]
  },
  {
   "source": [
    "Podemos demonstrar os primeiros elementos de algum dos grupos, de acordo aos seus índices"
   ],
   "cell_type": "markdown",
   "metadata": {}
  },
  {
   "cell_type": "code",
   "execution_count": 17,
   "metadata": {},
   "outputs": [
    {
     "output_type": "stream",
     "name": "stdout",
     "text": [
      "Int64Index([0, 4, 11, 14, 16], dtype='int64')\n"
     ]
    }
   ],
   "source": [
    "print(df_sex.groups['Female'][0:5])"
   ]
  },
  {
   "source": [
    "Também pode-se agrupar os itens de acordo a uma informação externa\n",
    "\n",
    "- usar uma lista para determinar os elementos de um determinado conjunto"
   ],
   "cell_type": "markdown",
   "metadata": {}
  },
  {
   "cell_type": "code",
   "execution_count": 19,
   "metadata": {},
   "outputs": [],
   "source": [
    "import numpy as np"
   ]
  },
  {
   "cell_type": "code",
   "execution_count": 21,
   "metadata": {},
   "outputs": [
    {
     "output_type": "stream",
     "name": "stdout",
     "text": [
      "  key1 key2     data1     data2\n0    a  one  0.007472  0.711312\n1    a  two  0.893185  0.143869\n2    b  one  0.659202  0.860615\n3    b  two  0.429978  0.985054\n4    a  one  0.308138  0.850885\n[0, 1, 1, 0, 1]\n"
     ]
    }
   ],
   "source": [
    "# Construindo DataFrame a partir de um dicionário\n",
    "df = pd.DataFrame({'key1': ['a','a','b','b','a'],\n",
    "                  'key2': ['one','two','one','two','one'], \n",
    "                  'data1': np.random.uniform(low=0,high=1,size=5),\n",
    "                  'data2': np.random.uniform(low=0,high=1,size=5)})\n",
    "print(df)\n",
    "\n",
    "# criando uma lista de 0 e 1 com o mesmo número de linhas do DataFrame\n",
    "ls = [i for i in np.random.randint(0,2,df.shape[0])]\n",
    "\n",
    "#lista criada\n",
    "print(ls) "
   ]
  },
  {
   "cell_type": "code",
   "execution_count": 26,
   "metadata": {},
   "outputs": [
    {
     "output_type": "stream",
     "name": "stdout",
     "text": [
      "Elementos do grupo 0:   key1 key2     data1     data2\n0    a  one  0.007472  0.711312\n3    b  two  0.429978  0.985054\n\nElementos do grupo 1:   key1 key2     data1     data2\n1    a  two  0.893185  0.143869\n2    b  one  0.659202  0.860615\n4    a  one  0.308138  0.850885\n"
     ]
    }
   ],
   "source": [
    "gbylist = df.groupby(ls)\n",
    "\n",
    "print('Elementos do grupo 0:',gbylist.get_group(0))\n",
    "print('\\nElementos do grupo 1:',gbylist.get_group(1))"
   ]
  },
  {
   "source": [
    "Pode-se também efetuar o groupby utilizando múltiplos elementos\n",
    "\n",
    "- Nesse caso, teremos gerados os parâmetros: \n",
    "    - groupname: nome do grupo e seus elementos\n",
    "    - group: elementos pertencentes ao grupo"
   ],
   "cell_type": "markdown",
   "metadata": {}
  },
  {
   "cell_type": "code",
   "execution_count": 27,
   "metadata": {},
   "outputs": [
    {
     "output_type": "stream",
     "name": "stdout",
     "text": [
      "  key1 key2     data1     data2\n0    a  one  0.697963  0.564158\n1    a  two  0.449797  0.129090\n2    b  one  0.508446  0.628486\n3    b  two  0.070598  0.092521\n4    a  one  0.801396  0.643906\n5    a  two  0.160798  0.328090\n6    b  two  0.156221  0.193677\n7    a  one  0.664719  0.096991\n"
     ]
    }
   ],
   "source": [
    "# Construindo DataFrame a partir de um dicionário\n",
    "df = pd.DataFrame({'key1': ['a','a','b','b','a','a','b','a'],\n",
    "                  'key2': ['one','two','one','two','one','two','two','one'], \n",
    "                  'data1': np.random.uniform(low=0,high=1,size=8),\n",
    "                  'data2': np.random.uniform(low=0,high=1,size=8)})\n",
    "\n",
    "print(df)"
   ]
  },
  {
   "cell_type": "code",
   "execution_count": 31,
   "metadata": {},
   "outputs": [
    {
     "output_type": "stream",
     "name": "stdout",
     "text": [
      "Nome do grupo ('a', 'one')\n   key1 key2     data1     data2\n0    a  one  0.697963  0.564158\n4    a  one  0.801396  0.643906\n7    a  one  0.664719  0.096991\n\n\nNome do grupo ('a', 'two')\n   key1 key2     data1    data2\n1    a  two  0.449797  0.12909\n5    a  two  0.160798  0.32809\n\n\nNome do grupo ('b', 'one')\n   key1 key2     data1     data2\n2    b  one  0.508446  0.628486\n\n\nNome do grupo ('b', 'two')\n   key1 key2     data1     data2\n3    b  two  0.070598  0.092521\n6    b  two  0.156221  0.193677\n\n\n"
     ]
    }
   ],
   "source": [
    "dfh = df.groupby(['key1','key2'])\n",
    "\n",
    "for groupname, group in dfh:\n",
    "    print('Nome do grupo {}\\n'.format(groupname), group)\n",
    "    print('\\n')"
   ]
  },
  {
   "source": [
    "GroupBy usando funções"
   ],
   "cell_type": "markdown",
   "metadata": {}
  },
  {
   "cell_type": "code",
   "execution_count": 32,
   "metadata": {},
   "outputs": [
    {
     "output_type": "stream",
     "name": "stdout",
     "text": [
      "        a  b  c  d  e\nJoe     5  8  8  2  2\nMichel  0  3  7  4  2\nSteve   7  9  6  1  4\nWes     4  7  8  6  2\nJim     2  3  0  6  6\nTravis  5  6  9  3  6\n"
     ]
    }
   ],
   "source": [
    "# constuindo DataFrame com rótulos de linhas e colunas\n",
    "dfp = pd.DataFrame(data=np.random.randint(low=0, high=10, size=(6,5)),\n",
    "               columns=['a','b','c','d','e'], \n",
    "               index=['Joe','Michel','Steve','Wes','Jim','Travis'])\n",
    "print(dfp)"
   ]
  },
  {
   "cell_type": "code",
   "execution_count": 36,
   "metadata": {},
   "outputs": [
    {
     "output_type": "stream",
     "name": "stdout",
     "text": [
      "Agrupamento: 3 letras\n\n      a  b  c  d  e\nJoe  5  8  8  2  2\nWes  4  7  8  6  2\nJim  2  3  0  6  6 \n\nAgrupamento: 5 letras\n\n        a  b  c  d  e\nSteve  7  9  6  1  4 \n\nAgrupamento: 6 letras\n\n         a  b  c  d  e\nMichel  0  3  7  4  2\nTravis  5  6  9  3  6 \n\n"
     ]
    }
   ],
   "source": [
    "agrupamento_tamanho_nome = dfp.groupby(lambda x: len(x))\n",
    "\n",
    "for groupname, group in agrupamento_tamanho_nome:\n",
    "    print('Agrupamento: {} letras'.format(groupname))\n",
    "    print('\\n',group,'\\n')"
   ]
  },
  {
   "source": [
    "<h3>Transformações e Agregações</h3>\n",
    "\n",
    "- Agregação: combinam várias linhas em um único valor.\n",
    "    - ex: média, soma, mediana, etc\n",
    "    - aplicar vários métodos ao mesmo tempo utilizando o método 'agg' -> aggregate\n",
    "\n",
    "- Filtragem: apenas um subconjunto que responde aos critérios estabelecidos\n",
    "\n",
    "- Transformação: transforma os elementos de um dataframe e retorna um novo dataframe"
   ],
   "cell_type": "markdown",
   "metadata": {}
  },
  {
   "cell_type": "code",
   "execution_count": 40,
   "metadata": {},
   "outputs": [
    {
     "output_type": "stream",
     "name": "stdout",
     "text": [
      "Gorjeta Máxima\n\nsex\nFemale     6.5\nMale      10.0\nName: tip, dtype: float64\n"
     ]
    }
   ],
   "source": [
    "df = pd.read_csv('tips.csv')\n",
    "\n",
    "# aqui, filtramos pelo gênero (masc/femi), selecionamos o máximo valor da coluna de gorjeta 'tip'\n",
    "gorjeta_maxima = df.groupby(['sex'])['tip'].max()\n",
    "\n",
    "print('Gorjeta Máxima\\n')\n",
    "print(gorjeta_maxima)"
   ]
  },
  {
   "source": [
    "Agregando os dados com múltiplos métodos"
   ],
   "cell_type": "markdown",
   "metadata": {}
  },
  {
   "cell_type": "code",
   "execution_count": 42,
   "metadata": {},
   "outputs": [
    {
     "output_type": "stream",
     "name": "stdout",
     "text": [
      "Média e Desvio Padrão\n        mean   std\nsex               \nFemale  2.83  1.16\nMale    3.09  1.49\n"
     ]
    }
   ],
   "source": [
    "media_desvpad_gorjeta = round(df.groupby(['sex'])['tip'].agg(['mean','std']),2)\n",
    "\n",
    "print('Média e Desvio Padrão')\n",
    "print(media_desvpad_gorjeta)"
   ]
  },
  {
   "source": [
    "O método **reset_index** irá reordenar os índices das linhas de acordo a valores especificados ou, caso nada seja explicitado, usará como índices números inteiros"
   ],
   "cell_type": "markdown",
   "metadata": {}
  },
  {
   "cell_type": "code",
   "execution_count": 43,
   "metadata": {},
   "outputs": [
    {
     "output_type": "stream",
     "name": "stdout",
     "text": [
      "Média e Desvio Padrão\n      sex  mean   std\n0  Female  2.83  1.16\n1    Male  3.09  1.49\n"
     ]
    }
   ],
   "source": [
    "media_desvpad_gorjeta = media_desvpad_gorjeta.reset_index()\n",
    "\n",
    "print('Média e Desvio Padrão')\n",
    "print(media_desvpad_gorjeta)"
   ]
  },
  {
   "source": [
    "Pode-se utilizar os métodos de agregação de modo ainda mais específico, utilizando um dicionário com as colunas onde um determinado método irá ser aplicado (key) e o método a ser executado (value)"
   ],
   "cell_type": "markdown",
   "metadata": {}
  },
  {
   "cell_type": "code",
   "execution_count": 46,
   "metadata": {},
   "outputs": [
    {
     "output_type": "stream",
     "name": "stdout",
     "text": [
      "\n\n             tip  total_bill   day\nsex                               \nFemale  2.833448       44.30  Thur\nMale    3.089618       50.81   Sat\n"
     ]
    }
   ],
   "source": [
    "df.head()\n",
    "\n",
    "dfm = df.groupby(['sex']).agg({ 'tip': 'mean',\n",
    "                                'total_bill': 'max',\n",
    "                                'day': lambda x : x.mode()})\n",
    "\n",
    "print('\\n')\n",
    "print(dfm.head())"
   ]
  },
  {
   "source": [
    "Pode-se também renomear a coluna onde se deseja realizar a agregação, utilizando a entrada dos argumentos especificando tuplas em estilo (coluna_alvo, operacao_agregacao)"
   ],
   "cell_type": "markdown",
   "metadata": {}
  },
  {
   "cell_type": "code",
   "execution_count": 51,
   "metadata": {},
   "outputs": [
    {
     "output_type": "stream",
     "name": "stdout",
     "text": [
      "Agregação com renomeio de colunas\n\n        mean_tip  max_bill most_freq_day\nsex                                     \nFemale  2.833448     44.30          Thur\nMale    3.089618     50.81           Sat\n"
     ]
    }
   ],
   "source": [
    "agregacao_com_renomeio = df.groupby(['sex']).agg(   mean_tip=('tip','mean'),\n",
    "                                                    max_bill=('total_bill','max'),\n",
    "                                                    most_freq_day=('day',lambda x:x.mode()))\n",
    "\n",
    "print('Agregação com renomeio de colunas\\n')\n",
    "print(agregacao_com_renomeio)"
   ]
  },
  {
   "source": [
    "<h3>Métodos de Filtragem</h3>\n"
   ],
   "cell_type": "markdown",
   "metadata": {}
  },
  {
   "cell_type": "code",
   "execution_count": 64,
   "metadata": {},
   "outputs": [
    {
     "output_type": "stream",
     "name": "stdout",
     "text": [
      "DataFrame\n\n  key1     data0     data1     data2\n0    a  0.423292  0.767815  0.849463\n1    c  0.327677  0.615919  0.760452\n2    b  0.985021  0.769609  0.714696\n3    c  0.868019  0.685085  0.089287\n4    a  0.074275  0.421211  0.472310\n5    a  0.372726  0.161554  0.097766\n6    b  0.856767  0.163908  0.508189\n7    a  0.506655  0.961478  0.419237\n8    c  0.427813  0.172816  0.192571\n9    b  0.078311  0.365671  0.069379\n"
     ]
    }
   ],
   "source": [
    "# Construindo DataFrame a partir de um dicionário\n",
    "df = pd.DataFrame({'key1': ['a','c','b','c','a','a','b','a','c','b'],\n",
    "                  'data0': np.random.uniform(low=0,high=1,size=10),\n",
    "                  'data1': np.random.uniform(low=0,high=1,size=10),\n",
    "                  'data2': np.random.uniform(low=0,high=1,size=10)})\n",
    "\n",
    "print(\"DataFrame\\n\")\n",
    "print(df)"
   ]
  },
  {
   "cell_type": "code",
   "execution_count": 60,
   "metadata": {},
   "outputs": [
    {
     "output_type": "stream",
     "name": "stdout",
     "text": [
      "Média da coluna 'data1': 0.44\n"
     ]
    }
   ],
   "source": [
    "data1_mean = round(df['data1'].mean(),2)\n",
    "\n",
    "print(\"Média da coluna 'data1':\", data1_mean)"
   ]
  },
  {
   "cell_type": "code",
   "execution_count": 67,
   "metadata": {},
   "outputs": [
    {
     "output_type": "stream",
     "name": "stdout",
     "text": [
      "Média de cada grupo\n\n         data0     data1     data2\nkey1                              \na     0.344237  0.578014  0.459694\nb     0.640033  0.433063  0.430755\nc     0.541170  0.491274  0.347437\n"
     ]
    }
   ],
   "source": [
    "media_colunas = df.groupby('key1').mean()\n",
    "\n",
    "print('Média de cada grupo\\n')\n",
    "print(media_colunas)"
   ]
  },
  {
   "cell_type": "code",
   "execution_count": 69,
   "metadata": {},
   "outputs": [
    {
     "output_type": "stream",
     "name": "stdout",
     "text": [
      "  key1     data0     data1     data2\n0    a  0.423292  0.767815  0.849463\n4    a  0.074275  0.421211  0.472310\n5    a  0.372726  0.161554  0.097766\n7    a  0.506655  0.961478  0.419237\n"
     ]
    }
   ],
   "source": [
    "media_data2_maior_media_data1 = df.groupby('key1').filter(lambda x: x['data2'].mean() > data1_mean)\n",
    "\n",
    "print(media_data2_maior_media_data1)"
   ]
  },
  {
   "source": [
    "<h3>Métodos de Transformação</h3>\n",
    "\n",
    "- método transform"
   ],
   "cell_type": "markdown",
   "metadata": {}
  },
  {
   "cell_type": "code",
   "execution_count": 70,
   "metadata": {},
   "outputs": [
    {
     "output_type": "stream",
     "name": "stdout",
     "text": [
      "  key1     data0     data1     data2\n0    a  0.298361  0.990721  0.985355\n1    c  0.776389  0.819263  0.186074\n2    b  0.827215  0.100741  0.280756\n3    c  0.250447  0.955738  0.456253\n4    a  0.075205  0.598018  0.795631\n5    a  0.985638  0.646465  0.002764\n6    b  0.710115  0.894345  0.525289\n7    a  0.526766  0.249090  0.555633\n8    c  0.619166  0.006552  0.411125\n9    b  0.010008  0.137959  0.154341\n"
     ]
    }
   ],
   "source": [
    "# Construindo DataFrame a partir de um dicionário\n",
    "df = pd.DataFrame({'key1': ['a','c','b','c','a','a','b','a','c','b'],\n",
    "                  'data0': np.random.uniform(low=0,high=1,size=10),\n",
    "                  'data1': np.random.uniform(low=0,high=1,size=10),\n",
    "                  'data2': np.random.uniform(low=0,high=1,size=10)})\n",
    "\n",
    "print(df)"
   ]
  },
  {
   "cell_type": "code",
   "execution_count": 72,
   "metadata": {},
   "outputs": [
    {
     "output_type": "stream",
     "name": "stdout",
     "text": [
      "         data0     data1     data2\nkey1                              \na     0.471493  0.621074  0.584846\nb     0.515779  0.377682  0.320129\nc     0.548667  0.593851  0.351151\n"
     ]
    }
   ],
   "source": [
    "media_grupos = df.groupby('key1').mean()"
   ]
  },
  {
   "cell_type": "code",
   "execution_count": 74,
   "metadata": {},
   "outputs": [
    {
     "output_type": "stream",
     "name": "stdout",
     "text": [
      "  key1     data0     data1     data2        d1        d2        d3\n0    a  0.298361  0.990721  0.985355 -0.173131  0.369647  0.400509\n1    c  0.776389  0.819263  0.186074  0.227722  0.225412 -0.165077\n2    b  0.827215  0.100741  0.280756  0.311436 -0.276941 -0.039373\n3    c  0.250447  0.955738  0.456253 -0.298220  0.361887  0.105102\n4    a  0.075205  0.598018  0.795631 -0.396287 -0.023055  0.210785\n5    a  0.985638  0.646465  0.002764  0.514146  0.025391 -0.582082\n6    b  0.710115  0.894345  0.525289  0.194335  0.516664  0.205161\n7    a  0.526766  0.249090  0.555633  0.055273 -0.371983 -0.029213\n8    c  0.619166  0.006552  0.411125  0.070499 -0.587299  0.059975\n9    b  0.010008  0.137959  0.154341 -0.505771 -0.239723 -0.165788\n"
     ]
    }
   ],
   "source": [
    "df[['d1','d2','d3']] = df.groupby('key1').transform(lambda x:x-x.mean())\n",
    "\n",
    "print(df)"
   ]
  },
  {
   "source": [
    "Método **apply**\n",
    "\n",
    "O mais versátil dos métodos de transformação"
   ],
   "cell_type": "markdown",
   "metadata": {}
  },
  {
   "cell_type": "code",
   "execution_count": 75,
   "metadata": {},
   "outputs": [
    {
     "output_type": "stream",
     "name": "stdout",
     "text": [
      "         data0     data1     data2        d1        d2        d3\nkey1                                                            \na     0.910433  0.741630  0.982591  0.910433  0.741630  0.982591\nb     0.817207  0.793605  0.370949  0.817207  0.793605  0.370949\nc     0.525942  0.949186  0.270179  0.525942  0.949186  0.270179\n"
     ]
    }
   ],
   "source": [
    "dif_max_min = df.groupby('key1').apply(lambda x: x.max() - x.min())\n",
    "\n",
    "print(dif_max_min)"
   ]
  },
  {
   "source": [
    "Retornando os resultados das menores diferenças para cada grupo"
   ],
   "cell_type": "markdown",
   "metadata": {}
  },
  {
   "cell_type": "code",
   "execution_count": 82,
   "metadata": {},
   "outputs": [
    {
     "output_type": "stream",
     "name": "stdout",
     "text": [
      "key1\na    0.741630\nb    0.370949\nc    0.270179\ndtype: float64\n"
     ]
    }
   ],
   "source": [
    "max_min = df.groupby('key1').apply(lambda x: (x.max()-x.min()).sort_values()[0])\n",
    "\n",
    "print(max_min)"
   ]
  },
  {
   "source": [
    "MapReduce da Apache\n",
    "\n",
    "- serve do mesmo modo que o groupby do pandas, mas serve de modo mais otimizado a grandes volumes de dados"
   ],
   "cell_type": "markdown",
   "metadata": {}
  }
 ]
}