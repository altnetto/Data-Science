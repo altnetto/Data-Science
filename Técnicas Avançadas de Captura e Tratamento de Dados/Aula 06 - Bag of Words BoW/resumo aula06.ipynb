{
 "metadata": {
  "language_info": {
   "codemirror_mode": {
    "name": "ipython",
    "version": 3
   },
   "file_extension": ".py",
   "mimetype": "text/x-python",
   "name": "python",
   "nbconvert_exporter": "python",
   "pygments_lexer": "ipython3",
   "version": "3.9.4"
  },
  "orig_nbformat": 2,
  "kernelspec": {
   "name": "python394jvsc74a57bd055421908667a225820f2cd05496734e43c3ddbc7d792b945edc730d5b93ba56f",
   "display_name": "Python 3.9.4 64-bit"
  },
  "metadata": {
   "interpreter": {
    "hash": "55421908667a225820f2cd05496734e43c3ddbc7d792b945edc730d5b93ba56f"
   }
  }
 },
 "nbformat": 4,
 "nbformat_minor": 2,
 "cells": [
  {
   "source": [
    "### Bag of Words"
   ],
   "cell_type": "markdown",
   "metadata": {}
  },
  {
   "source": [
    "Para realizar operações entre palavras, precisamos tratar os dados e, por tratar, entenda-se que estamos identificando as palavras por seus tipos (pronomes, substantivos, verbos, preposições, advérbios e adjetivos)"
   ],
   "cell_type": "markdown",
   "metadata": {}
  },
  {
   "source": [
    "#### Pré-processamento\n",
    "\n",
    "- Obter as string correspondentes ao texto de cada documento\n",
    "- Extrair as palavras de cada string\n",
    "- Remover pontuação e símbolos\n",
    "- Remover \"Stop Words\"\n",
    "- Extrair bigramas, trigramas, etc\n",
    "- Normalização Léxica"
   ],
   "cell_type": "markdown",
   "metadata": {}
  },
  {
   "cell_type": "code",
   "execution_count": 11,
   "metadata": {
    "tags": [
     "outputPrepend"
    ]
   },
   "outputs": [
    {
     "output_type": "stream",
     "name": "stdout",
     "text": [
      ", Alexandria, VA 22304-6145. And it's\n\t    also available from the NTIS, with yet another number.\n\n\t\"Advanced Space Propulsion Study, Antiproton and Beamed Power\n\t    Propulsion\", Robert Forward\n\n\t    AFAL TR-87-070 from the Air Force Astronautics Laboratory, DTIC\n\t    #AD-A189 218.\n\t    NTIS AD-A189 218/1\t  PC A10/MF A01\n\n\t    Summarizes the previous paper, goes into detail on beamed power\n\t    systems including \" 1) pellet, microwave, and laser beamed power\n\t    systems for intersteller transport; 2) a design for a\n\t    near-relativistic laser-pushed lightsail using near-term laser\n\t    technology; 3) a survey of laser thermal propulsion, tether\n\t    transportation systems, antiproton annihilation propulsion,\n\t    exotic applications of solar sails, and laser-pushed\n\t    interstellar lightsails; 4) the status of antiproton\n\t    annihilation propulsion as of 1986; and 5) the prospects for\n\t    obtaining antimatter ions heavier than antiprotons.\" Again,\n\t    there is an extensive bibliography.\n\n\t    \"Application of Antimatter - Electric Power to Interstellar\n\t    Propulsion\", G. D. Nordley, JBIS Interstellar Studies issue of\n\t    6/90.\n\n    BUSSARD RAMJETS AND RELATED METHODS:\n\n\tG. L. Matloff and A. J. Fennelly, \"Interstellar Applications and\n\tLimitations of Several Electrostatic/Electromagnetic Ion Collection\n\tTechniques\", JBIS 30 (1977):213-222\n\n\tN. H. Langston, \"The Erosion of Interstellar Drag Screens\", JBIS 26\n\t(1973): 481-484\n\n\tC. Powell, \"Flight Dynamics of the Ram-Augmented Interstellar\n\tRocket\", JBIS 28 (1975):553-562\n\n\tA. R. Martin, \"The Effects of Drag on Relativistic Spacefight\", JBIS\n\t25 (1972):643-652\n\n    FUSION:\n\n\t\"A Laser Fusion Rocket for Interplanetary Propulsion\", Roderick Hyde,\n\tLLNL report UCRL-88857. (Contact the Technical Information Dept. at\n\tLivermore)\n\n\t    Fusion Pellet design: Fuel selection. Energy loss mechanisms.\n\t    Pellet compression metrics. Thrust Chamber: Magnetic nozzle.\n\t    Shielding. Tritium breeding. Thermal modeling. Fusion Driver\n\t    (lasers, particle beams, etc): Heat rejection. Vehicle Summary:\n\t    Mass estimates. Vehicle Performance: Interstellar travel\n\t    required exhaust velocities at the limit of fusion's capability.\n\t    Interplanetary missions are limited by power/weight ratio.\n\t    Trajectory modeling. Typical mission profiles. References,\n\t    including the 1978 report in JBIS, \"Project Daedalus\", and\n\t    several on ICF and driver technology.\n\n\t\"Fusion as Electric Propulsion\", Robert W. Bussard, Journal of\n\tPropulsion and Power, Vol. 6, No. 5, Sept.-Oct. 1990\n\n\t    Fusion rocket engines are analyzed as electric propulsion\n\t    systems, with propulsion thrust-power-input-power ratio (the\n\t    thrust-power \"gain\" G(t)) much greater than unity. Gain values\n\t    of conventional (solar, fission) electric propulsion systems are\n\t    always quite small (e.g., G(t)<0.8). With these, \"high-thrust\"\n\t    interplanetary flight is not possible, because system\n\t    acceleration (a(t)) capabilities are always less than the local\n\t    gravitational acceleration. In contrast, gain values 50-100\n\t    times higher are found for some fusion concepts, which offer\n\t    \"high-thrust\" flight capability. One performance example shows a\n\t    53.3 day (34.4 powered; 18.9 coast), one-way transit time with\n\t    19% payload for a single-stage Earth/Mars vehicle. Another shows\n\t    the potential for high acceleration (a(t)=0.55g(o)) flight in\n\t    Earth/moon space.\n\n\t\"The QED Engine System: Direct Electric Fusion-Powered Systems for\n\tAerospace Flight Propulsion\" by Robert W. Bussard, EMC2-1190-03,\n\tavailable from Energy/Matter Conversion Corp., 9100 A. Center\n\tStreet, Manassas, VA 22110.\n\n\t    [This is an introduction to the application of Bussard's version\n\t    of the Farnsworth/Hirsch electrostatic confinement fusion\n\t    technology to propulsion. 1500<Isp<5000 sec. Farnsworth/Hirsch\n\t    demonstrated a 10**10 neutron flux with their device back in\n\t    1969 but it was dropped when panic ensued over the surprising\n\t    stability of the Soviet Tokamak. Hirsch, responsible for the\n\t    panic, has recently recanted and is back working on QED. -- Jim\n\t    Bowery]\n\n\t\"PLASMAKtm Star Power for Energy Intensive Space Applications\", by\n\tPaul M. Koloc, Eight ANS Topical Meeting on Technology of Fusion\n\tEnergy, special issue FUSION TECHNOLOGY, March 1989.\n\n\t    Aneutronic energy (fusion with little or negligible neutron\n\t    flux) requires plasma pressures and stable confinement times\n\t    larger than can be delivered by current approaches. If plasma\n\t    pressures appropriate to burn times on the order of milliseconds\n\t    could be achieved in aneutronic fuels, then high power densities\n\t    and very compact, realtively clean burning engines for space and\n\t    other special applications would be at hand. The PLASMAKtm\n\t    innovation will make this possible; its unique pressure\n\t    efficient structure, exceptional stability, fluid-mechanically\n\t    compressible Mantle and direct inductive MHD electric power\n\t    conversion advantages are described. Peak burn densities of tens\n\t    of megawats per cc give it compactness even in the\n\t    multi-gigawatt electric output size. Engineering advantages\n\t    indicate a rapid development schedule at very modest cost. [I\n\t    strongly recommend that people take this guy seriously. Bob\n\t    Hirsch, the primary proponent of the Tokamak, has recently\n\t    declared Koloc's PLASMAKtm precursor, the spheromak, to be one\n\t    of 3 promising fusion technologies that should be pursued rather\n\t    than Tokamak. Aside from the preceeding appeal to authority, the\n\t    PLASMAKtm looks like it finally models ball-lightning with solid\n\t    MHD physics. -- Jim Bowery]\n\n    ION DRIVES:\n\n\tRetrieve files pub/SPACE/SPACELINK/6.5.2.* from the Ames SPACE\n\tarchive; these deal with many aspects of ion drives and describe the\n\tSERT I and II missions, which flight-tested cesium ion thrusters in\n\tthe 1960s and 70s. There are numerous references.\n\n    MASS DRIVERS (COILGUNS, RAILGUNS):\n\n\tIEEE Transactions on Magnetics (for example, v. 27 no. 1, January\n\t1991 issue). Every so often they publish the proceedings of the\n\tSymposium on Electromagnetic Launcher Technology, including hundreds\n\tof papers on the subject. It's a good look at the state of the art,\n\tthough perhaps not a good tutorial for beginners. Anybody know some\n\tgood review papers?\n\n    NUCLEAR ROCKETS (FISSION):\n\n\t\"Technical Notes on Nuclear Rockets\", by Bruce W. Knight and Donald\n\tKingsbury, unpublished. May be available from: Donald Kingsbury,\n\tMath Dept., McGill University, PO Box 6070, Station A, Montreal,\n\tQuebec M3C 3G1 Canada.\n\n    SOLAR SAILS:\n\n\tStarsailing. Solar Sails and Interstellar Travel. Louis Friedman,\n\tWiley, New York, 1988, 146 pp., paper $9.95. (Not very technical,\n\tbut an adequate overview.)\n\n\t\"Roundtrip Interstellar Travel Using Laser-Pushed Lightsails\n\t(Journal of Spacecraft and Rockets, vol. 21, pp. 187-95, Jan.-Feb.\n\t1984)\n\n    TETHERS:\n\n\t_Tethers and Asteroids for Artificial Gravity Assist in the Solar\n\tSystem,_ by P.A. Penzo and H.L. Mayer., _Journal of Spacecraft\n\tand Rockets_ for Jan-Feb 1986.\n\n\t    Details how a spacecraft with a kevlar tether of the same mass\n\t    can change its velocity by up to slightly less than 1 km/sec. if\n\t    it is travelling under that velocity wrt a suitable asteroid.\n\n    GENERAL:\n\n\t\"Alternate Propulsion Energy Sources\", Robert Forward\n\t    AFPRL TR-83-067.\n\t    NTIS AD-B088 771/1\t  PC A07/MF A01   Dec 83 138p\n\n\t    Keywords: Propulsion energy, metastable helium, free-radical\n\t    hydrogen, solar pumped (sic) plasmas, antiproton annihiliation,\n\t    ionospheric lasers, solar sails, perforated sails, microwave\n\t    sails, quantum fluctuations, antimatter rockets... It's a wide,\n\t    if not deep, look at exotic energy sources which might be useful\n\t    for space propulsion. It also considers various kinds of laser\n\t    propulsion, metallic hydrogen, tethers, and unconventional\n\t    nuclear propulsion. The bibliographic information, pointing to\n\t    the research on all this stuff, belongs on every daydreamer's\n\t    shelf.\n\n\tFuture Magic. Dr. Robert L. Forward, Avon, 1988. ISBN 0-380-89814-4.\n\n\t    Nontechnical discussion of tethers, antimatter, gravity control,\n\t    and even futher-out topics.\n\n\n    SPY SATELLITES\n\n    *Deep Black*, by William Burrows;\n\t\"best modern general book for spysats.\"\n\n    1) A Base For Debate: The US Satellite Station at Nurrungar, Des Ball,\n    Allen and Unwin Australia, 1987 ISBN 0 04 355027 4 [ covers DSP early\n    warning satellites]\n\n    2) Pine Gap: Australia and the US Geostationary Signals intelligence\n    satellite program, Des Ball, Allen and Unwin Australia, 1988 ISBN 0 04\n    363002 5. [covers RHYOLITE/AQUACADE, CHALET/VORTEX, and MAGNUM signals\n    intelligence satellites]\n\n    3) Guardians: Strategic Reconnaissance Satellites, Curtis Peebles, 1987,\n    Ian Allan, ISBN 0 7110 17654 [ good on MOL, military Salyut and Soviet\n    satellites, less so on others. Tends to believe what he's told so flaws\n    in discussion of DSP, RHYOLITE et al..]\n\n    4) America's Secret Eyes In Space: The Keyhole Spy Satellite Program,\n    Jeffrey Richelson, 1990, Harper and Row, ISBN 0 88730 285 8 [ in a class\n    of its own, *the* historical reference on the KEYHOLE satellites]\n\n    5) Secret Sentries in Space, Philip J Klass, 1971.\n\t\"long out of print but well worth a look\"\n\n\n    SPACE SHUTTLE COMPUTER SYSTEMS\n\n    %J Communications of the ACM\n    %V 27\n    %N 9\n    %D September 1984\n    %K Special issue on space [shuttle] computers\n\n    %A Myron Kayton\n    %T Avionics for Manned Spacecraft\n    %J IEEE Transactions on Aerospace and Electronic Systems\n    %V 25\n    %N 6\n    %D November 1989\n    %P 786-827\n\n    Other various AIAA and IEEE publications.\n\n    Computers in Spaceflight: The NASA Experience\n    James E.  Tomayko\n    1988?\n\n\n    SETI COMPUTATION (SIGNAL PROCESSING)\n\n    %A D. K. Cullers\n    %A Ivan R. Linscott\n    %A Bernard M. Oliver\n    %T Signal Processing in SETI\n    %J Communications of the ACM\n    %V 28\n    %N 11\n    %D November 1984\n    %P 1151-1163\n    %K CR Categories and Subject Descriptors: D.4.1 [Operating Systems]:\n    Process Management - concurrency; I.5.4 [Pattern Recognition]:\n    Applications - signal processing; J.2 [Phsyical Sciences and Engineering]:\n    astronomy\n    General Terms: Design\n    Additional Key Words and Phrases: digital Fourier transforms,\n    finite impulse-response filters, interstellar communications,\n    Search for Extra-terrestrial Intelligence, signal detection,\n    spectrum analysis\n\n\n    AMATEUR SATELLIES & WEATHER SATELLITES\n\n    A fairly long writeup on receiving and interpreting weather satellite\n    photos is available from the Ames SPACE archive in\n    pub/SPACE/FAQ/WeatherPhotos.\n\n    The American Radio Relay League publication service offers the following\n    references (also see the section on AMSAT in the space groups segment of\n    the FAQ):\n\n\tARRL Satellite Experimenters Handbook,\t\t#3185, $20\n\tARRL Weather Satellite Handbook,\t\t#3193, $20\n\tIBM-PC software for Weather Satellite Handbook, #3290, $10\n\n\tAMSAT NA 5th Space Symposium,\t\t\t#0739, $12\n\tAMSAT NA 6th Space Symposium,\t\t\t#2219, $12\n\n\tShipping is extra.\n\n    The American Radio Relay League\n    Publications Department\n    225 Main Street\n    Newington, CT 06111\n    (203)-666-1541\n\n\n    TIDES\n\n    Srinivas Bettadpur contributed a writeup on tides, available from the\n    Ames SPACE archive in pub/SPACE/FAQ/Tides. It covers the following\n    areas:\n\n\t- 2-D Example of Tidal Deformation\n\t- Treatment of Tidal Fields in Practice\n\t- Long term evolution of the Earth-Moon system under tides\n\n    The writeup refers to the following texts:\n\n\t\"Geophysical Geodesy\" by K. Lambeck\n\t\"Tides of the planet Earth\" by P. Melchior\n\nNEXT: FAQ #6/15 - Constants and equations for calculations\n From: leech@cs.unc.edu (Jon Leech)\nSubject: Space FAQ 09/15 - Mission Schedules\n\nArchive-name: space/schedule\nLast-modified: $Date: 93/04/01 14:39:23 $\n\nSPACE SHUTTLE ANSWERS, LAUNCH SCHEDULES, TV COVERAGE\n\n    SHUTTLE LAUNCHINGS AND LANDINGS; SCHEDULES AND HOW TO SEE THEM\n\n    Shuttle operations are discussed in the Usenet group sci.space.shuttle,\n    and Ken Hollis (gandalf@pro-electric.cts.com) posts a compressed version\n    of the shuttle manifest (launch dates and other information)\n    periodically there. The manifest is also available from the Ames SPACE\n    archive in SPACE/FAQ/manifest. The portion of his manifest formerly\n    included in this FAQ has been removed; please refer to his posting or\n    the archived copy. For the most up to date information on upcoming\n    missions, call (407) 867-INFO (867-4636) at Kennedy Space Center.\n\n    Official NASA shuttle status reports are posted to sci.space.news\n    frequently.\n\n\n    WHY DOES THE SHUTTLE ROLL JUST AFTER LIFTOFF?\n\n    The following answer and translation are provided by Ken Jenks\n    (kjenks@gothamcity.jsc.nasa.gov).\n\n    The \"Ascent Guidance and Flight Control Training Manual,\" ASC G&C 2102,\n    says:\n\n\t\"During the vertical rise phase, the launch pad attitude is\n\tcommanded until an I-loaded V(rel) sufficient to assure launch tower\n\tclearance is achieved. Then, the tilt maneuver (roll program)\n\torients the vehicle to a heads down attitude required to generate a\n\tnegative q-alpha, which in turn alleviates structural loading. Other\n\tadvantages with this attitude are performance gain, decreased abort\n\tmaneuver complexity, improved S-band look angles, and crew view of\n\tthe horizon. The tilt maneuver is also required to start gaining\n\tdownrange velocity to achieve the main engine cutoff (MECO) target\n\tin second stage.\"\n\n    This really is a good answer, but it's couched in NASA jargon. I'll try\n    to interpret.\n\n    1)\tWe wait until the Shuttle clears the tower before rolling.\n\n    2)\tThen, we roll the Shuttle around so that the angle of attack\n\tbetween the wind caused by passage through the atmosphere (the\n\t\"relative wind\") and the chord of the wings (the imaginary line\n\tbetween the leading edge and the trailing edge) is a slightly\n\tnegative angle (\"a negative q-alpha\").\tThis causes a little bit of\n\t\"downward\" force (toward the belly of the Orbiter, or the +Z\n\tdirection) and this force \"alleviates structural loading.\"\n\tWe have to be careful about those wings -- they're about the\n\tmost \"delicate\" part of the vehicle.\n\n    3)\tThe new attitude (after the roll) also allows us to carry more\n\tmass to orbit, or to achieve a higher orbit with the same mass, or\n\tto change the orbit to a higher or lower inclination than would be\n\tthe case if we didn't roll (\"performance gain\").\n\n    4)\tThe new attitude allows the crew to fly a less complicated\n\tflight path if they had to execute one of the more dangerous abort\n\tmaneuvers, the Return To Launch Site (\"decreased abort maneuver\n\tcomplexity\").\n\n    5)\tThe new attitude improves the ability for ground-based radio\n\tantennae to have a good line-of-sight signal with the S-band radio\n\tantennae on the Orbiter (\"improved S-band look angles\").\n\n    6)\tThe new attitude allows the crew to see the horizon, which is a\n\thelpful (but not mandatory) part of piloting any flying machine.\n\n    7)\tThe new attitude orients the Shuttle so that the body is\n\tmore nearly parallel with the ground, and the nose to the east\n\t(usually).  This allows the thrust from the engines to add velocity\n\tin the correct direction to eventually achieve orbit.  Remember:\n\tvelocity is a vector quantity made of both speed and direction.\n\tThe Shuttle has to have a large horizontal component to its\n\tvelocity and a very small vertical component to attain orbit.\n\n    This all begs the question, \"Why isn't the launch pad oriented to give\n    this nice attitude to begin with?  Why does the Shuttle need to roll to\n    achieve that attitude?\"  The answer is that the pads were leftovers\n    from the Apollo days.  The Shuttle straddles two flame trenches -- one\n    for the Solid Rocket Motor exhaust, one for the Space Shuttle Main\n    Engine exhaust.  (You can see the effects of this on any daytime\n    launch.  The SRM exhaust is dirty gray garbage, and the SSME exhaust is\n    fluffy white steam.  Watch for the difference between the \"top\"\n    [Orbiter side] and the \"bottom\" [External Tank side] of the stack.) The\n    access tower and other support and service structure are all oriented\n    basically the same way they were for the Saturn V's.  (A side note: the\n    Saturn V's also had a roll program.  Don't ask me why -- I'm a Shuttle\n    guy.)\n\n    I checked with a buddy in Ascent Dynamics.\tHe added that the \"roll\n    maneuver\" is really a maneuver in all three axes: roll, pitch and yaw.\n    The roll component of that maneuver is performed for the reasons\n    stated.  The pitch component controls loading on the wings by keeping\n    the angle of attack (q-alpha) within a tight tolerance.  The yaw\n    component is used to determine the orbital inclination.  The total\n    maneuver is really expressed as a \"quaternion,\" a grad-level-math\n    concept for combining all three rotation matrices in one four-element\n    array.\n\n\n    HOW TO RECEIVE THE NASA TV CHANNEL, NASA SELECT\n\n    NASA SELECT is broadcast by satellite. If you have access to a satellite\n    dish, you can find SELECT on Satcom F2R, Transponder 13, C-Band, 72\n    degrees West Longitude, Audio 6.8, Frequency 3960 MHz. F2R is stationed\n    over the Atlantic, and is increasingly difficult to receive from\n    California and points west. During events of special interest (e.g.\n    shuttle missions), SELECT is sometimes broadcast on a second satellite\n    for these viewers.\n\n    If you can't get a satellite feed, some cable operators carry SELECT.\n    It's worth asking if yours doesn't.\n\n    The SELECT schedule is found in the NASA Headline News which is\n    frequently posted to sci.space.news. Generally it carries press\n    conferences, briefings by NASA officials, and live coverage of shuttle\n    missions and planetary encounters. SELECT has recently begun carrying\n    much more secondary material (associated with SPACELINK) when missions\n    are not being covered.\n\n\n    AMATEUR RADIO FREQUENCIES FOR SHUTTLE MISSIONS\n\n    The following are believed to rebroadcast space shuttle mission audio:\n\n\tW6FXN  - Los Angeles\n\tK6MF   - Ames Research Center, Mountain View, California\n\tWA3NAN - Goddard Space Flight Center (GSFC), Greenbelt, Maryland.\n\tW5RRR  - Johnson Space Center (JSC), Houston, Texas\n\tW6VIO  - Jet Propulsion Laboratory (JPL), Pasadena, California.\n\tW1AW Voice Bulletins\n\n\tStation    VHF\t   10m\t   15m\t   20m\t  40m\t 80m\n\t------\t ------  ------  ------  ------  -----\t-----\n\tW6FXN\t 145.46\n\tK6MF\t 145.585\t\t\t 7.165\t3.840\n\tWA3NAN\t 147.45  28.650  21.395  14.295  7.185\t3.860\n\tW5RRR\t 146.64  28.400  21.350  14.280  7.227\t3.850\n\tW6VIO\t 224.04\t\t 21.340  14.270\n\tW6VIO\t 224.04\t\t 21.280  14.282  7.165\t3.840\n\tW1AW\t\t 28.590  21.390  14.290  7.290\t3.990\n\n    W5RRR transmits mission audio on 146.64, a special event station on the\n    other frequencies supplying Keplerian Elements and mission information.\n\n    W1AW also transmits on 147.555, 18.160. No mission audio but they\n    transmit voice bulletins at 0245 and 0545 UTC.\n\n    Frequencies in the 10-20m bands require USB and frequencies in the 40\n    and 80m bands LSB. Use FM for the VHF frequencies.\n\n    [This item was most recently updated courtesy of Gary Morris\n    (g@telesoft.com, KK6YB, N5QWC)]\n\n\n    SOLID ROCKET BOOSTER FUEL COMPOSITION\n\n    Reference: \"Shuttle Flight Operations Manual\" Volume 8B - Solid Rocket\n    Booster Systems, NASA Document JSC-12770\n\n    Propellant Composition (percent)\n\n    Ammonium perchlorate (oxidizer)\t\t\t69.6\n    Aluminum\t\t\t\t\t\t16\n    Iron Oxide (burn rate catalyst)\t\t\t0.4\n    Polybutadiene-acrilic acid-acrylonitrile (a rubber) 12.04\n    Epoxy curing agent\t\t\t\t\t1.96\n\n    End reference\n\n    Comment: The aluminum, rubber, and epoxy all burn with the oxidizer.\n\nNEXT: FAQ #10/15 - Historical planetary probes\n\n"
     ]
    }
   ],
   "source": [
    "import glob\n",
    "\n",
    "files = glob.glob('DocCol1/*')\n",
    "print(files[:5])\n",
    "\n",
    "docs = ' '.join([f\"\"\"{open(fname,'r').read()}\"\"\" for fname in files])\n",
    "\n",
    "print(docs)"
   ]
  },
  {
   "cell_type": "code",
   "execution_count": 12,
   "metadata": {},
   "outputs": [
    {
     "output_type": "stream",
     "name": "stdout",
     "text": [
      "['Subject', ':', 'Re', ':', 'Eck', 'vs', 'Rickey', '(', 'was', 'Re', ':', 'Rickey', \"'s\", 'whining', 'again', ')', 'From', ':', 'smith', '@']\n"
     ]
    }
   ],
   "source": [
    "import nltk\n",
    "\n",
    "words = nltk.word_tokenize(docs)\n",
    "print(words[:20])"
   ]
  },
  {
   "cell_type": "code",
   "execution_count": 13,
   "metadata": {
    "tags": []
   },
   "outputs": [
    {
     "output_type": "stream",
     "name": "stdout",
     "text": [
      "['subject', 're', 'eck', 'vs', 'rickey', 'was', 're', 'rickey', 'whining', 'again', 'from', 'smith', 'brian', 'smith', 'in', 'article', 'david', 'tate', 'writes', 'read']\n"
     ]
    }
   ],
   "source": [
    "import string\n",
    "\n",
    "# o método isalpha verifica se a string em questão possui apenas caracteres alfabéticos [a-zA-Z], enquanto string.ascii_letters representa caracteres 'isolados' \n",
    "# que estejam presentes na sentença (ex: 'a', 'e'), o que não nos agrega sentido semântico\n",
    "words = [w.lower() for w in words if w.isalpha() and w not in string.ascii_letters]\n",
    "\n",
    "print(words[:20])"
   ]
  },
  {
   "source": [
    "### Removendo Stop-Words"
   ],
   "cell_type": "markdown",
   "metadata": {}
  },
  {
   "source": [
    "Stop-words é um grupo de palavras que não representa sentido semântico dentro da linguagem, o que é incoveniente em termos de análise de dados"
   ],
   "cell_type": "markdown",
   "metadata": {}
  },
  {
   "cell_type": "code",
   "execution_count": 14,
   "metadata": {},
   "outputs": [
    {
     "output_type": "stream",
     "name": "stdout",
     "text": [
      "['subject', 'eck', 'vs', 'rickey', 'rickey', 'whining', 'smith', 'brian', 'smith', 'article', 'david', 'tate', 'writes', 'read', 'followups', 'thought', 'go', 'back', 'original', 'article']\n"
     ]
    }
   ],
   "source": [
    "from nltk.corpus import stopwords\n",
    "\n",
    "stop_words = stopwords.words('english')\n",
    "\n",
    "words = [w for w in words if w not in stop_words]\n",
    "print(words[:20])"
   ]
  },
  {
   "source": [
    "### Bigramas, Trigramas ...\n",
    "\n",
    "Expressões compostas por mais de uma palavra, o que acaba sendo extremamente relevante em determinados aspectos"
   ],
   "cell_type": "markdown",
   "metadata": {}
  },
  {
   "cell_type": "code",
   "execution_count": 15,
   "metadata": {},
   "outputs": [
    {
     "output_type": "stream",
     "name": "stdout",
     "text": [
      "['national space', 'degrees fahrenheit', 'space center', 'astronomical society', 'degrees celsius', 'dewey larson', 'mark singer', 'thu apr', 'celsius degrees', 'jon leech']\n"
     ]
    }
   ],
   "source": [
    "from nltk import word_tokenize\n",
    "from nltk.collocations import *\n",
    "\n",
    "bigrams_measures = nltk.collocations.BigramAssocMeasures()\n",
    "\n",
    "\n",
    "finder = BigramCollocationFinder.from_words(words)\n",
    "\n",
    "for i in finder.nbest(bigrams_measures.raw_freq, 20):\n",
    "    words.append(f\"{i[0].lower()} {i[1].lower()}\")\n",
    "\n",
    "\n",
    "# mostra os 10 bigramas mais relevantes (que apareceram)\n",
    "print(words[-10:])"
   ]
  },
  {
   "source": [
    "### Normalização Léxica\n",
    "\n",
    "- Stemming: basicamente trata-se de converter as flexões verbais para a forma de infinitivo, para facilitar a análise semântica e verificar a relevância de um determinado verbo no contexto da análise (ex: ando, andando, andei, andarei -> andar)\n",
    "\n",
    "- Lematização"
   ],
   "cell_type": "markdown",
   "metadata": {}
  },
  {
   "source": [
    "from nltk.stem import PorterStemmer\n",
    "\n",
    "words = [PorterStemmer().stem(w) for w in words]\n",
    "\n",
    "print(words[:100])"
   ],
   "cell_type": "code",
   "metadata": {},
   "execution_count": 16,
   "outputs": [
    {
     "output_type": "stream",
     "name": "stdout",
     "text": [
      "['subject', 'eck', 'vs', 'rickey', 'rickey', 'whine', 'smith', 'brian', 'smith', 'articl', 'david', 'tate', 'write', 'read', 'followup', 'thought', 'go', 'back', 'origin', 'articl', 'make', 'specif', 'comment', 'method', 'jao', 'john', 'oswalt', 'said', 'obtain', 'play', 'play', 'record', 'comput', 'readabl', 'form', 'everi', 'major', 'leagu', 'basebal', 'game', 'past', 'sever', 'year', 'devis', 'algorithm', 'call', 'wrote', 'comput', 'program', 'calcul', 'everi', 'major', 'leagu', 'player', 'contribut', 'use', 'work', 'like', 'look', 'everi', 'situat', 'everi', 'game', 'basebal', 'season', 'situat', 'determin', 'inning', 'score', 'baserunn', 'mani', 'out', 'situat', 'count', 'mani', 'time', 'team', 'eventu', 'game', 'situat', 'occur', 'divid', 'number', 'time', 'situat', 'came', 'come', 'valu', 'situat', 'first', 'done', 'georg', 'lindsey', 'late', 'report', 'articl', 'investig', 'strategi', 'basebal', 'author']\n"
     ]
    }
   ]
  },
  {
   "source": [
    "Construindo a Matriz Documentos x Palavras\n",
    "\n",
    "- A construção de uma \"Bag of Words\" é feita aplicando todos os passos acima em cada documento, juntando todas as informações em um DataFrame (ou array), ou seja:"
   ],
   "cell_type": "markdown",
   "metadata": {}
  },
  {
   "source": [
    "### TD E IDF\n",
    "\n",
    "- TF: frequência com que uma palavra aparece em um determinado documento \n",
    "    - count(palavra)/len(documento)\n",
    "\n",
    "- IDF: mede o quão informativa cada palavra é no conjunto de documentos\n",
    "    - Número de documentos / Número de vezes que uma palavra aparece em todos os documentos (1 ~ Número de documentos)\n",
    "    \n",
    "- TFIDF = TF * log(IDF)"
   ],
   "cell_type": "markdown",
   "metadata": {}
  },
  {
   "cell_type": "code",
   "execution_count": null,
   "metadata": {},
   "outputs": [],
   "source": []
  }
 ]
}