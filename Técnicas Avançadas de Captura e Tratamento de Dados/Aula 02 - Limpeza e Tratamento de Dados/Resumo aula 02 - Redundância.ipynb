{
 "metadata": {
  "language_info": {
   "codemirror_mode": {
    "name": "ipython",
    "version": 3
   },
   "file_extension": ".py",
   "mimetype": "text/x-python",
   "name": "python",
   "nbconvert_exporter": "python",
   "pygments_lexer": "ipython3",
   "version": "3.9.4"
  },
  "orig_nbformat": 2,
  "kernelspec": {
   "name": "python394jvsc74a57bd055421908667a225820f2cd05496734e43c3ddbc7d792b945edc730d5b93ba56f",
   "display_name": "Python 3.9.4 64-bit"
  },
  "metadata": {
   "interpreter": {
    "hash": "55421908667a225820f2cd05496734e43c3ddbc7d792b945edc730d5b93ba56f"
   }
  }
 },
 "nbformat": 4,
 "nbformat_minor": 2,
 "cells": [
  {
   "source": [
    "<h2>Tratamento e Limpeza de Dados</h2>\n",
    "\n",
    "<h3>Redundância</h3>\n",
    "\n",
    "- Valores duplicados\n",
    "- Fundo de imagens (por exemplo as imagens de cebolinha na primeira aula)\n",
    "- Sons de fundo que não possuem nenhuma informação relevante (áudio em branco)"
   ],
   "cell_type": "markdown",
   "metadata": {}
  },
  {
   "source": [
    "Método duplicated()\n",
    "\n",
    "- Retorna True quando há uma repetição\n",
    "- Caso nenhum parâmetro seja especificado, retorna os valores cuja linha toda é repetida\n",
    "\n",
    "- Parâmetro keep:\n",
    "    - False -> Faz com que sejam apresentadas todas as ocorrências repetidas\n",
    "        - Ou seja, irá mostrar também a ocorrência original\n",
    "    \n",
    "    - first (default) -> Mantém a primeira ocorrência e remove as demais\n",
    "\n",
    "    - last -> Mantém a última ocorrência e remove as demais"
   ],
   "cell_type": "markdown",
   "metadata": {}
  },
  {
   "cell_type": "code",
   "execution_count": 1,
   "metadata": {},
   "outputs": [
    {
     "output_type": "execute_result",
     "data": {
      "text/plain": [
       "Name                object\n",
       "Sex                 object\n",
       "Year of Birth        int64\n",
       "Country of Birth    object\n",
       "Religion            object\n",
       "City                object\n",
       "Profession          object\n",
       "Age                  int64\n",
       "Experience           int64\n",
       "Salary               int64\n",
       "dtype: object"
      ]
     },
     "metadata": {},
     "execution_count": 1
    }
   ],
   "source": [
    "import numpy as np\n",
    "import matplotlib.pyplot as plt\n",
    "import pandas as pd\n",
    "\n",
    "data = pd.read_csv(\"./dados/people_prof_relig.csv\")\n",
    "data.dtypes"
   ]
  },
  {
   "cell_type": "code",
   "execution_count": 3,
   "metadata": {},
   "outputs": [
    {
     "output_type": "execute_result",
     "data": {
      "text/plain": [
       "0     False\n",
       "1     False\n",
       "2     False\n",
       "3     False\n",
       "4     False\n",
       "      ...  \n",
       "95    False\n",
       "96    False\n",
       "97    False\n",
       "98    False\n",
       "99    False\n",
       "Length: 100, dtype: bool"
      ]
     },
     "metadata": {},
     "execution_count": 3
    }
   ],
   "source": [
    "data.duplicated()"
   ]
  },
  {
   "cell_type": "code",
   "execution_count": 4,
   "metadata": {},
   "outputs": [
    {
     "output_type": "execute_result",
     "data": {
      "text/plain": [
       "              Name Sex  Year of Birth Country of Birth   Religion       City  \\\n",
       "33  Apolonia Abler   F           1967           Canada  Christian  Vancouver   \n",
       "51    Carlos Cobre   M           1983           Brazil  Christian  São Paulo   \n",
       "61  Apolonia Abler   F           1967           Canada  Christian  Vancouver   \n",
       "68    Ricardo Rima   M           1977             Peru  Christian   Arequipa   \n",
       "\n",
       "   Profession  Age  Experience  Salary  \n",
       "33      Nurse   54          35    7141  \n",
       "51      Nurse   38          15    6300  \n",
       "61      Nurse   54          35    7141  \n",
       "68      Nurse   44          16    6677  "
      ],
      "text/html": "<div>\n<style scoped>\n    .dataframe tbody tr th:only-of-type {\n        vertical-align: middle;\n    }\n\n    .dataframe tbody tr th {\n        vertical-align: top;\n    }\n\n    .dataframe thead th {\n        text-align: right;\n    }\n</style>\n<table border=\"1\" class=\"dataframe\">\n  <thead>\n    <tr style=\"text-align: right;\">\n      <th></th>\n      <th>Name</th>\n      <th>Sex</th>\n      <th>Year of Birth</th>\n      <th>Country of Birth</th>\n      <th>Religion</th>\n      <th>City</th>\n      <th>Profession</th>\n      <th>Age</th>\n      <th>Experience</th>\n      <th>Salary</th>\n    </tr>\n  </thead>\n  <tbody>\n    <tr>\n      <th>33</th>\n      <td>Apolonia Abler</td>\n      <td>F</td>\n      <td>1967</td>\n      <td>Canada</td>\n      <td>Christian</td>\n      <td>Vancouver</td>\n      <td>Nurse</td>\n      <td>54</td>\n      <td>35</td>\n      <td>7141</td>\n    </tr>\n    <tr>\n      <th>51</th>\n      <td>Carlos Cobre</td>\n      <td>M</td>\n      <td>1983</td>\n      <td>Brazil</td>\n      <td>Christian</td>\n      <td>São Paulo</td>\n      <td>Nurse</td>\n      <td>38</td>\n      <td>15</td>\n      <td>6300</td>\n    </tr>\n    <tr>\n      <th>61</th>\n      <td>Apolonia Abler</td>\n      <td>F</td>\n      <td>1967</td>\n      <td>Canada</td>\n      <td>Christian</td>\n      <td>Vancouver</td>\n      <td>Nurse</td>\n      <td>54</td>\n      <td>35</td>\n      <td>7141</td>\n    </tr>\n    <tr>\n      <th>68</th>\n      <td>Ricardo Rima</td>\n      <td>M</td>\n      <td>1977</td>\n      <td>Peru</td>\n      <td>Christian</td>\n      <td>Arequipa</td>\n      <td>Nurse</td>\n      <td>44</td>\n      <td>16</td>\n      <td>6677</td>\n    </tr>\n  </tbody>\n</table>\n</div>"
     },
     "metadata": {},
     "execution_count": 4
    }
   ],
   "source": [
    "# mostra apenas as cópias\n",
    "data[data.duplicated()]"
   ]
  },
  {
   "cell_type": "code",
   "execution_count": 6,
   "metadata": {},
   "outputs": [
    {
     "output_type": "execute_result",
     "data": {
      "text/plain": [
       "              Name Sex  Year of Birth Country of Birth   Religion       City  \\\n",
       "13    Carlos Cobre   M           1983           Brazil  Christian  São Paulo   \n",
       "18    Ricardo Rima   M           1977             Peru  Christian   Arequipa   \n",
       "19  Apolonia Abler   F           1967           Canada  Christian  Vancouver   \n",
       "33  Apolonia Abler   F           1967           Canada  Christian  Vancouver   \n",
       "51    Carlos Cobre   M           1983           Brazil  Christian  São Paulo   \n",
       "61  Apolonia Abler   F           1967           Canada  Christian  Vancouver   \n",
       "68    Ricardo Rima   M           1977             Peru  Christian   Arequipa   \n",
       "\n",
       "   Profession  Age  Experience  Salary  \n",
       "13      Nurse   38          15    6300  \n",
       "18      Nurse   44          16    6677  \n",
       "19      Nurse   54          35    7141  \n",
       "33      Nurse   54          35    7141  \n",
       "51      Nurse   38          15    6300  \n",
       "61      Nurse   54          35    7141  \n",
       "68      Nurse   44          16    6677  "
      ],
      "text/html": "<div>\n<style scoped>\n    .dataframe tbody tr th:only-of-type {\n        vertical-align: middle;\n    }\n\n    .dataframe tbody tr th {\n        vertical-align: top;\n    }\n\n    .dataframe thead th {\n        text-align: right;\n    }\n</style>\n<table border=\"1\" class=\"dataframe\">\n  <thead>\n    <tr style=\"text-align: right;\">\n      <th></th>\n      <th>Name</th>\n      <th>Sex</th>\n      <th>Year of Birth</th>\n      <th>Country of Birth</th>\n      <th>Religion</th>\n      <th>City</th>\n      <th>Profession</th>\n      <th>Age</th>\n      <th>Experience</th>\n      <th>Salary</th>\n    </tr>\n  </thead>\n  <tbody>\n    <tr>\n      <th>13</th>\n      <td>Carlos Cobre</td>\n      <td>M</td>\n      <td>1983</td>\n      <td>Brazil</td>\n      <td>Christian</td>\n      <td>São Paulo</td>\n      <td>Nurse</td>\n      <td>38</td>\n      <td>15</td>\n      <td>6300</td>\n    </tr>\n    <tr>\n      <th>18</th>\n      <td>Ricardo Rima</td>\n      <td>M</td>\n      <td>1977</td>\n      <td>Peru</td>\n      <td>Christian</td>\n      <td>Arequipa</td>\n      <td>Nurse</td>\n      <td>44</td>\n      <td>16</td>\n      <td>6677</td>\n    </tr>\n    <tr>\n      <th>19</th>\n      <td>Apolonia Abler</td>\n      <td>F</td>\n      <td>1967</td>\n      <td>Canada</td>\n      <td>Christian</td>\n      <td>Vancouver</td>\n      <td>Nurse</td>\n      <td>54</td>\n      <td>35</td>\n      <td>7141</td>\n    </tr>\n    <tr>\n      <th>33</th>\n      <td>Apolonia Abler</td>\n      <td>F</td>\n      <td>1967</td>\n      <td>Canada</td>\n      <td>Christian</td>\n      <td>Vancouver</td>\n      <td>Nurse</td>\n      <td>54</td>\n      <td>35</td>\n      <td>7141</td>\n    </tr>\n    <tr>\n      <th>51</th>\n      <td>Carlos Cobre</td>\n      <td>M</td>\n      <td>1983</td>\n      <td>Brazil</td>\n      <td>Christian</td>\n      <td>São Paulo</td>\n      <td>Nurse</td>\n      <td>38</td>\n      <td>15</td>\n      <td>6300</td>\n    </tr>\n    <tr>\n      <th>61</th>\n      <td>Apolonia Abler</td>\n      <td>F</td>\n      <td>1967</td>\n      <td>Canada</td>\n      <td>Christian</td>\n      <td>Vancouver</td>\n      <td>Nurse</td>\n      <td>54</td>\n      <td>35</td>\n      <td>7141</td>\n    </tr>\n    <tr>\n      <th>68</th>\n      <td>Ricardo Rima</td>\n      <td>M</td>\n      <td>1977</td>\n      <td>Peru</td>\n      <td>Christian</td>\n      <td>Arequipa</td>\n      <td>Nurse</td>\n      <td>44</td>\n      <td>16</td>\n      <td>6677</td>\n    </tr>\n  </tbody>\n</table>\n</div>"
     },
     "metadata": {},
     "execution_count": 6
    }
   ],
   "source": [
    "# são apresentadas as cópias e o original\n",
    "data[data.duplicated(keep=False)]"
   ]
  },
  {
   "cell_type": "code",
   "execution_count": 7,
   "metadata": {},
   "outputs": [
    {
     "output_type": "execute_result",
     "data": {
      "text/plain": [
       "              Name Sex  Year of Birth Country of Birth   Religion       City  \\\n",
       "33  Apolonia Abler   F           1967           Canada  Christian  Vancouver   \n",
       "51    Carlos Cobre   M           1983           Brazil  Christian  São Paulo   \n",
       "61  Apolonia Abler   F           1967           Canada  Christian  Vancouver   \n",
       "68    Ricardo Rima   M           1977             Peru  Christian   Arequipa   \n",
       "\n",
       "   Profession  Age  Experience  Salary  \n",
       "33      Nurse   54          35    7141  \n",
       "51      Nurse   38          15    6300  \n",
       "61      Nurse   54          35    7141  \n",
       "68      Nurse   44          16    6677  "
      ],
      "text/html": "<div>\n<style scoped>\n    .dataframe tbody tr th:only-of-type {\n        vertical-align: middle;\n    }\n\n    .dataframe tbody tr th {\n        vertical-align: top;\n    }\n\n    .dataframe thead th {\n        text-align: right;\n    }\n</style>\n<table border=\"1\" class=\"dataframe\">\n  <thead>\n    <tr style=\"text-align: right;\">\n      <th></th>\n      <th>Name</th>\n      <th>Sex</th>\n      <th>Year of Birth</th>\n      <th>Country of Birth</th>\n      <th>Religion</th>\n      <th>City</th>\n      <th>Profession</th>\n      <th>Age</th>\n      <th>Experience</th>\n      <th>Salary</th>\n    </tr>\n  </thead>\n  <tbody>\n    <tr>\n      <th>33</th>\n      <td>Apolonia Abler</td>\n      <td>F</td>\n      <td>1967</td>\n      <td>Canada</td>\n      <td>Christian</td>\n      <td>Vancouver</td>\n      <td>Nurse</td>\n      <td>54</td>\n      <td>35</td>\n      <td>7141</td>\n    </tr>\n    <tr>\n      <th>51</th>\n      <td>Carlos Cobre</td>\n      <td>M</td>\n      <td>1983</td>\n      <td>Brazil</td>\n      <td>Christian</td>\n      <td>São Paulo</td>\n      <td>Nurse</td>\n      <td>38</td>\n      <td>15</td>\n      <td>6300</td>\n    </tr>\n    <tr>\n      <th>61</th>\n      <td>Apolonia Abler</td>\n      <td>F</td>\n      <td>1967</td>\n      <td>Canada</td>\n      <td>Christian</td>\n      <td>Vancouver</td>\n      <td>Nurse</td>\n      <td>54</td>\n      <td>35</td>\n      <td>7141</td>\n    </tr>\n    <tr>\n      <th>68</th>\n      <td>Ricardo Rima</td>\n      <td>M</td>\n      <td>1977</td>\n      <td>Peru</td>\n      <td>Christian</td>\n      <td>Arequipa</td>\n      <td>Nurse</td>\n      <td>44</td>\n      <td>16</td>\n      <td>6677</td>\n    </tr>\n  </tbody>\n</table>\n</div>"
     },
     "metadata": {},
     "execution_count": 7
    }
   ],
   "source": [
    "# aqui, percebe-se que é idêntico ao uso de data.duplicated() apenas\n",
    "data[data.duplicated(keep='first')]"
   ]
  },
  {
   "cell_type": "code",
   "execution_count": 9,
   "metadata": {},
   "outputs": [
    {
     "output_type": "execute_result",
     "data": {
      "text/plain": [
       "              Name Sex  Year of Birth Country of Birth   Religion       City  \\\n",
       "13    Carlos Cobre   M           1983           Brazil  Christian  São Paulo   \n",
       "18    Ricardo Rima   M           1977             Peru  Christian   Arequipa   \n",
       "19  Apolonia Abler   F           1967           Canada  Christian  Vancouver   \n",
       "33  Apolonia Abler   F           1967           Canada  Christian  Vancouver   \n",
       "\n",
       "   Profession  Age  Experience  Salary  \n",
       "13      Nurse   38          15    6300  \n",
       "18      Nurse   44          16    6677  \n",
       "19      Nurse   54          35    7141  \n",
       "33      Nurse   54          35    7141  "
      ],
      "text/html": "<div>\n<style scoped>\n    .dataframe tbody tr th:only-of-type {\n        vertical-align: middle;\n    }\n\n    .dataframe tbody tr th {\n        vertical-align: top;\n    }\n\n    .dataframe thead th {\n        text-align: right;\n    }\n</style>\n<table border=\"1\" class=\"dataframe\">\n  <thead>\n    <tr style=\"text-align: right;\">\n      <th></th>\n      <th>Name</th>\n      <th>Sex</th>\n      <th>Year of Birth</th>\n      <th>Country of Birth</th>\n      <th>Religion</th>\n      <th>City</th>\n      <th>Profession</th>\n      <th>Age</th>\n      <th>Experience</th>\n      <th>Salary</th>\n    </tr>\n  </thead>\n  <tbody>\n    <tr>\n      <th>13</th>\n      <td>Carlos Cobre</td>\n      <td>M</td>\n      <td>1983</td>\n      <td>Brazil</td>\n      <td>Christian</td>\n      <td>São Paulo</td>\n      <td>Nurse</td>\n      <td>38</td>\n      <td>15</td>\n      <td>6300</td>\n    </tr>\n    <tr>\n      <th>18</th>\n      <td>Ricardo Rima</td>\n      <td>M</td>\n      <td>1977</td>\n      <td>Peru</td>\n      <td>Christian</td>\n      <td>Arequipa</td>\n      <td>Nurse</td>\n      <td>44</td>\n      <td>16</td>\n      <td>6677</td>\n    </tr>\n    <tr>\n      <th>19</th>\n      <td>Apolonia Abler</td>\n      <td>F</td>\n      <td>1967</td>\n      <td>Canada</td>\n      <td>Christian</td>\n      <td>Vancouver</td>\n      <td>Nurse</td>\n      <td>54</td>\n      <td>35</td>\n      <td>7141</td>\n    </tr>\n    <tr>\n      <th>33</th>\n      <td>Apolonia Abler</td>\n      <td>F</td>\n      <td>1967</td>\n      <td>Canada</td>\n      <td>Christian</td>\n      <td>Vancouver</td>\n      <td>Nurse</td>\n      <td>54</td>\n      <td>35</td>\n      <td>7141</td>\n    </tr>\n  </tbody>\n</table>\n</div>"
     },
     "metadata": {},
     "execution_count": 9
    }
   ],
   "source": [
    "# vê-se que é mantido apenas o último registro\n",
    "data[data.duplicated(keep='last')]"
   ]
  },
  {
   "source": [
    "<h4>Remoção de duplicados</h4>\n",
    "\n",
    "Basta utilizar o método drop_duplicates(keep = parâmetro)"
   ],
   "cell_type": "markdown",
   "metadata": {}
  },
  {
   "cell_type": "code",
   "execution_count": 10,
   "metadata": {},
   "outputs": [
    {
     "output_type": "execute_result",
     "data": {
      "text/plain": [
       "Empty DataFrame\n",
       "Columns: [Name, Sex, Year of Birth, Country of Birth, Religion, City, Profession, Age, Experience, Salary]\n",
       "Index: []"
      ],
      "text/html": "<div>\n<style scoped>\n    .dataframe tbody tr th:only-of-type {\n        vertical-align: middle;\n    }\n\n    .dataframe tbody tr th {\n        vertical-align: top;\n    }\n\n    .dataframe thead th {\n        text-align: right;\n    }\n</style>\n<table border=\"1\" class=\"dataframe\">\n  <thead>\n    <tr style=\"text-align: right;\">\n      <th></th>\n      <th>Name</th>\n      <th>Sex</th>\n      <th>Year of Birth</th>\n      <th>Country of Birth</th>\n      <th>Religion</th>\n      <th>City</th>\n      <th>Profession</th>\n      <th>Age</th>\n      <th>Experience</th>\n      <th>Salary</th>\n    </tr>\n  </thead>\n  <tbody>\n  </tbody>\n</table>\n</div>"
     },
     "metadata": {},
     "execution_count": 10
    }
   ],
   "source": [
    "d_ndup = data.drop_duplicates(keep='first')\n",
    "\n",
    "d_ndup[d_ndup.duplicated()]"
   ]
  },
  {
   "source": [
    "<h4>Duplicidade em Atributos</h4>\n",
    "\n",
    "Podemos também verificar a duplicidade de forma direcionada aos atributos em específico\n",
    "\n",
    "Sintaxe: data.duplicated(\\['atributo desejado'\\], keep = ...)"
   ],
   "cell_type": "markdown",
   "metadata": {}
  },
  {
   "cell_type": "code",
   "execution_count": 16,
   "metadata": {},
   "outputs": [],
   "source": [
    "nomes_duplciados = d_ndup.duplicated(['Name'], keep=False)"
   ]
  },
  {
   "cell_type": "code",
   "execution_count": 17,
   "metadata": {},
   "outputs": [
    {
     "output_type": "execute_result",
     "data": {
      "text/plain": [
       "              Name Sex  Year of Birth Country of Birth   Religion       City  \\\n",
       "19  Apolonia Abler   F           1967           Canada  Christian  Vancouver   \n",
       "93  Apolonia Abler   F           1967        Australia  Christian   Brisbane   \n",
       "\n",
       "   Profession  Age  Experience  Salary  \n",
       "19      Nurse   54          35    7141  \n",
       "93      Nurse   54          23    5496  "
      ],
      "text/html": "<div>\n<style scoped>\n    .dataframe tbody tr th:only-of-type {\n        vertical-align: middle;\n    }\n\n    .dataframe tbody tr th {\n        vertical-align: top;\n    }\n\n    .dataframe thead th {\n        text-align: right;\n    }\n</style>\n<table border=\"1\" class=\"dataframe\">\n  <thead>\n    <tr style=\"text-align: right;\">\n      <th></th>\n      <th>Name</th>\n      <th>Sex</th>\n      <th>Year of Birth</th>\n      <th>Country of Birth</th>\n      <th>Religion</th>\n      <th>City</th>\n      <th>Profession</th>\n      <th>Age</th>\n      <th>Experience</th>\n      <th>Salary</th>\n    </tr>\n  </thead>\n  <tbody>\n    <tr>\n      <th>19</th>\n      <td>Apolonia Abler</td>\n      <td>F</td>\n      <td>1967</td>\n      <td>Canada</td>\n      <td>Christian</td>\n      <td>Vancouver</td>\n      <td>Nurse</td>\n      <td>54</td>\n      <td>35</td>\n      <td>7141</td>\n    </tr>\n    <tr>\n      <th>93</th>\n      <td>Apolonia Abler</td>\n      <td>F</td>\n      <td>1967</td>\n      <td>Australia</td>\n      <td>Christian</td>\n      <td>Brisbane</td>\n      <td>Nurse</td>\n      <td>54</td>\n      <td>23</td>\n      <td>5496</td>\n    </tr>\n  </tbody>\n</table>\n</div>"
     },
     "metadata": {},
     "execution_count": 17
    }
   ],
   "source": [
    "d_ndup[nomes_duplciados]"
   ]
  },
  {
   "source": [
    "<h4>Atributos Constantes</h4>\n",
    "\n",
    "Para facilitar esse trabalho, podemos utilizar 'unique', retornando os valores únicos e 'nunique' para verificar a contagem de valores únicos na coluna"
   ],
   "cell_type": "markdown",
   "metadata": {}
  },
  {
   "cell_type": "code",
   "execution_count": 18,
   "metadata": {},
   "outputs": [
    {
     "output_type": "execute_result",
     "data": {
      "text/plain": [
       "95"
      ]
     },
     "metadata": {},
     "execution_count": 18
    }
   ],
   "source": [
    "d_ndup['Name'].nunique()"
   ]
  },
  {
   "cell_type": "code",
   "execution_count": 20,
   "metadata": {},
   "outputs": [
    {
     "output_type": "stream",
     "name": "stdout",
     "text": [
      "['Religion' 'Profession']\n"
     ]
    }
   ],
   "source": [
    "# aqui, iremos montar um array com as colunas que apresentam atributos constantes, sendo eles religião e profissão\n",
    "att_const = np.array(d_ndup.columns[d_ndup.nunique() <= 1])\n",
    "\n",
    "print(att_const)"
   ]
  },
  {
   "source": [
    "Remoção dos atributos constantes, para favorecer a leitura dos dados:\n",
    "\n",
    "data.drop(atributos_constantes, axis=1) -> aqui, devemos especificar que trata-se de colunas a serem removidas, caso contrário, será executado nas linhas"
   ],
   "cell_type": "markdown",
   "metadata": {}
  },
  {
   "cell_type": "code",
   "execution_count": 21,
   "metadata": {},
   "outputs": [],
   "source": [
    "data_not_const = d_ndup.drop(att_const, axis=1)"
   ]
  },
  {
   "cell_type": "code",
   "execution_count": 27,
   "metadata": {},
   "outputs": [
    {
     "output_type": "execute_result",
     "data": {
      "text/plain": [
       "                Name Sex  Year of Birth Country of Birth         City  Age  \\\n",
       "97    Margaret Keith   F           1970              USA  New Orleans   51   \n",
       "64    Jeannette Lowe   F           1972            Spain     Valencia   49   \n",
       "20  Willene Wolfgram   F           1997              USA  New Orleans   24   \n",
       "92       Norah Carey   F           1961         Scotland    Edinburgh   60   \n",
       "45  Michele Fletcher   F           1965         Scotland    Edinburgh   56   \n",
       "\n",
       "    Experience  Salary  \n",
       "97          18    2917  \n",
       "64          18    2296  \n",
       "20           1    5196  \n",
       "92          38    1785  \n",
       "45          24    7599  "
      ],
      "text/html": "<div>\n<style scoped>\n    .dataframe tbody tr th:only-of-type {\n        vertical-align: middle;\n    }\n\n    .dataframe tbody tr th {\n        vertical-align: top;\n    }\n\n    .dataframe thead th {\n        text-align: right;\n    }\n</style>\n<table border=\"1\" class=\"dataframe\">\n  <thead>\n    <tr style=\"text-align: right;\">\n      <th></th>\n      <th>Name</th>\n      <th>Sex</th>\n      <th>Year of Birth</th>\n      <th>Country of Birth</th>\n      <th>City</th>\n      <th>Age</th>\n      <th>Experience</th>\n      <th>Salary</th>\n    </tr>\n  </thead>\n  <tbody>\n    <tr>\n      <th>97</th>\n      <td>Margaret Keith</td>\n      <td>F</td>\n      <td>1970</td>\n      <td>USA</td>\n      <td>New Orleans</td>\n      <td>51</td>\n      <td>18</td>\n      <td>2917</td>\n    </tr>\n    <tr>\n      <th>64</th>\n      <td>Jeannette Lowe</td>\n      <td>F</td>\n      <td>1972</td>\n      <td>Spain</td>\n      <td>Valencia</td>\n      <td>49</td>\n      <td>18</td>\n      <td>2296</td>\n    </tr>\n    <tr>\n      <th>20</th>\n      <td>Willene Wolfgram</td>\n      <td>F</td>\n      <td>1997</td>\n      <td>USA</td>\n      <td>New Orleans</td>\n      <td>24</td>\n      <td>1</td>\n      <td>5196</td>\n    </tr>\n    <tr>\n      <th>92</th>\n      <td>Norah Carey</td>\n      <td>F</td>\n      <td>1961</td>\n      <td>Scotland</td>\n      <td>Edinburgh</td>\n      <td>60</td>\n      <td>38</td>\n      <td>1785</td>\n    </tr>\n    <tr>\n      <th>45</th>\n      <td>Michele Fletcher</td>\n      <td>F</td>\n      <td>1965</td>\n      <td>Scotland</td>\n      <td>Edinburgh</td>\n      <td>56</td>\n      <td>24</td>\n      <td>7599</td>\n    </tr>\n  </tbody>\n</table>\n</div>"
     },
     "metadata": {},
     "execution_count": 27
    }
   ],
   "source": [
    "# o método sample seleciona dados aleatórios\n",
    "data_not_const.sample(5)"
   ]
  },
  {
   "source": [
    "<h4>Atributos Correlacionados</h4>\n",
    "\n",
    "Alguns atributos podem estar fortemente correlacionados a outros, ou seja, os 'explicam' de modo importante. Desse modo, é importante para a análise e o tratamento desses dados que sejam identificadas as corretas correlações. Para tal, podemos utilizar o método **corr()**, que apresenta o grau de correlação entre os pares de atributos de um dataframe\n",
    "\n",
    "Analisando a correlação:\n",
    "\n",
    "-1: inversamente correlacionado\n",
    "\n",
    "0: totalmente sem correlação\n",
    "\n",
    "1: diretamente correlacionado "
   ],
   "cell_type": "markdown",
   "metadata": {}
  },
  {
   "cell_type": "code",
   "execution_count": 29,
   "metadata": {},
   "outputs": [
    {
     "output_type": "stream",
     "name": "stdout",
     "text": [
      "               Year of Birth       Age  Experience    Salary\nYear of Birth       1.000000 -1.000000   -0.908208 -0.362197\nAge                -1.000000  1.000000    0.908208  0.362197\nExperience         -0.908208  0.908208    1.000000  0.432904\nSalary             -0.362197  0.362197    0.432904  1.000000\n"
     ]
    }
   ],
   "source": [
    "matriz_correlacionamento = data_not_const.corr()\n",
    "\n",
    "print(matriz_correlacionamento)"
   ]
  },
  {
   "source": [
    "Entendendo a matriz de correlação:\n",
    "\n",
    "- Diagonal principal igual a 1 (pois correlaciona um atributo a ele mesmo / Aii = 1)\n",
    "- Simétrica (Aij = Aji)"
   ],
   "cell_type": "markdown",
   "metadata": {}
  },
  {
   "source": [
    "Desse modo, podemos utilizar o seguinte, para favorecer a análise:\n",
    "\n",
    "- Utilizar o módulo dos valores (para não utilizar valores negativos)\n",
    "- Utilizar apenas a matriz triangular superior, exclusa a diagonal principal (Aij | j>i)"
   ],
   "cell_type": "markdown",
   "metadata": {}
  },
  {
   "cell_type": "code",
   "execution_count": 31,
   "metadata": {},
   "outputs": [
    {
     "output_type": "stream",
     "name": "stdout",
     "text": [
      "               Year of Birth       Age  Experience    Salary\nYear of Birth       1.000000  1.000000    0.908208  0.362197\nAge                 1.000000  1.000000    0.908208  0.362197\nExperience          0.908208  0.908208    1.000000  0.432904\nSalary              0.362197  0.362197    0.432904  1.000000\n"
     ]
    }
   ],
   "source": [
    "matriz_correlacionamento = np.abs(matriz_correlacionamento)\n",
    "\n",
    "print(matriz_correlacionamento)"
   ]
  },
  {
   "cell_type": "code",
   "execution_count": 32,
   "metadata": {},
   "outputs": [
    {
     "output_type": "stream",
     "name": "stdout",
     "text": [
      "[[False  True  True  True]\n",
      " [False False  True  True]\n",
      " [False False False  True]\n",
      " [False False False False]]\n",
      "<ipython-input-32-efe02f2c650d>:1: DeprecationWarning: `np.bool` is a deprecated alias for the builtin `bool`. To silence this warning, use `bool` by itself. Doing this will not modify any behavior and is safe. If you specifically wanted the numpy scalar type, use `np.bool_` here.\n",
      "Deprecated in NumPy 1.20; for more details and guidance: https://numpy.org/devdocs/release/1.20.0-notes.html#deprecations\n",
      "  mask_tri = np.triu(np.ones(matriz_correlacionamento.shape), k=1).astype(np.bool)\n"
     ]
    }
   ],
   "source": [
    "# o parâmetro k=1 deixa a diagonal principal exclusa da matriz triangular formada\n",
    "mask_tri = np.triu(np.ones(matriz_correlacionamento.shape), k=1).astype(np.bool)\n",
    "print(mask_tri)"
   ]
  },
  {
   "cell_type": "code",
   "execution_count": 36,
   "metadata": {},
   "outputs": [
    {
     "output_type": "stream",
     "name": "stdout",
     "text": [
      "               Year of Birth  Age  Experience    Salary\nYear of Birth            NaN  1.0    0.908208  0.362197\nAge                      NaN  NaN    0.908208  0.362197\nExperience               NaN  NaN         NaN  0.432904\nSalary                   NaN  NaN         NaN       NaN\n"
     ]
    }
   ],
   "source": [
    "triangular_superior = matriz_correlacionamento.where(mask_tri)\n",
    "\n",
    "print(triangular_superior)"
   ]
  },
  {
   "source": [
    "Atributos com alta correlação apresentam ao menos corr >= 0.95"
   ],
   "cell_type": "markdown",
   "metadata": {}
  },
  {
   "cell_type": "code",
   "execution_count": 37,
   "metadata": {},
   "outputs": [
    {
     "output_type": "stream",
     "name": "stdout",
     "text": [
      "['Age']\n"
     ]
    }
   ],
   "source": [
    "atributos_alta_corr = [col for col in triangular_superior.columns if any(triangular_superior[col] >= 0.95)]\n",
    "\n",
    "print(atributos_alta_corr)"
   ]
  },
  {
   "source": [
    "Agora, podemos limpar os atributos com alta correlação, afinal, se pararmos para pensar, em um grande volume de dados, possuir idade e o ano de nascimento são apenas bytes consumidos e que não agregam quaisquer valor à análise de dados"
   ],
   "cell_type": "markdown",
   "metadata": {}
  },
  {
   "cell_type": "code",
   "execution_count": 38,
   "metadata": {},
   "outputs": [],
   "source": [
    "data_clean = data_not_const.drop(data_not_const[atributos_alta_corr], axis=1)"
   ]
  },
  {
   "cell_type": "code",
   "execution_count": 40,
   "metadata": {},
   "outputs": [
    {
     "output_type": "execute_result",
     "data": {
      "text/plain": [
       "              Name Sex  Year of Birth Country of Birth         City  \\\n",
       "81   Izaiah Duarte   M           1997           Brazil    São Paulo   \n",
       "31   Albert Keller   M           1979              USA  New Orleans   \n",
       "59  Virgil Griffin   M           1966           Canada    Vancouver   \n",
       "46   Brad Ferguson   M           1985              USA  New Orleans   \n",
       "38    Archie Hogan   M           1976         Scotland    Edinburgh   \n",
       "\n",
       "    Experience  Salary  \n",
       "81           4    3833  \n",
       "31          19    1297  \n",
       "59          26    4152  \n",
       "46           2    2197  \n",
       "38          12     404  "
      ],
      "text/html": "<div>\n<style scoped>\n    .dataframe tbody tr th:only-of-type {\n        vertical-align: middle;\n    }\n\n    .dataframe tbody tr th {\n        vertical-align: top;\n    }\n\n    .dataframe thead th {\n        text-align: right;\n    }\n</style>\n<table border=\"1\" class=\"dataframe\">\n  <thead>\n    <tr style=\"text-align: right;\">\n      <th></th>\n      <th>Name</th>\n      <th>Sex</th>\n      <th>Year of Birth</th>\n      <th>Country of Birth</th>\n      <th>City</th>\n      <th>Experience</th>\n      <th>Salary</th>\n    </tr>\n  </thead>\n  <tbody>\n    <tr>\n      <th>81</th>\n      <td>Izaiah Duarte</td>\n      <td>M</td>\n      <td>1997</td>\n      <td>Brazil</td>\n      <td>São Paulo</td>\n      <td>4</td>\n      <td>3833</td>\n    </tr>\n    <tr>\n      <th>31</th>\n      <td>Albert Keller</td>\n      <td>M</td>\n      <td>1979</td>\n      <td>USA</td>\n      <td>New Orleans</td>\n      <td>19</td>\n      <td>1297</td>\n    </tr>\n    <tr>\n      <th>59</th>\n      <td>Virgil Griffin</td>\n      <td>M</td>\n      <td>1966</td>\n      <td>Canada</td>\n      <td>Vancouver</td>\n      <td>26</td>\n      <td>4152</td>\n    </tr>\n    <tr>\n      <th>46</th>\n      <td>Brad Ferguson</td>\n      <td>M</td>\n      <td>1985</td>\n      <td>USA</td>\n      <td>New Orleans</td>\n      <td>2</td>\n      <td>2197</td>\n    </tr>\n    <tr>\n      <th>38</th>\n      <td>Archie Hogan</td>\n      <td>M</td>\n      <td>1976</td>\n      <td>Scotland</td>\n      <td>Edinburgh</td>\n      <td>12</td>\n      <td>404</td>\n    </tr>\n  </tbody>\n</table>\n</div>"
     },
     "metadata": {},
     "execution_count": 40
    }
   ],
   "source": [
    "data_clean.sample(5)"
   ]
  },
  {
   "cell_type": "code",
   "execution_count": 54,
   "metadata": {},
   "outputs": [
    {
     "output_type": "stream",
     "name": "stdout",
     "text": [
      "<class 'pandas.core.frame.DataFrame'>\nRangeIndex: 100 entries, 0 to 99\nData columns (total 10 columns):\n #   Column            Non-Null Count  Dtype \n---  ------            --------------  ----- \n 0   Name              100 non-null    object\n 1   Sex               100 non-null    object\n 2   Year of Birth     100 non-null    int64 \n 3   Country of Birth  100 non-null    object\n 4   Religion          100 non-null    object\n 5   City              100 non-null    object\n 6   Profession        100 non-null    object\n 7   Age               100 non-null    int64 \n 8   Experience        100 non-null    int64 \n 9   Salary            100 non-null    int64 \ndtypes: int64(4), object(6)\nmemory usage: 7.9+ KB\n"
     ]
    }
   ],
   "source": [
    "data.info()"
   ]
  },
  {
   "cell_type": "code",
   "execution_count": 47,
   "metadata": {},
   "outputs": [
    {
     "output_type": "stream",
     "name": "stdout",
     "text": [
      "<class 'pandas.core.frame.DataFrame'>\nInt64Index: 96 entries, 0 to 99\nData columns (total 7 columns):\n #   Column            Non-Null Count  Dtype \n---  ------            --------------  ----- \n 0   Name              96 non-null     object\n 1   Sex               96 non-null     object\n 2   Year of Birth     96 non-null     int64 \n 3   Country of Birth  96 non-null     object\n 4   City              96 non-null     object\n 5   Experience        96 non-null     int64 \n 6   Salary            96 non-null     int64 \ndtypes: int64(3), object(4)\nmemory usage: 8.1+ KB\n"
     ]
    }
   ],
   "source": [
    "data_clean.info()"
   ]
  }
 ]
}