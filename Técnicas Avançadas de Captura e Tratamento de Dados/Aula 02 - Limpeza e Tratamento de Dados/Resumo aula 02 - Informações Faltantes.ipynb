{
 "metadata": {
  "language_info": {
   "codemirror_mode": {
    "name": "ipython",
    "version": 3
   },
   "file_extension": ".py",
   "mimetype": "text/x-python",
   "name": "python",
   "nbconvert_exporter": "python",
   "pygments_lexer": "ipython3",
   "version": 3
  },
  "orig_nbformat": 2
 },
 "nbformat": 4,
 "nbformat_minor": 2,
 "cells": [
  {
   "source": [
    "### Informações Faltantes ###\n",
    "\n",
    "- Dados faltantes: representados por NaN\n",
    "- Dados errôneos: requer uma análise das informações (ex: pessoa com o mesmo tempo de experiência de trabalho que sua idade)\n",
    "\n",
    "Após isso, existem duas opções:\n",
    "\n",
    "- Remover as linhas com valores faltantes\n",
    "- Preencher os valores com algum método"
   ],
   "cell_type": "markdown",
   "metadata": {}
  },
  {
   "source": [
    "Em nosso exemplo, iremos utilizar dois métodos:\n",
    "\n",
    "- Classificar a base de dados para predizer a **cidade** com base em:\n",
    "    - imposto\n",
    "    - valor total\n",
    "    - valor do seguro\n",
    "\n",
    "- Regressão do total de **aluguel** com base em:\n",
    "    - área\n",
    "    - número de quartos\n",
    "    - andar\n",
    "    - tipo\n",
    "    - número de vagas na garagem\n",
    "    - número de banheiros"
   ],
   "cell_type": "markdown",
   "metadata": {}
  }
 ]
}