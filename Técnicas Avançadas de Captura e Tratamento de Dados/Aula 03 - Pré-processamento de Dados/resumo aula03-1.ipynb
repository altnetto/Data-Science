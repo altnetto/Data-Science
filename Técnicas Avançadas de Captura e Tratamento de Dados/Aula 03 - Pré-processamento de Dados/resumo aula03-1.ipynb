{
 "metadata": {
  "language_info": {
   "codemirror_mode": {
    "name": "ipython",
    "version": 3
   },
   "file_extension": ".py",
   "mimetype": "text/x-python",
   "name": "python",
   "nbconvert_exporter": "python",
   "pygments_lexer": "ipython3",
   "version": 3
  },
  "orig_nbformat": 2
 },
 "nbformat": 4,
 "nbformat_minor": 2,
 "cells": [
  {
   "source": [
    "### Coleta de Dados ###\n",
    "\n",
    "- (E)xtract, (T)ransform, (L)oad\n",
    "    - método comumente utilizado em data warehouses\n",
    "    - Extract: aquisição dos Dados\n",
    "    - Transforma: tratamento, limpeza e adequação dos dados\n",
    "    - Load: Armazenar os dados\n",
    "\n",
    "- Pontos importantes\n",
    "    - Limitações éticas e legais\n",
    "    - Projetar a Coleta\n",
    "        - Quais dados, tipos e como os coletar\n",
    "        - Quanto tempo para a coleta\n",
    "        - Amostragem necessária\n",
    "\n",
    "    - Tempo de implementação"
   ],
   "cell_type": "markdown",
   "metadata": {}
  },
  {
   "source": [
    "#### Limitações Éticas e Legais ####\n",
    "\n",
    "- GDPR: União Europeia\n",
    "\n",
    "- LGPD: Brasil (regulamentada pela Autoridade Nacional de Proteção de Dados - ANPD)\n",
    "\n",
    "- Caso a pesquisa tenha sido realizada com humanos, deve-se passar pelo **Comitê de Ética em Pesquisa**, alguns deles sendo:\n",
    "    - UFSCar\n",
    "    - EACH/USP\n",
    "    - Unifesp\n",
    "    - Unicamp"
   ],
   "cell_type": "markdown",
   "metadata": {}
  },
  {
   "source": [
    "#### Planejando a Coleta de Dados ####\n",
    "\n",
    "- Como Coletar?\n",
    "    - Scripts de rastreamento (websites)\n",
    "    - Google Forms\n",
    "    - Sistemas de coletas de Dados\n",
    "        - aplicativo dedicado\n",
    "        - jogos (sérios) ou via gamificação\n",
    "        - redes sociais\n",
    "\n",
    "- O que coletar?\n",
    "    - depende da pergunta que desejamos responder\n",
    "    - quando relacionados a um sistema, é útil listar todas as features do produto ou serviço\n",
    "    - em negócios: listar os interessados (produto, engenharia, marketing, vendas)\n",
    "        - relevante se os dados serão utilizados para KPIs\n",
    "\n",
    "- Projetar a coleta\n",
    "    - tipos de dados, valores possíveis e como verificar a integridade\n",
    "    - entrevistar voluntários e envolvidos\n",
    "    - realizar brainstormings e workshops\n",
    "    - plataformas de coleta:\n",
    "        - rastreamento/tracking (transparente)\n",
    "        - questionário online (explícito, digital)\n",
    "        - questionário em papel (explícito, não digital)\n",
    "\n",
    "- Realizar a coleta\n",
    "    - estudo piloto para testar a coleta\n",
    "    - acompanhar a coleta, evitando perda de dados\n",
    "    - no caso da coleta em papel, recomenda-se dupla digitação, com verificação de erros\n",
    "\n"
   ],
   "cell_type": "markdown",
   "metadata": {}
  },
  {
   "source": [
    "#### Viés em bases de dados ####\n",
    "\n",
    "- Good data > Big data\n",
    "\n",
    "- Fontes mais comuns\n",
    "    - Poucos dados\n",
    "        - leva a evidências anedotais\n",
    "\n",
    "    - Viés de medida\n",
    "        - uso de um instrumento errado\n",
    "        - pergunta feita da forma errada\n",
    "            - lembrar as fontes de dados omissos\n",
    "\n",
    "    - Viés da amostragem\n",
    "        - considerado o mais perigoso\n",
    "        - Amostragem deve contemplar IID (independente e identicamente distribuída)\n",
    "            - evitar amostra de conveniência (apenas num ponto)\n",
    "\n",
    "\n",
    "- Tipos de Amostragem\n",
    "\n",
    "    - Simples: amostras aleatórias numa grande população\n",
    "\n",
    "    - Estratificada: gerar estratos, onde irá se realizar amostragens aleatórias dentro\n",
    "\n",
    "    - Agrupada: gerar clusters e, a partir da seleção/sorteio de clusters, podemos gerar amostras"
   ],
   "cell_type": "markdown",
   "metadata": {}
  }
 ]
}